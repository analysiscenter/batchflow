{
 "cells": [
  {
   "cell_type": "markdown",
   "metadata": {},
   "source": [
    "# Hello and welcome to BatchFlow tutorials!\n",
    "These tutorials are intended to help you obtain a good working knowledge of how to use BatchFlow library. Start slow without a rush and soon you'll be able to create flexible machine learning pipelines.\n",
    "\n",
    "0. [A BatchFlow project from scratch](./00_project_from_scratch.ipynb). A detailed notebook that includes most of the BatchFlow functionality, described below. In this example, you will learn how to solve an image classification task.\n",
    "0. [Batch operations](./01_batch_operations.ipynb) - a short guide on how to obtain a batch flow.\n",
    "0. [Pipeline operations](./02_pipeline_operations.ipynb) - pipelines how to.\n",
    "0. [Train a ready to use PyTorch model](./03_ready_to_use_model_torch.ipynb). A fast intro into how to create and train ready to use models like ResNet, VGG and [many others](https://analysiscenter.github.io/batchflow/intro/model_zoo_torch.html).\n",
    "0. [Working with images](./04_image_augmentation.ipynb). How to augment images with ImagesBatch actions.\n",
    "0. [Sampling from complex distributions](./05_sampler.ipynb). How to combine and restrict multiple distributions into desired mixture.\n",
    "0. [Profiling the pipeline execution](./06_profiling.ipynb). Get the detailed information about each action execution time over the run.\n",
    "0. [Tracking the pipeline execution](./07_tracking.ipynb). Display a rich progress bar to the notebook, log-file or even Telegram to know exactly what is happening to your experiment run.\n",
    "\n",
    "Also you might be interested in [the experiments](./../experiments/experiments.ipynb).\n",
    "\n",
    "For more advanced techniques on how to use the BatchFlow take a look at [cardio](https://github.com/analysiscenter/cardio/blob/master/tutorials) and [radio](https://github.com/analysiscenter/radio/blob/master/tutorials) frameworks."
   ]
  }
 ],
 "metadata": {
  "kernelspec": {
   "display_name": "Python 3",
   "language": "python",
   "name": "python3"
  },
  "language_info": {
   "codemirror_mode": {
    "name": "ipython",
    "version": 3
   },
   "file_extension": ".py",
   "mimetype": "text/x-python",
   "name": "python",
   "nbconvert_exporter": "python",
   "pygments_lexer": "ipython3",
   "version": "3.5.2"
  }
 },
 "nbformat": 4,
 "nbformat_minor": 2
}
