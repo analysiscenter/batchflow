{
 "cells": [
  {
   "cell_type": "markdown",
   "metadata": {},
   "source": [
    "# Update domain in Research"
   ]
  },
  {
   "cell_type": "markdown",
   "metadata": {},
   "source": [
    "Sometimes one needs to change the domain of parameters during `Research` execution. `update_domain` method helps to do that."
   ]
  },
  {
   "cell_type": "markdown",
   "metadata": {},
   "source": [
    "We start with some useful imports and constant definitions"
   ]
  },
  {
   "cell_type": "code",
   "execution_count": 1,
   "metadata": {},
   "outputs": [],
   "source": [
    "import sys\n",
    "import os\n",
    "import shutil\n",
    "\n",
    "import numpy as np\n",
    "import matplotlib\n",
    "%matplotlib inline"
   ]
  },
  {
   "cell_type": "code",
   "execution_count": 2,
   "metadata": {},
   "outputs": [],
   "source": [
    "sys.path.append('../../..')\n",
    "\n",
    "from batchflow import Pipeline, B, C, V, D, F\n",
    "from batchflow.opensets import CIFAR10\n",
    "from batchflow.models.torch import VGG7, VGG16, ResNet18\n",
    "from batchflow.research import Research, Domain, E, R, get_metrics"
   ]
  },
  {
   "cell_type": "code",
   "execution_count": 3,
   "metadata": {},
   "outputs": [],
   "source": [
    "BATCH_SIZE = 64\n",
    "\n",
    "ds = CIFAR10()"
   ]
  },
  {
   "cell_type": "markdown",
   "metadata": {},
   "source": [
    "Let us solve the following problem: for one epoch we will train three models: VGG7, VGG16 and ResNet18, then we will choose the best model with the highest test accuracy and finally will train it for 10 epochs. Define pipelines where we will change `'model'` and `'n_epochs'`."
   ]
  },
  {
   "cell_type": "code",
   "execution_count": 4,
   "metadata": {},
   "outputs": [],
   "source": [
    "model_config={\n",
    "    'inputs/images/shape': B('image_shape'),\n",
    "    'inputs/labels/classes': D('num_classes'),\n",
    "    'inputs/labels/name': 'targets',\n",
    "    'initial_block/inputs': 'images'\n",
    "}"
   ]
  },
  {
   "cell_type": "code",
   "execution_count": 5,
   "metadata": {},
   "outputs": [],
   "source": [
    "train_pipeline = (ds.train.p\n",
    "    .init_variable('loss')\n",
    "    .init_model('conv', C('model'), 'dynamic', config=model_config)\n",
    "    .to_array(dtype='float32')\n",
    "    .train_model('conv', B('images'), B('labels'),\n",
    "                 fetches='loss', save_to=V('loss', mode='w'))\n",
    "    .run_later(batch_size=BATCH_SIZE, n_epochs=C('n_epochs'))\n",
    ")\n",
    "\n",
    "test_pipeline = (ds.test.p\n",
    "    .init_variable('predictions')\n",
    "    .init_variable('metrics')\n",
    "    .import_model('conv', C('import_from'))\n",
    "    .to_array(dtype='float32')\n",
    "    .predict_model('conv', B('images'),\n",
    "                   fetches='predictions', save_to=V('predictions'))\n",
    "    .gather_metrics('class', targets=B('labels'), predictions=V('predictions'), \n",
    "                    fmt='logits', axis=-1, save_to=V('metrics', mode='a'))\n",
    "    .run_later(batch_size=BATCH_SIZE, n_epochs=1)\n",
    ")"
   ]
  },
  {
   "cell_type": "markdown",
   "metadata": {},
   "source": [
    "Firstly, define initial domain."
   ]
  },
  {
   "cell_type": "code",
   "execution_count": 6,
   "metadata": {},
   "outputs": [],
   "source": [
    "domain = Domain(model=[VGG7, VGG16, ResNet18], n_epochs=[1])"
   ]
  },
  {
   "cell_type": "markdown",
   "metadata": {},
   "source": [
    "To update domain we can define some function which return new `domain` or `None` if domain will not be updated. In our case funtion `update_domain` accepts research results as `pandas.DataFrame`, takes model with the highest accuracy and create new domain with that model and `n_epochs=2`."
   ]
  },
  {
   "cell_type": "code",
   "execution_count": 7,
   "metadata": {},
   "outputs": [],
   "source": [
    "def update_domain(results):\n",
    "    results = results.to_df(pivot=True, use_alias=False)\n",
    "    best_model = results.iloc[results['accuracy'].idxmax()].model\n",
    "    domain = Domain(model=[best_model], n_epochs=[10])\n",
    "    return domain"
   ]
  },
  {
   "cell_type": "markdown",
   "metadata": {},
   "source": [
    "We add update function into research as a parameter of `update_domain` function. `when` parameter defines how often function will be applied. If `when='last'`, update function will be applied when current domain will be exhausted. All other parameters are used as `kwargs` for `update_domain` function."
   ]
  },
  {
   "cell_type": "code",
   "execution_count": 8,
   "metadata": {},
   "outputs": [
    {
     "name": "stderr",
     "output_type": "stream",
     "text": [
      "100%|██████████| 4/4 [06:10<00:00, 92.68s/it]\n"
     ]
    },
    {
     "data": {
      "text/plain": [
       "<batchflow.research.research.Research at 0x7fb052a79940>"
      ]
     },
     "execution_count": 8,
     "metadata": {},
     "output_type": "execute_result"
    }
   ],
   "source": [
    "research = (Research(domain=domain)\n",
    "            .add_pipeline('train_ppl', train_pipeline, variables='loss')\n",
    "            .add_pipeline('test_ppl', test_pipeline, run=True,\n",
    "                          import_from=E('train_ppl').pipeline, when='last')\n",
    "            .get_metrics(pipeline=E('test_ppl').pipeline,\n",
    "                         metrics_var='metrics',\n",
    "                         metrics_name='accuracy',\n",
    "                         save_to='accuracy',\n",
    "                         when='last')\n",
    "            .update_domain(update_domain, when=\"%2\", results=R())\n",
    "           )\n",
    "\n",
    "research.run(dump_results=False, parallel=False, bar=True)"
   ]
  },
  {
   "cell_type": "code",
   "execution_count": 9,
   "metadata": {},
   "outputs": [
    {
     "data": {
      "text/html": [
       "<div>\n",
       "<style scoped>\n",
       "    .dataframe tbody tr th:only-of-type {\n",
       "        vertical-align: middle;\n",
       "    }\n",
       "\n",
       "    .dataframe tbody tr th {\n",
       "        vertical-align: top;\n",
       "    }\n",
       "\n",
       "    .dataframe thead th {\n",
       "        text-align: right;\n",
       "    }\n",
       "</style>\n",
       "<table border=\"1\" class=\"dataframe\">\n",
       "  <thead>\n",
       "    <tr style=\"text-align: right;\">\n",
       "      <th></th>\n",
       "      <th>id</th>\n",
       "      <th>model</th>\n",
       "      <th>n_epochs</th>\n",
       "      <th>repetition</th>\n",
       "      <th>updates</th>\n",
       "      <th>device</th>\n",
       "      <th>iteration</th>\n",
       "      <th>loss</th>\n",
       "      <th>accuracy</th>\n",
       "    </tr>\n",
       "  </thead>\n",
       "  <tbody>\n",
       "    <tr>\n",
       "      <th>0</th>\n",
       "      <td>a0a92f2751121067</td>\n",
       "      <td>&lt;class 'batchflow.models.torch.vgg.VGG7'&gt;</td>\n",
       "      <td>1</td>\n",
       "      <td>0</td>\n",
       "      <td>0</td>\n",
       "      <td>None</td>\n",
       "      <td>0</td>\n",
       "      <td>2.352301</td>\n",
       "      <td>NaN</td>\n",
       "    </tr>\n",
       "    <tr>\n",
       "      <th>1</th>\n",
       "      <td>a0a92f2751121067</td>\n",
       "      <td>&lt;class 'batchflow.models.torch.vgg.VGG7'&gt;</td>\n",
       "      <td>1</td>\n",
       "      <td>0</td>\n",
       "      <td>0</td>\n",
       "      <td>None</td>\n",
       "      <td>1</td>\n",
       "      <td>2.409408</td>\n",
       "      <td>NaN</td>\n",
       "    </tr>\n",
       "    <tr>\n",
       "      <th>2</th>\n",
       "      <td>a0a92f2751121067</td>\n",
       "      <td>&lt;class 'batchflow.models.torch.vgg.VGG7'&gt;</td>\n",
       "      <td>1</td>\n",
       "      <td>0</td>\n",
       "      <td>0</td>\n",
       "      <td>None</td>\n",
       "      <td>2</td>\n",
       "      <td>2.204967</td>\n",
       "      <td>NaN</td>\n",
       "    </tr>\n",
       "    <tr>\n",
       "      <th>3</th>\n",
       "      <td>a0a92f2751121067</td>\n",
       "      <td>&lt;class 'batchflow.models.torch.vgg.VGG7'&gt;</td>\n",
       "      <td>1</td>\n",
       "      <td>0</td>\n",
       "      <td>0</td>\n",
       "      <td>None</td>\n",
       "      <td>3</td>\n",
       "      <td>2.045897</td>\n",
       "      <td>NaN</td>\n",
       "    </tr>\n",
       "    <tr>\n",
       "      <th>4</th>\n",
       "      <td>a0a92f2751121067</td>\n",
       "      <td>&lt;class 'batchflow.models.torch.vgg.VGG7'&gt;</td>\n",
       "      <td>1</td>\n",
       "      <td>0</td>\n",
       "      <td>0</td>\n",
       "      <td>None</td>\n",
       "      <td>4</td>\n",
       "      <td>1.966656</td>\n",
       "      <td>NaN</td>\n",
       "    </tr>\n",
       "    <tr>\n",
       "      <th>...</th>\n",
       "      <td>...</td>\n",
       "      <td>...</td>\n",
       "      <td>...</td>\n",
       "      <td>...</td>\n",
       "      <td>...</td>\n",
       "      <td>...</td>\n",
       "      <td>...</td>\n",
       "      <td>...</td>\n",
       "      <td>...</td>\n",
       "    </tr>\n",
       "    <tr>\n",
       "      <th>10158</th>\n",
       "      <td>d1b1ce1b39296110</td>\n",
       "      <td>&lt;class 'batchflow.models.torch.vgg.VGG7'&gt;</td>\n",
       "      <td>10</td>\n",
       "      <td>0</td>\n",
       "      <td>1</td>\n",
       "      <td>None</td>\n",
       "      <td>7809</td>\n",
       "      <td>0.606818</td>\n",
       "      <td>NaN</td>\n",
       "    </tr>\n",
       "    <tr>\n",
       "      <th>10159</th>\n",
       "      <td>d1b1ce1b39296110</td>\n",
       "      <td>&lt;class 'batchflow.models.torch.vgg.VGG7'&gt;</td>\n",
       "      <td>10</td>\n",
       "      <td>0</td>\n",
       "      <td>1</td>\n",
       "      <td>None</td>\n",
       "      <td>7810</td>\n",
       "      <td>0.649437</td>\n",
       "      <td>NaN</td>\n",
       "    </tr>\n",
       "    <tr>\n",
       "      <th>10160</th>\n",
       "      <td>d1b1ce1b39296110</td>\n",
       "      <td>&lt;class 'batchflow.models.torch.vgg.VGG7'&gt;</td>\n",
       "      <td>10</td>\n",
       "      <td>0</td>\n",
       "      <td>1</td>\n",
       "      <td>None</td>\n",
       "      <td>7811</td>\n",
       "      <td>0.593156</td>\n",
       "      <td>NaN</td>\n",
       "    </tr>\n",
       "    <tr>\n",
       "      <th>10161</th>\n",
       "      <td>d1b1ce1b39296110</td>\n",
       "      <td>&lt;class 'batchflow.models.torch.vgg.VGG7'&gt;</td>\n",
       "      <td>10</td>\n",
       "      <td>0</td>\n",
       "      <td>1</td>\n",
       "      <td>None</td>\n",
       "      <td>7812</td>\n",
       "      <td>0.792372</td>\n",
       "      <td>NaN</td>\n",
       "    </tr>\n",
       "    <tr>\n",
       "      <th>10162</th>\n",
       "      <td>d1b1ce1b39296110</td>\n",
       "      <td>&lt;class 'batchflow.models.torch.vgg.VGG7'&gt;</td>\n",
       "      <td>10</td>\n",
       "      <td>0</td>\n",
       "      <td>1</td>\n",
       "      <td>None</td>\n",
       "      <td>7813</td>\n",
       "      <td>0.792372</td>\n",
       "      <td>0.623806</td>\n",
       "    </tr>\n",
       "  </tbody>\n",
       "</table>\n",
       "<p>10163 rows × 9 columns</p>\n",
       "</div>"
      ],
      "text/plain": [
       "                     id                                      model  n_epochs  \\\n",
       "0      a0a92f2751121067  <class 'batchflow.models.torch.vgg.VGG7'>         1   \n",
       "1      a0a92f2751121067  <class 'batchflow.models.torch.vgg.VGG7'>         1   \n",
       "2      a0a92f2751121067  <class 'batchflow.models.torch.vgg.VGG7'>         1   \n",
       "3      a0a92f2751121067  <class 'batchflow.models.torch.vgg.VGG7'>         1   \n",
       "4      a0a92f2751121067  <class 'batchflow.models.torch.vgg.VGG7'>         1   \n",
       "...                 ...                                        ...       ...   \n",
       "10158  d1b1ce1b39296110  <class 'batchflow.models.torch.vgg.VGG7'>        10   \n",
       "10159  d1b1ce1b39296110  <class 'batchflow.models.torch.vgg.VGG7'>        10   \n",
       "10160  d1b1ce1b39296110  <class 'batchflow.models.torch.vgg.VGG7'>        10   \n",
       "10161  d1b1ce1b39296110  <class 'batchflow.models.torch.vgg.VGG7'>        10   \n",
       "10162  d1b1ce1b39296110  <class 'batchflow.models.torch.vgg.VGG7'>        10   \n",
       "\n",
       "       repetition  updates device  iteration      loss  accuracy  \n",
       "0               0        0   None          0  2.352301       NaN  \n",
       "1               0        0   None          1  2.409408       NaN  \n",
       "2               0        0   None          2  2.204967       NaN  \n",
       "3               0        0   None          3  2.045897       NaN  \n",
       "4               0        0   None          4  1.966656       NaN  \n",
       "...           ...      ...    ...        ...       ...       ...  \n",
       "10158           0        1   None       7809  0.606818       NaN  \n",
       "10159           0        1   None       7810  0.649437       NaN  \n",
       "10160           0        1   None       7811  0.593156       NaN  \n",
       "10161           0        1   None       7812  0.792372       NaN  \n",
       "10162           0        1   None       7813  0.792372  0.623806  \n",
       "\n",
       "[10163 rows x 9 columns]"
      ]
     },
     "execution_count": 9,
     "metadata": {},
     "output_type": "execute_result"
    }
   ],
   "source": [
    "research.results.to_df(pivot=True, remove_auxilary=False, use_alias=True)"
   ]
  },
  {
   "cell_type": "markdown",
   "metadata": {},
   "source": [
    "Resulting `pandas.DataFrame` will have `'updates'` column with the number of updates before we get current config."
   ]
  },
  {
   "cell_type": "code",
   "execution_count": 10,
   "metadata": {},
   "outputs": [
    {
     "name": "stdout",
     "output_type": "stream",
     "text": [
      "Best model:     <class 'batchflow.models.torch.vgg.VGG7'>\n",
      "Final accuracy: 0.6238057324840764\n"
     ]
    }
   ],
   "source": [
    "acc = research.results.to_df(updates=1, pivot=True, use_alias=True)\n",
    "print('Best model:    ', acc.model.values[0])\n",
    "print('Final accuracy:', acc.accuracy.values[-1])"
   ]
  }
 ],
 "metadata": {
  "kernelspec": {
   "display_name": "Python 3",
   "language": "python",
   "name": "python3"
  },
  "language_info": {
   "codemirror_mode": {
    "name": "ipython",
    "version": 3
   },
   "file_extension": ".py",
   "mimetype": "text/x-python",
   "name": "python",
   "nbconvert_exporter": "python",
   "pygments_lexer": "ipython3",
   "version": "3.6.10"
  }
 },
 "nbformat": 4,
 "nbformat_minor": 4
}
