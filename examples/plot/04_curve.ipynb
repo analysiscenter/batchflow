{
 "cells": [
  {
   "cell_type": "code",
   "execution_count": null,
   "metadata": {
    "tags": []
   },
   "outputs": [],
   "source": [
    "%load_ext autoreload\n",
    "%autoreload 2"
   ]
  },
  {
   "cell_type": "markdown",
   "metadata": {},
   "source": [
    "## This is a tutorial on `curve` mode scenario of `plot` class."
   ]
  },
  {
   "cell_type": "code",
   "execution_count": null,
   "metadata": {
    "tags": []
   },
   "outputs": [],
   "source": [
    "# Necessary imports\n",
    "import sys\n",
    "import numpy as np\n",
    "\n",
    "sys.path.insert(0, '../..')\n",
    "from batchflow import plot"
   ]
  },
  {
   "cell_type": "code",
   "execution_count": null,
   "metadata": {
    "tags": []
   },
   "outputs": [],
   "source": [
    "# Generate sample data\n",
    "\n",
    "size = 1000\n",
    "y0 = np.cumsum(np.random.normal(size=size))"
   ]
  },
  {
   "cell_type": "markdown",
   "metadata": {},
   "source": [
    "Specify `mode='curve'` to display 1-d array."
   ]
  },
  {
   "cell_type": "code",
   "execution_count": null,
   "metadata": {
    "tags": []
   },
   "outputs": [],
   "source": [
    "plot(\n",
    "    data=y0,\n",
    "    mode='curve'\n",
    ")"
   ]
  },
  {
   "cell_type": "markdown",
   "metadata": {},
   "source": [
    "To specify curve domain provide `x` and `y` wraped in a single tuple."
   ]
  },
  {
   "cell_type": "code",
   "execution_count": null,
   "metadata": {},
   "outputs": [],
   "source": [
    "x0 = np.arange(0, 20000, 20)"
   ]
  },
  {
   "cell_type": "code",
   "execution_count": null,
   "metadata": {
    "tags": []
   },
   "outputs": [],
   "source": [
    "plot(\n",
    "    data=(x0, y0),\n",
    "    mode='curve'\n",
    ")"
   ]
  },
  {
   "cell_type": "markdown",
   "metadata": {},
   "source": [
    "To denote curve use `labels` parameter."
   ]
  },
  {
   "cell_type": "code",
   "execution_count": null,
   "metadata": {
    "tags": []
   },
   "outputs": [],
   "source": [
    "plot(\n",
    "    data=(x0, y0),\n",
    "    mode='curve',\n",
    "    labels='Random process'\n",
    ")"
   ]
  },
  {
   "cell_type": "markdown",
   "metadata": {},
   "source": [
    "To modify curve parameters provide them with `'curve_'` prefix.\n",
    "\n",
    "Some common parameters, however, are accepted even without prefix: `color`, `linestyle`, `alpha`, `label`."
   ]
  },
  {
   "cell_type": "code",
   "execution_count": null,
   "metadata": {
    "tags": []
   },
   "outputs": [],
   "source": [
    "plot(\n",
    "    data=(x0, y0),\n",
    "    mode='curve',\n",
    "    labels='Random process',\n",
    "    color='plum',\n",
    "    linestyle='dashed',\n",
    "    curve_linewidth=2\n",
    ")"
   ]
  },
  {
   "cell_type": "markdown",
   "metadata": {},
   "source": [
    "Several cuvers can be diplayed simultaneously."
   ]
  },
  {
   "cell_type": "code",
   "execution_count": null,
   "metadata": {
    "tags": []
   },
   "outputs": [],
   "source": [
    "x1 = np.arange(5000, 15000, 10)\n",
    "y1 = np.cumsum(np.random.laplace(size=size))"
   ]
  },
  {
   "cell_type": "markdown",
   "metadata": {},
   "source": [
    "Provide them as a list of tuples to display on a single subplot."
   ]
  },
  {
   "cell_type": "code",
   "execution_count": null,
   "metadata": {
    "tags": []
   },
   "outputs": [],
   "source": [
    "plot(\n",
    "    data=[(x0, y0), (x1, y1)],\n",
    "    mode='curve',\n",
    "    labels=['Normal random process', 'Laplace random process']\n",
    ")"
   ]
  },
  {
   "cell_type": "markdown",
   "metadata": {},
   "source": [
    "Specify `combine='separate'` to display provided data on separate subplots."
   ]
  },
  {
   "cell_type": "code",
   "execution_count": null,
   "metadata": {
    "tags": []
   },
   "outputs": [],
   "source": [
    "plot(\n",
    "    data=[(x0, y0), (x1, y1)],\n",
    "    combine='separate',\n",
    "    mode='curve',\n",
    "    labels=['Normal random process', 'Laplace random process']\n",
    ")"
   ]
  },
  {
   "cell_type": "markdown",
   "metadata": {},
   "source": [
    "To keep domain limits same use `xlim` parameter."
   ]
  },
  {
   "cell_type": "code",
   "execution_count": null,
   "metadata": {
    "tags": []
   },
   "outputs": [],
   "source": [
    "plot(\n",
    "    data=[(x0, y0), (x1, y1)],\n",
    "    combine='separate',\n",
    "    mode='curve',\n",
    "    labels=['Normal random process', 'Laplace random process'],\n",
    "    xlim=(min(x0[0], y0[0]), max(x0[-1], y0[-1]))\n",
    ")"
   ]
  },
  {
   "cell_type": "markdown",
   "metadata": {},
   "source": [
    "To pass separate domain limits to corresponding plots, use `xlim=[lims_0, lims_1]`."
   ]
  },
  {
   "cell_type": "code",
   "execution_count": null,
   "metadata": {
    "tags": []
   },
   "outputs": [],
   "source": [
    "plot(\n",
    "    data=[(x0, y0), (x1, y1)],\n",
    "    combine='separate',\n",
    "    mode='curve',\n",
    "    labels=['Normal random process', 'Laplace random process'],\n",
    "    xlim=[(x1[0], None), (None, x0[-1])]\n",
    ")"
   ]
  }
 ],
 "metadata": {
  "kernelspec": {
   "display_name": "Python 3 (ipykernel)",
   "language": "python",
   "name": "python3"
  },
  "language_info": {
   "codemirror_mode": {
    "name": "ipython",
    "version": 3
   },
   "file_extension": ".py",
   "mimetype": "text/x-python",
   "name": "python",
   "nbconvert_exporter": "python",
   "pygments_lexer": "ipython3",
   "version": "3.8.10"
  },
  "widgets": {
   "application/vnd.jupyter.widget-state+json": {
    "state": {},
    "version_major": 2,
    "version_minor": 0
   }
  }
 },
 "nbformat": 4,
 "nbformat_minor": 4
}
