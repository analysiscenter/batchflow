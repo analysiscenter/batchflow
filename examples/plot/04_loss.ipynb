{
 "cells": [
  {
   "cell_type": "code",
   "execution_count": null,
   "metadata": {
    "tags": []
   },
   "outputs": [],
   "source": [
    "%load_ext autoreload\n",
    "%autoreload 2"
   ]
  },
  {
   "cell_type": "markdown",
   "metadata": {},
   "source": [
    "## This is a tutorial on `loss` mode scenario of `Plot` class."
   ]
  },
  {
   "cell_type": "code",
   "execution_count": null,
   "metadata": {
    "tags": []
   },
   "outputs": [],
   "source": [
    "# Necessary imports\n",
    "import sys\n",
    "import numpy as np\n",
    "\n",
    "sys.path.insert(0, '../..')\n",
    "from batchflow import plot"
   ]
  },
  {
   "cell_type": "code",
   "execution_count": null,
   "metadata": {
    "tags": []
   },
   "outputs": [],
   "source": [
    "# Generate sample data\n",
    "\n",
    "x = np.linspace(1, 100, 1000)\n",
    "\n",
    "oscillation = lambda x: np.sin(x) / x + np.random.normal(scale=0.1, size=len(x))\n",
    "\n",
    "y0 = -np.log(x) * .4 + oscillation(x)"
   ]
  },
  {
   "cell_type": "markdown",
   "metadata": {},
   "source": [
    "To display a single curve use `Plot` in `'loss'` mode."
   ]
  },
  {
   "cell_type": "code",
   "execution_count": null,
   "metadata": {
    "tags": []
   },
   "outputs": [],
   "source": [
    "plot(\n",
    "    data=y0,\n",
    "    mode='loss',\n",
    "    title='Simulated loss' \n",
    ")"
   ]
  },
  {
   "cell_type": "markdown",
   "metadata": {},
   "source": [
    "To change rolling mean window size specify it in `window` parameter."
   ]
  },
  {
   "cell_type": "code",
   "execution_count": null,
   "metadata": {
    "tags": []
   },
   "outputs": [],
   "source": [
    "plot(\n",
    "    data=y0,\n",
    "    mode='loss',\n",
    "    title='Simulated loss',\n",
    "    window=100 # new parameter\n",
    ")"
   ]
  },
  {
   "cell_type": "markdown",
   "metadata": {},
   "source": [
    "To modify mean of last `n` iterations (displayed in legend window), address `final_window` parameter."
   ]
  },
  {
   "cell_type": "code",
   "execution_count": null,
   "metadata": {
    "tags": []
   },
   "outputs": [],
   "source": [
    "plot(\n",
    "    data=y0,\n",
    "    mode='loss',\n",
    "    title='Simulated loss',\n",
    "    final_window=200 # new parameter\n",
    ")"
   ]
  },
  {
   "cell_type": "markdown",
   "metadata": {},
   "source": [
    "One migh wish to display several losses simultaneously."
   ]
  },
  {
   "cell_type": "code",
   "execution_count": null,
   "metadata": {
    "tags": []
   },
   "outputs": [],
   "source": [
    "y1 = -np.log(x) * .6 + oscillation(x)"
   ]
  },
  {
   "cell_type": "markdown",
   "metadata": {},
   "source": [
    "To achieve that provide arrays in a list."
   ]
  },
  {
   "cell_type": "code",
   "execution_count": null,
   "metadata": {
    "tags": []
   },
   "outputs": [],
   "source": [
    "plot(\n",
    "    data=[y0, y1], # parameter changed\n",
    "    mode='loss',\n",
    "    title='Simulated loss',\n",
    ")"
   ]
  },
  {
   "cell_type": "markdown",
   "metadata": {},
   "source": [
    "To display curves on separate plots use `combine='separate'`."
   ]
  },
  {
   "cell_type": "code",
   "execution_count": null,
   "metadata": {
    "tags": []
   },
   "outputs": [],
   "source": [
    "plot(\n",
    "    data=[y0, y1],\n",
    "    mode='loss',\n",
    "    combine='separate', # new parameter\n",
    "    title='Simulated loss',\n",
    ")"
   ]
  },
  {
   "cell_type": "markdown",
   "metadata": {},
   "source": [
    "Since separate subplots know nothing about each other's colors, they use the same color on their first layer.\n",
    "\n",
    "To use different colors, provide them explicitly."
   ]
  },
  {
   "cell_type": "code",
   "execution_count": null,
   "metadata": {},
   "outputs": [],
   "source": [
    "plot(\n",
    "    data=[y0, y1],\n",
    "    mode='loss',\n",
    "    combine='separate',\n",
    "    title='Simulated loss',\n",
    "    color=['cornflowerblue', 'lightpink'] # new parameter\n",
    ")"
   ]
  },
  {
   "cell_type": "markdown",
   "metadata": {},
   "source": [
    "To display curves in ``'mixed'`` manner, i.e. with some curves overlaid and some displayed separately, use nested lists of arrays.\n",
    "\n",
    "If list has level 2 nestedness, outer level defines subplots order while inner one defines layers order.\n",
    "\n",
    "Note, that parameters should have same nestedness level."
   ]
  },
  {
   "cell_type": "code",
   "execution_count": null,
   "metadata": {
    "tags": []
   },
   "outputs": [],
   "source": [
    "plot(\n",
    "    data = [y0, y1, [y0, y1]], # parameter changed\n",
    "    mode='loss',\n",
    "    title='Simulated loss',\n",
    "    color=['cornflowerblue', 'lightpink', ['cornflowerblue', 'lightpink']], # parameter changed\n",
    "    linewidth=[1, 1, 2] # new parameter\n",
    ")"
   ]
  },
  {
   "cell_type": "markdown",
   "metadata": {},
   "source": [
    "### Display learning rate alongside with loss values"
   ]
  },
  {
   "cell_type": "markdown",
   "metadata": {},
   "source": [
    "To display learning rate on the same plot with the loss simply provided it packed in the same tuple.\n",
    "\n",
    "Since learning rate often decays exponentially, it might be usefull to log corresponding axis."
   ]
  },
  {
   "cell_type": "code",
   "execution_count": null,
   "metadata": {
    "tags": []
   },
   "outputs": [],
   "source": [
    "lr = np.full(len(x), 1e-3)\n",
    "for i in range(0, len(x), 100):\n",
    "    lr[i:] /= 10\n",
    "    \n",
    "plot(\n",
    "    data=(y0, lr),\n",
    "    mode='loss',\n",
    "    log_lr=True\n",
    ")"
   ]
  }
 ],
 "metadata": {
  "kernelspec": {
   "display_name": "Python 3 (ipykernel)",
   "language": "python",
   "name": "python3"
  },
  "language_info": {
   "codemirror_mode": {
    "name": "ipython",
    "version": 3
   },
   "file_extension": ".py",
   "mimetype": "text/x-python",
   "name": "python",
   "nbconvert_exporter": "python",
   "pygments_lexer": "ipython3",
   "version": "3.9.10"
  },
  "widgets": {
   "application/vnd.jupyter.widget-state+json": {
    "state": {},
    "version_major": 2,
    "version_minor": 0
   }
  }
 },
 "nbformat": 4,
 "nbformat_minor": 4
}
