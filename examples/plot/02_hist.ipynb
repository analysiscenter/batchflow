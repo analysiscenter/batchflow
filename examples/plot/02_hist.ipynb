{
 "cells": [
  {
   "cell_type": "code",
   "execution_count": null,
   "metadata": {
    "tags": []
   },
   "outputs": [],
   "source": [
    "%load_ext autoreload\n",
    "%autoreload 2"
   ]
  },
  {
   "cell_type": "markdown",
   "metadata": {},
   "source": [
    "## This is a tutorial on `hist` mode scenario of `Plot` class."
   ]
  },
  {
   "cell_type": "code",
   "execution_count": null,
   "metadata": {
    "tags": []
   },
   "outputs": [],
   "source": [
    "# Necessary imports\n",
    "import sys\n",
    "import numpy as np\n",
    "\n",
    "sys.path.insert(0, '../..')\n",
    "from batchflow.plot import Plot"
   ]
  },
  {
   "cell_type": "code",
   "execution_count": null,
   "metadata": {
    "tags": []
   },
   "outputs": [],
   "source": [
    "# Sample data generation\n",
    "shape = (50, 50)\n",
    "\n",
    "image_0 = np.random.normal(loc=2, size=shape)\n",
    "image_1 = np.random.normal(scale=2, size=shape)"
   ]
  },
  {
   "cell_type": "markdown",
   "metadata": {},
   "source": [
    "This is the usual way to display several images."
   ]
  },
  {
   "cell_type": "markdown",
   "metadata": {},
   "source": [
    "To make make histogram plot of them, simply specify the mode of the same name."
   ]
  },
  {
   "cell_type": "code",
   "execution_count": null,
   "metadata": {
    "tags": []
   },
   "outputs": [],
   "source": [
    "Plot(\n",
    "    data=[image_0, image_1],\n",
    "    combine='separate',\n",
    "    cmap='twilight',\n",
    "    interpolation='sinc',\n",
    "    colorbar=True,\n",
    "    title=['Image 0', 'Image 1'],\n",
    "    vmin=(min(image_0.min(), image_1.min())),\n",
    "    vmax=(max(image_0.max(), image_1.max()))\n",
    ")"
   ]
  },
  {
   "cell_type": "code",
   "execution_count": null,
   "metadata": {
    "tags": []
   },
   "outputs": [],
   "source": [
    "Plot(\n",
    "    data=[image_0, image_1],\n",
    "    mode='hist',\n",
    "    title='Image histogram'\n",
    ")"
   ]
  },
  {
   "cell_type": "markdown",
   "metadata": {},
   "source": [
    "When parameter name collision occurs, simply prefix it with specific method alias followed by underscore.\n",
    "\n",
    "Example below show, how to specify that `label` argument is meant for legend (and not for title or tick labels)."
   ]
  },
  {
   "cell_type": "code",
   "execution_count": null,
   "metadata": {
    "tags": []
   },
   "outputs": [],
   "source": [
    "Plot(\n",
    "    data=[image_0, image_1],\n",
    "    mode='hist',\n",
    "    title='Image histogram',\n",
    "    labels=['image_0', 'image_1']\n",
    ")"
   ]
  },
  {
   "cell_type": "markdown",
   "metadata": {},
   "source": [
    "There are a few default params, but to use more advanced prefix names to specify the method they are meant for.\n",
    "\n",
    "Example below shows, how to specify `histtype` argument is redirected to the list of parameters for `plt.hist` via prefix."
   ]
  },
  {
   "cell_type": "code",
   "execution_count": null,
   "metadata": {
    "tags": []
   },
   "outputs": [],
   "source": [
    "Plot(\n",
    "    data=[image_0, image_1],\n",
    "    mode='hist',\n",
    "    title='Image histogram',\n",
    "    labels=['image_0', 'image_1'],\n",
    "    hist_histtype='step'\n",
    ")"
   ]
  },
  {
   "cell_type": "markdown",
   "metadata": {},
   "source": [
    "To display histograms separately use `combine='separate'` bool flag."
   ]
  },
  {
   "cell_type": "code",
   "execution_count": null,
   "metadata": {
    "tags": []
   },
   "outputs": [],
   "source": [
    "Plot(\n",
    "    data=[image_0, image_1],\n",
    "    mode='hist',\n",
    "    combine='separate',\n",
    "    title=['Image 0 histogram', 'Image 1 histogram'],\n",
    "    labels=['image_0', 'image_1'],\n",
    ")"
   ]
  },
  {
   "cell_type": "markdown",
   "metadata": {},
   "source": [
    "To display histograms in 'mixed' manner, i.e. with some histograms overlaid and some displayed separately, use nested lists of histograms arrays.\n",
    "\n",
    "If list has level 2 nestedness, outer level defines subPlots order while inner one defines layers order.\n",
    "\n",
    "Note, that parameters should have same nestedness level."
   ]
  },
  {
   "cell_type": "code",
   "execution_count": null,
   "metadata": {
    "tags": []
   },
   "outputs": [],
   "source": [
    "Plot(\n",
    "    data=[image_0, [image_0, image_1], image_1],\n",
    "    mode='hist',\n",
    "    color=['firebrick', ['firebrick', 'mediumseagreen'], 'mediumseagreen'],\n",
    "    title=['Image 0 histogram', 'Images histogram', 'Image 1 histogram'],\n",
    "    labels=[None, ['Image 0', 'Image 1'], None]\n",
    ")"
   ]
  },
  {
   "cell_type": "code",
   "execution_count": null,
   "metadata": {
    "tags": []
   },
   "outputs": [],
   "source": [
    "Plot(\n",
    "    data=[image_0, [image_0, image_1], image_1],\n",
    "    mode='hist',\n",
    "    combine='separate',\n",
    "    color=['firebrick', ['firebrick', 'mediumseagreen'], 'mediumseagreen'],\n",
    "    title=['Image 0 histogram', 'Images histogram', 'Image 1 histogram'],\n",
    "    labels=[None, ['Image 0', 'Image 1'], None],\n",
    "    xlim=(min(image_0.min(), image_1.min()), max(image_0.max(), image_1.max()))\n",
    ")"
   ]
  },
  {
   "cell_type": "markdown",
   "metadata": {},
   "source": [
    "To create plots with mixed-type visualizations one can provide shapes for future subplots or use `None` placeholder in `data`."
   ]
  },
  {
   "cell_type": "code",
   "execution_count": null,
   "metadata": {
    "tags": []
   },
   "outputs": [],
   "source": [
    "plotter = Plot(\n",
    "    data=[image_0, None, image_1, None],\n",
    "    mode='imshow',\n",
    "    combine='separate',\n",
    "    ncols=2,\n",
    "    cmap='twilight',\n",
    "    interpolation='sinc',\n",
    "    colorbar=True,\n",
    "    title=['Image 0', None, 'Image 1', None],\n",
    "    vmin=(min(image_0.min(), image_1.min())),\n",
    "    vmax=(max(image_0.max(), image_1.max()))\n",
    ")\n",
    "\n",
    "plotter.plot(\n",
    "    data=[image_0, image_1],\n",
    "    subplots=[1, 3],\n",
    "    mode='hist',\n",
    "    combine='separate',\n",
    "    title=['Histogram of Image 0', 'Histogram of Image 1'],\n",
    "    xlim=(min(image_0.min(), image_1.min()), max(image_0.max(), image_1.max()))\n",
    ")"
   ]
  }
 ],
 "metadata": {
  "kernelspec": {
   "display_name": "Python 3 (ipykernel)",
   "language": "python",
   "name": "python3"
  },
  "language_info": {
   "codemirror_mode": {
    "name": "ipython",
    "version": 3
   },
   "file_extension": ".py",
   "mimetype": "text/x-python",
   "name": "python",
   "nbconvert_exporter": "python",
   "pygments_lexer": "ipython3",
   "version": "3.8.10"
  },
  "widgets": {
   "application/vnd.jupyter.widget-state+json": {
    "state": {},
    "version_major": 2,
    "version_minor": 0
   }
  }
 },
 "nbformat": 4,
 "nbformat_minor": 4
}
