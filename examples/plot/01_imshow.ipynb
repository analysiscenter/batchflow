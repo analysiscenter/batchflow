{
 "cells": [
  {
   "cell_type": "code",
   "execution_count": null,
   "metadata": {
    "tags": []
   },
   "outputs": [],
   "source": [
    "%load_ext autoreload\n",
    "%autoreload 2"
   ]
  },
  {
   "cell_type": "markdown",
   "metadata": {},
   "source": [
    "## This is a tutorial on `imshow` mode scenario of `plot` class."
   ]
  },
  {
   "cell_type": "code",
   "execution_count": null,
   "metadata": {
    "tags": []
   },
   "outputs": [],
   "source": [
    "# Necessary imports\n",
    "import sys\n",
    "import numpy as np\n",
    "\n",
    "sys.path.insert(0, '../..')\n",
    "from batchflow import plot"
   ]
  },
  {
   "cell_type": "code",
   "execution_count": null,
   "metadata": {
    "tags": []
   },
   "outputs": [],
   "source": [
    "# Sample data generation\n",
    "shape = (50, 50)\n",
    "image = np.random.rand(*shape)"
   ]
  },
  {
   "cell_type": "markdown",
   "metadata": {},
   "source": [
    "To plot an image, simply pass an array to class init."
   ]
  },
  {
   "cell_type": "code",
   "execution_count": null,
   "metadata": {
    "tags": []
   },
   "outputs": [],
   "source": [
    "plot(image)"
   ]
  },
  {
   "cell_type": "markdown",
   "metadata": {},
   "source": [
    "To annotate an image use parameters for correponding `matplotlib` functions.\n",
    "\n",
    "If parameter name collision occurs, simply prefix it with specific method alias followed by underscore."
   ]
  },
  {
   "cell_type": "code",
   "execution_count": null,
   "metadata": {
    "tags": []
   },
   "outputs": [],
   "source": [
    "plot(\n",
    "    data=image,\n",
    "    title='Randomly generated data',\n",
    "    xlabel='x-axis',\n",
    "    title_size=20,\n",
    "    ylabel='y-axis',\n",
    "    colorbar=True,\n",
    "    family='monospace',\n",
    "    # using prefix, one can redirect parameter to specific annotation method\n",
    "    title_family='sans-serif'\n",
    ")"
   ]
  },
  {
   "cell_type": "markdown",
   "metadata": {},
   "source": [
    "To change default image display parameters use arguments valid for `plt.imshow`."
   ]
  },
  {
   "cell_type": "code",
   "execution_count": null,
   "metadata": {
    "tags": []
   },
   "outputs": [],
   "source": [
    "plot(\n",
    "    data=image,\n",
    "    cmap='Wistia',\n",
    "    interpolation='bessel',\n",
    "    title='Randomly generated data',\n",
    "    xlabel='x-axis',\n",
    "    title_size=20,\n",
    "    ylabel='y-axis',\n",
    "    colorbar=True,\n",
    "    family='monospace',\n",
    "    title_family='sans-serif'\n",
    ")"
   ]
  },
  {
   "cell_type": "code",
   "execution_count": null,
   "metadata": {
    "tags": []
   },
   "outputs": [],
   "source": [
    "# Sample mask generation.\n",
    "mask_0 = np.zeros(shape)\n",
    "mask_0[image > 0.5] = 1"
   ]
  },
  {
   "cell_type": "markdown",
   "metadata": {},
   "source": [
    "To overlay images one over another pass them in a list."
   ]
  },
  {
   "cell_type": "code",
   "execution_count": null,
   "metadata": {
    "tags": []
   },
   "outputs": [],
   "source": [
    "plot(\n",
    "    data=[image, mask_0],\n",
    "    interpolation=['bessel', None],\n",
    "    title='Randomly generated data',\n",
    "    xlabel='x-axis',\n",
    "    title_size=20,\n",
    "    ylabel='y-axis',\n",
    "    colorbar=True,\n",
    "    family='monospace',\n",
    "    title_family='sans-serif'\n",
    ")"
   ]
  },
  {
   "cell_type": "code",
   "execution_count": null,
   "metadata": {
    "tags": []
   },
   "outputs": [],
   "source": [
    "# Sample mask generation.\n",
    "mask_1 = np.zeros(shape)\n",
    "mask_1[image > 0.75] = 1"
   ]
  },
  {
   "cell_type": "markdown",
   "metadata": {},
   "source": [
    "One can overlay as much masks as he/she wants — masks color list is looped."
   ]
  },
  {
   "cell_type": "code",
   "execution_count": null,
   "metadata": {
    "tags": []
   },
   "outputs": [],
   "source": [
    "plot(\n",
    "    data=[image] + [np.random.binomial(1, .01, shape) for _ in range(50)],\n",
    "    title='Randomly generated data',\n",
    "    xlabel='x-axis',\n",
    "    title_size=20,\n",
    "    ylabel='y-axis',\n",
    "    colorbar=True,\n",
    "    family='monospace',\n",
    "    title_family='sans-serif'\n",
    ")"
   ]
  },
  {
   "cell_type": "markdown",
   "metadata": {},
   "source": [
    "If only one parameter is provided for several images, all of them are displayed with it."
   ]
  },
  {
   "cell_type": "code",
   "execution_count": null,
   "metadata": {
    "tags": []
   },
   "outputs": [],
   "source": [
    "plot(\n",
    "    data=[image, mask_0, mask_1],\n",
    "    # cmap\n",
    "    cmap='Wistia',\n",
    "    title='Randomly generated data',\n",
    "    xlabel='x-axis',\n",
    "    title_size=20,\n",
    "    ylabel='y-axis',\n",
    "    colorbar=True,\n",
    "    family='monospace',\n",
    "    title_family='sans-serif'\n",
    ")"
   ]
  },
  {
   "cell_type": "markdown",
   "metadata": {},
   "source": [
    "To specify parameter for every image layer, use lists of the same length as your data is.\n",
    "\n",
    "Note that valid matplotlib colors act as single-color cmaps, which is useful for binary mask display."
   ]
  },
  {
   "cell_type": "code",
   "execution_count": null,
   "metadata": {
    "tags": []
   },
   "outputs": [],
   "source": [
    "plot(\n",
    "    data=[image, mask_0, mask_1],\n",
    "    cmap=['Wistia', 'cornflowerblue', 'plum'],\n",
    "    interpolation=['bessel', None, None],\n",
    "    title='Randomly generated data',\n",
    "    xlabel='x-axis',\n",
    "    title_size=20,\n",
    "    ylabel='y-axis',\n",
    "    colorbar=True,\n",
    "    family='monospace',\n",
    "    title_family='sans-serif'\n",
    ")"
   ]
  },
  {
   "cell_type": "markdown",
   "metadata": {},
   "source": [
    "To add legend provide `labels` argument. Colors are taken from `cmap` argument."
   ]
  },
  {
   "cell_type": "code",
   "execution_count": null,
   "metadata": {
    "tags": []
   },
   "outputs": [],
   "source": [
    "plot(\n",
    "    data=[image, mask_0, mask_1],\n",
    "    cmap=['Wistia', 'cornflowerblue', 'plum'],\n",
    "    interpolation=['bessel', None, None],\n",
    "    title='Randomly generated data',\n",
    "    xlabel='x-axis',\n",
    "    title_size=20,\n",
    "    ylabel='y-axis',\n",
    "    colorbar=True,\n",
    "    family='monospace',\n",
    "    title_family='sans-serif',\n",
    "    labels=['image', '>0.5 mask', '>0.75 mask']\n",
    ")"
   ]
  },
  {
   "cell_type": "markdown",
   "metadata": {},
   "source": [
    "To skip specific legend label, use `None` value."
   ]
  },
  {
   "cell_type": "code",
   "execution_count": null,
   "metadata": {},
   "outputs": [],
   "source": [
    "plot(\n",
    "    data=[image, mask_0, mask_1],\n",
    "    cmap=['Wistia', 'cornflowerblue', 'plum'],\n",
    "    interpolation=['bessel', None, None],\n",
    "    title='Randomly generated data',\n",
    "    xlabel='x-axis',\n",
    "    title_size=20,\n",
    "    ylabel='y-axis',\n",
    "    colorbar=True,\n",
    "    family='monospace',\n",
    "    title_family='sans-serif',\n",
    "    labels=[None, '>0.5 mask', '>0.75 mask']\n",
    ")"
   ]
  },
  {
   "cell_type": "markdown",
   "metadata": {},
   "source": [
    "To customize legend, provide arguments with `'legend_'` prefix."
   ]
  },
  {
   "cell_type": "code",
   "execution_count": null,
   "metadata": {
    "tags": []
   },
   "outputs": [],
   "source": [
    "plot(\n",
    "    data=[image, mask_0, mask_1],\n",
    "    cmap=['Wistia', 'cornflowerblue', 'plum'],\n",
    "    interpolation=['bessel', None, None],\n",
    "    title='Randomly generated data',\n",
    "    xlabel='x-axis',\n",
    "    title_size=20,\n",
    "    ylabel='y-axis',\n",
    "    colorbar=True,\n",
    "    family='monospace',\n",
    "    title_family='sans-serif',\n",
    "    labels=['>0.5 mask', '>0.75 mask'],\n",
    "    # extra legend arguments\n",
    "    legend_loc=2,\n",
    "    legend_size=15,\n",
    "    legend_colors=['royalblue', 'orchid'],\n",
    ")"
   ]
  },
  {
   "cell_type": "markdown",
   "metadata": {},
   "source": [
    "To display given images separately, use `combine='separate'`."
   ]
  },
  {
   "cell_type": "code",
   "execution_count": null,
   "metadata": {
    "tags": []
   },
   "outputs": [],
   "source": [
    "plot(\n",
    "    data=[image, mask_0, mask_1],\n",
    "    combine='separate',\n",
    "    cmap=['Wistia', 'cornflowerblue', 'plum'],\n",
    "    interpolation=['bessel', None, None],\n",
    "    title='Randomly generated data',\n",
    "    title_size=25,\n",
    "    xlabel='x-axis',\n",
    "    ylabel='y-axis',\n",
    "    colorbar=True,\n",
    "    family='monospace',\n",
    "    title_family='sans-serif',\n",
    ")"
   ]
  },
  {
   "cell_type": "markdown",
   "metadata": {},
   "source": [
    "Some parameters have one or more aliases (e.g. to pass title label value one can use `title`, `title` or `label` keywords)"
   ]
  },
  {
   "cell_type": "code",
   "execution_count": null,
   "metadata": {
    "tags": []
   },
   "outputs": [],
   "source": [
    "plot(\n",
    "    data=[image, mask_0, mask_1],\n",
    "    combine='separate',\n",
    "    cmap=['Wistia', 'cornflowerblue', 'plum'],\n",
    "    interpolation=['bessel', None, None],\n",
    "    title=['Randomly generated data',\n",
    "           'Mask for values greater than 0.5',\n",
    "           'Mask for values greater than 0.75'],\n",
    "    xlabel='x-axis',\n",
    "    title_size=25,\n",
    "    ylabel='y-axis',\n",
    "    colorbar=True,\n",
    "    family='monospace',\n",
    "    title_family='sans-serif'\n",
    ")"
   ]
  },
  {
   "cell_type": "markdown",
   "metadata": {},
   "source": [
    "Colorbar can be disabled for chosen images."
   ]
  },
  {
   "cell_type": "code",
   "execution_count": null,
   "metadata": {
    "tags": []
   },
   "outputs": [],
   "source": [
    "plot(\n",
    "    data=[image, mask_0, mask_1],\n",
    "    combine='separate',\n",
    "    cmap=['Wistia', 'cornflowerblue', 'plum'],\n",
    "    interpolation=['bessel', None, None],\n",
    "    title=['Randomly generated data',\n",
    "           'Mask for values greater than 0.5',\n",
    "           'Mask for values greater than 0.75'],\n",
    "    xlabel='x-axis',\n",
    "    title_size=25,\n",
    "    ylabel='y-axis',\n",
    "    family='monospace',\n",
    "    title_family='sans-serif',\n",
    "    colorbar=[True, False, False],\n",
    ")"
   ]
  },
  {
   "cell_type": "markdown",
   "metadata": {},
   "source": [
    "To display images in ``'mixed'`` manner, i.e. with some image overlaid and some displayed separately, use nested lists of image arrays.\n",
    "\n",
    "If list has level 2 nestedness, outer level defines subplots order while inner one defines layers order."
   ]
  },
  {
   "cell_type": "code",
   "execution_count": null,
   "metadata": {
    "tags": []
   },
   "outputs": [],
   "source": [
    "plot(\n",
    "    data=[[image, mask_0, mask_1], mask_0, mask_1],\n",
    "    cmap=[['Wistia', 'cornflowerblue', 'plum'], 'cornflowerblue', 'plum'],\n",
    "    interpolation=[['bessel', None, None], None, None],\n",
    "    title=['Randomly generated data',\n",
    "           'Mask for values greater than 0.5',\n",
    "           'Mask for values greater than 0.75'],\n",
    "    xlabel='x-axis',\n",
    "    title_size=25,\n",
    "    ylabel='y-axis',\n",
    "    family='monospace',\n",
    "    title_family='sans-serif',\n",
    "    colorbar=[True, False, False],\n",
    ")"
   ]
  },
  {
   "cell_type": "markdown",
   "metadata": {},
   "source": [
    "Use `None` in data list to skip keep subplot empty.\n",
    "\n",
    "One can access modify it later, accessing  and `fig`/`axes` attributes if `plot` class instances.\n",
    "\n",
    "Note that `None` placeholders for parameters corresponding to empty axis are not needed."
   ]
  },
  {
   "cell_type": "code",
   "execution_count": null,
   "metadata": {
    "tags": []
   },
   "outputs": [],
   "source": [
    "canvas = plot(\n",
    "    data=[[image, mask_0, mask_1], None, mask_0, mask_1],\n",
    "    combine='separate',\n",
    "    ncols=2,\n",
    "    cmap=[['Wistia', 'cornflowerblue', 'plum'], 'cornflowerblue', 'plum'],\n",
    "    interpolation=[['bessel', None, None], None, None],\n",
    "    title=['Randomly generated data',\n",
    "           'Mask for values greater than 0.5',\n",
    "           'Mask for values greater than 0.75'],\n",
    "    xlabel='x-axis',\n",
    "    title_size=25,\n",
    "    ylabel='y-axis',\n",
    "    family='monospace',\n",
    "    # using prefix, one can redirect parameter to specific annotation method\n",
    "    title_family='sans-serif',\n",
    "    colorbar=[True, False, False],\n",
    ")\n",
    "\n",
    "canvas.axes[1].text(0.5, 0.5, '(❁´◡`❁)', ha=\"center\", va=\"center\",\n",
    "                    size=70, color='firebrick', family='monospace')\n",
    "\n",
    "canvas"
   ]
  },
  {
   "cell_type": "markdown",
   "metadata": {},
   "source": [
    "If you have a bunch of different-shaped images, the `plot` will manage optimal figsize itself.\n",
    "\n",
    "And while `figsize` parameter is still available, one might find using `scale` option more convenient."
   ]
  },
  {
   "cell_type": "code",
   "execution_count": null,
   "metadata": {
    "tags": []
   },
   "outputs": [],
   "source": [
    "data = [[np.random.rand(*np.random.randint(2, 20, 2))] for _ in range(np.random.randint(10, 20))]\n",
    "plot(data, scale=0.3)"
   ]
  },
  {
   "cell_type": "code",
   "execution_count": null,
   "metadata": {
    "tags": []
   },
   "outputs": [],
   "source": [
    "plot(data, colorbar=True)"
   ]
  }
 ],
 "metadata": {
  "kernelspec": {
   "display_name": "Python 3 (ipykernel)",
   "language": "python",
   "name": "python3"
  },
  "language_info": {
   "codemirror_mode": {
    "name": "ipython",
    "version": 3
   },
   "file_extension": ".py",
   "mimetype": "text/x-python",
   "name": "python",
   "nbconvert_exporter": "python",
   "pygments_lexer": "ipython3",
   "version": "3.8.10"
  },
  "widgets": {
   "application/vnd.jupyter.widget-state+json": {
    "state": {},
    "version_major": 2,
    "version_minor": 0
   }
  }
 },
 "nbformat": 4,
 "nbformat_minor": 4
}
