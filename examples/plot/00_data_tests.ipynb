{
 "cells": [
  {
   "cell_type": "code",
   "execution_count": 1,
   "id": "5cdcc30f-3b82-4241-b315-b8f5f2fbb70c",
   "metadata": {
    "execution": {
     "iopub.execute_input": "2022-03-12T07:56:08.093159Z",
     "iopub.status.busy": "2022-03-12T07:56:08.092657Z",
     "iopub.status.idle": "2022-03-12T07:56:08.118975Z",
     "shell.execute_reply": "2022-03-12T07:56:08.118465Z",
     "shell.execute_reply.started": "2022-03-12T07:56:08.093072Z"
    },
    "tags": []
   },
   "outputs": [],
   "source": [
    "%load_ext autoreload\n",
    "%autoreload 2"
   ]
  },
  {
   "cell_type": "code",
   "execution_count": 2,
   "id": "d521cfe1-427a-44ea-8da4-945acfda77ca",
   "metadata": {
    "execution": {
     "iopub.execute_input": "2022-03-12T07:56:08.119837Z",
     "iopub.status.busy": "2022-03-12T07:56:08.119672Z",
     "iopub.status.idle": "2022-03-12T07:56:09.363659Z",
     "shell.execute_reply": "2022-03-12T07:56:09.363036Z",
     "shell.execute_reply.started": "2022-03-12T07:56:08.119817Z"
    },
    "tags": []
   },
   "outputs": [],
   "source": [
    "# Necessary imports\n",
    "import sys\n",
    "import numpy as np\n",
    "\n",
    "sys.path.insert(0, '../..')\n",
    "from batchflow import plot"
   ]
  },
  {
   "cell_type": "markdown",
   "id": "ab2c0c30-ff47-496f-b816-a5b9b79f0774",
   "metadata": {
    "execution": {
     "iopub.execute_input": "2022-03-09T15:58:06.468745Z",
     "iopub.status.busy": "2022-03-09T15:58:06.467996Z",
     "iopub.status.idle": "2022-03-09T15:58:06.495059Z",
     "shell.execute_reply": "2022-03-09T15:58:06.494484Z",
     "shell.execute_reply.started": "2022-03-09T15:58:06.468695Z"
    },
    "tags": []
   },
   "source": [
    "#### single data item"
   ]
  },
  {
   "cell_type": "markdown",
   "id": "62071db0-3fd7-4135-a8db-b9425870c4f4",
   "metadata": {
    "tags": []
   },
   "source": [
    "##### `combine = 'overlay'`"
   ]
  },
  {
   "cell_type": "code",
   "execution_count": 3,
   "id": "3de2af68-1cdb-49e4-8395-6d141564023a",
   "metadata": {
    "execution": {
     "iopub.execute_input": "2022-03-12T07:56:09.365419Z",
     "iopub.status.busy": "2022-03-12T07:56:09.365188Z",
     "iopub.status.idle": "2022-03-12T07:56:09.385323Z",
     "shell.execute_reply": "2022-03-12T07:56:09.384679Z",
     "shell.execute_reply.started": "2022-03-12T07:56:09.365400Z"
    },
    "tags": []
   },
   "outputs": [],
   "source": [
    "combine = 'overlay'"
   ]
  },
  {
   "cell_type": "markdown",
   "id": "ff071582-c97c-43df-9079-8fb300290755",
   "metadata": {
    "tags": []
   },
   "source": [
    "###### data item is array"
   ]
  },
  {
   "cell_type": "code",
   "execution_count": 4,
   "id": "3d7ead71-626e-4c7a-ba23-510f15f908ac",
   "metadata": {
    "execution": {
     "iopub.execute_input": "2022-03-12T07:56:09.386144Z",
     "iopub.status.busy": "2022-03-12T07:56:09.386013Z",
     "iopub.status.idle": "2022-03-12T07:56:09.403189Z",
     "shell.execute_reply": "2022-03-12T07:56:09.402577Z",
     "shell.execute_reply.started": "2022-03-12T07:56:09.386127Z"
    },
    "tags": []
   },
   "outputs": [],
   "source": [
    "ref = [[np.array([1])]]\n",
    "parse = lambda data, mode='imshow': plot.parse_data(data, combine=combine, mode=mode)[0] == ref"
   ]
  },
  {
   "cell_type": "code",
   "execution_count": 5,
   "id": "c4a37ce0-52c6-4d92-b2ab-40c782b9ef37",
   "metadata": {
    "execution": {
     "iopub.execute_input": "2022-03-12T07:56:09.404380Z",
     "iopub.status.busy": "2022-03-12T07:56:09.403966Z",
     "iopub.status.idle": "2022-03-12T07:56:09.422518Z",
     "shell.execute_reply": "2022-03-12T07:56:09.421964Z",
     "shell.execute_reply.started": "2022-03-12T07:56:09.404356Z"
    },
    "tags": []
   },
   "outputs": [],
   "source": [
    "# single\n",
    "d = np.array([1])\n",
    "assert parse(d)"
   ]
  },
  {
   "cell_type": "code",
   "execution_count": 6,
   "id": "19e9be0c-e0c8-4551-8a6c-61e55484a745",
   "metadata": {
    "execution": {
     "iopub.execute_input": "2022-03-12T07:56:09.423257Z",
     "iopub.status.busy": "2022-03-12T07:56:09.423137Z",
     "iopub.status.idle": "2022-03-12T07:56:09.439330Z",
     "shell.execute_reply": "2022-03-12T07:56:09.438728Z",
     "shell.execute_reply.started": "2022-03-12T07:56:09.423242Z"
    },
    "tags": []
   },
   "outputs": [],
   "source": [
    "# list\n",
    "d = [np.array([1])]\n",
    "assert parse(d)"
   ]
  },
  {
   "cell_type": "code",
   "execution_count": 7,
   "id": "4db08120-9bfe-4ae9-a7bd-090dbebaf2ed",
   "metadata": {
    "execution": {
     "iopub.execute_input": "2022-03-12T07:56:09.440207Z",
     "iopub.status.busy": "2022-03-12T07:56:09.440050Z",
     "iopub.status.idle": "2022-03-12T07:56:09.458750Z",
     "shell.execute_reply": "2022-03-12T07:56:09.458163Z",
     "shell.execute_reply.started": "2022-03-12T07:56:09.440188Z"
    },
    "tags": []
   },
   "outputs": [],
   "source": [
    "# nested list\n",
    "d = [[np.array([1])]]\n",
    "assert parse(d)"
   ]
  },
  {
   "cell_type": "markdown",
   "id": "44d73423-a03c-4005-8c8d-df9339310271",
   "metadata": {
    "tags": []
   },
   "source": [
    "###### data item is list of number"
   ]
  },
  {
   "cell_type": "code",
   "execution_count": 8,
   "id": "a7325eb9-47a5-4304-8baf-fb7180b42b28",
   "metadata": {
    "execution": {
     "iopub.execute_input": "2022-03-12T07:56:09.459673Z",
     "iopub.status.busy": "2022-03-12T07:56:09.459513Z",
     "iopub.status.idle": "2022-03-12T07:56:09.478253Z",
     "shell.execute_reply": "2022-03-12T07:56:09.477669Z",
     "shell.execute_reply.started": "2022-03-12T07:56:09.459654Z"
    },
    "tags": []
   },
   "outputs": [],
   "source": [
    "ref = [[np.array([1])]]\n",
    "parse = lambda data, mode='imshow': plot.parse_data(data, combine=combine, mode=mode)[0] == ref"
   ]
  },
  {
   "cell_type": "code",
   "execution_count": 9,
   "id": "bc220ca2-46bc-43eb-a886-7b3a5deb3b18",
   "metadata": {
    "execution": {
     "iopub.execute_input": "2022-03-12T07:56:09.479038Z",
     "iopub.status.busy": "2022-03-12T07:56:09.478896Z",
     "iopub.status.idle": "2022-03-12T07:56:09.497365Z",
     "shell.execute_reply": "2022-03-12T07:56:09.496747Z",
     "shell.execute_reply.started": "2022-03-12T07:56:09.479021Z"
    },
    "tags": []
   },
   "outputs": [],
   "source": [
    "# single\n",
    "d = [1]\n",
    "assert parse(d)"
   ]
  },
  {
   "cell_type": "code",
   "execution_count": 10,
   "id": "8b2df67a-ebe5-4e9e-b6b2-4cb32e9a5cba",
   "metadata": {
    "execution": {
     "iopub.execute_input": "2022-03-12T07:56:09.498234Z",
     "iopub.status.busy": "2022-03-12T07:56:09.498078Z",
     "iopub.status.idle": "2022-03-12T07:56:09.516330Z",
     "shell.execute_reply": "2022-03-12T07:56:09.515731Z",
     "shell.execute_reply.started": "2022-03-12T07:56:09.498216Z"
    },
    "tags": []
   },
   "outputs": [],
   "source": [
    "# list\n",
    "d = [[1]]\n",
    "assert parse(d)"
   ]
  },
  {
   "cell_type": "code",
   "execution_count": 11,
   "id": "f28bcdad-44d4-412d-b195-c04696296f28",
   "metadata": {
    "execution": {
     "iopub.execute_input": "2022-03-12T07:56:09.517151Z",
     "iopub.status.busy": "2022-03-12T07:56:09.517004Z",
     "iopub.status.idle": "2022-03-12T07:56:09.535548Z",
     "shell.execute_reply": "2022-03-12T07:56:09.534960Z",
     "shell.execute_reply.started": "2022-03-12T07:56:09.517133Z"
    },
    "tags": []
   },
   "outputs": [],
   "source": [
    "# nested list\n",
    "d = [[[1]]]\n",
    "assert parse(d)"
   ]
  },
  {
   "cell_type": "markdown",
   "id": "816e985e-e9d4-4add-bfdf-46ed3500c4f9",
   "metadata": {
    "tags": []
   },
   "source": [
    "###### data item is tuple of array"
   ]
  },
  {
   "cell_type": "code",
   "execution_count": 12,
   "id": "21eda731-4608-4bc1-b617-914439e090d7",
   "metadata": {
    "execution": {
     "iopub.execute_input": "2022-03-12T07:56:09.538088Z",
     "iopub.status.busy": "2022-03-12T07:56:09.537838Z",
     "iopub.status.idle": "2022-03-12T07:56:09.556466Z",
     "shell.execute_reply": "2022-03-12T07:56:09.555876Z",
     "shell.execute_reply.started": "2022-03-12T07:56:09.538068Z"
    },
    "tags": []
   },
   "outputs": [],
   "source": [
    "data = [[np.array([1])]]"
   ]
  },
  {
   "cell_type": "code",
   "execution_count": 13,
   "id": "8e7880c8-688e-4ad0-8074-d6740a08252d",
   "metadata": {
    "execution": {
     "iopub.execute_input": "2022-03-12T07:56:09.557299Z",
     "iopub.status.busy": "2022-03-12T07:56:09.557156Z",
     "iopub.status.idle": "2022-03-12T07:56:09.575136Z",
     "shell.execute_reply": "2022-03-12T07:56:09.574530Z",
     "shell.execute_reply.started": "2022-03-12T07:56:09.557281Z"
    },
    "tags": []
   },
   "outputs": [],
   "source": [
    "# single\n",
    "d = (np.array([1]),)\n",
    "assert parse(d, 'curve')"
   ]
  },
  {
   "cell_type": "code",
   "execution_count": 14,
   "id": "da686b09-4030-4da2-9365-09c1596549b8",
   "metadata": {
    "execution": {
     "iopub.execute_input": "2022-03-12T07:56:09.576018Z",
     "iopub.status.busy": "2022-03-12T07:56:09.575863Z",
     "iopub.status.idle": "2022-03-12T07:56:09.596114Z",
     "shell.execute_reply": "2022-03-12T07:56:09.595383Z",
     "shell.execute_reply.started": "2022-03-12T07:56:09.575999Z"
    },
    "tags": []
   },
   "outputs": [],
   "source": [
    "# list\n",
    "d = [(np.array([1]),)]\n",
    "assert parse(d, 'curve')"
   ]
  },
  {
   "cell_type": "code",
   "execution_count": 15,
   "id": "52fe0fea-2c7c-47af-b901-3c121db762e2",
   "metadata": {
    "execution": {
     "iopub.execute_input": "2022-03-12T07:56:09.597736Z",
     "iopub.status.busy": "2022-03-12T07:56:09.597167Z",
     "iopub.status.idle": "2022-03-12T07:56:09.622426Z",
     "shell.execute_reply": "2022-03-12T07:56:09.621915Z",
     "shell.execute_reply.started": "2022-03-12T07:56:09.597705Z"
    },
    "tags": []
   },
   "outputs": [],
   "source": [
    "# nested list\n",
    "d = [[(np.array([1]),)]]\n",
    "assert parse(d)"
   ]
  },
  {
   "cell_type": "markdown",
   "id": "86321718-8829-4bbb-b216-805d49ba7f83",
   "metadata": {
    "tags": []
   },
   "source": [
    "###### data item is tuple of list of number"
   ]
  },
  {
   "cell_type": "code",
   "execution_count": 16,
   "id": "15ddf96b-84aa-485d-84ad-00a9f8403b24",
   "metadata": {
    "execution": {
     "iopub.execute_input": "2022-03-12T07:56:09.623523Z",
     "iopub.status.busy": "2022-03-12T07:56:09.623133Z",
     "iopub.status.idle": "2022-03-12T07:56:09.644323Z",
     "shell.execute_reply": "2022-03-12T07:56:09.643754Z",
     "shell.execute_reply.started": "2022-03-12T07:56:09.623502Z"
    },
    "tags": []
   },
   "outputs": [],
   "source": [
    "ref = [[np.array([1])]]\n",
    "parse = lambda data, mode='imshow': plot.parse_data(data, combine=combine, mode=mode)[0] == ref"
   ]
  },
  {
   "cell_type": "code",
   "execution_count": 17,
   "id": "498db4e3-7690-4ad3-97e9-e79014aa25a1",
   "metadata": {
    "execution": {
     "iopub.execute_input": "2022-03-12T07:56:09.645159Z",
     "iopub.status.busy": "2022-03-12T07:56:09.645011Z",
     "iopub.status.idle": "2022-03-12T07:56:09.663155Z",
     "shell.execute_reply": "2022-03-12T07:56:09.662599Z",
     "shell.execute_reply.started": "2022-03-12T07:56:09.645141Z"
    },
    "tags": []
   },
   "outputs": [],
   "source": [
    "# single\n",
    "d = ([1],)\n",
    "assert parse(d, 'curve')"
   ]
  },
  {
   "cell_type": "code",
   "execution_count": 18,
   "id": "28a09e2e-98db-4d91-9468-1062a7fb0bb0",
   "metadata": {
    "execution": {
     "iopub.execute_input": "2022-03-12T07:56:09.664330Z",
     "iopub.status.busy": "2022-03-12T07:56:09.663905Z",
     "iopub.status.idle": "2022-03-12T07:56:09.685060Z",
     "shell.execute_reply": "2022-03-12T07:56:09.684526Z",
     "shell.execute_reply.started": "2022-03-12T07:56:09.664307Z"
    },
    "tags": []
   },
   "outputs": [],
   "source": [
    "# list\n",
    "d = [([1],)]\n",
    "assert parse(d, 'curve')"
   ]
  },
  {
   "cell_type": "code",
   "execution_count": 19,
   "id": "13027403-d7e3-403e-a1bb-cf5b7f098602",
   "metadata": {
    "execution": {
     "iopub.execute_input": "2022-03-12T07:56:09.686182Z",
     "iopub.status.busy": "2022-03-12T07:56:09.685790Z",
     "iopub.status.idle": "2022-03-12T07:56:09.703892Z",
     "shell.execute_reply": "2022-03-12T07:56:09.703341Z",
     "shell.execute_reply.started": "2022-03-12T07:56:09.686160Z"
    },
    "tags": []
   },
   "outputs": [],
   "source": [
    "# nested list\n",
    "d = [[([1],)]]\n",
    "assert parse(d)"
   ]
  },
  {
   "cell_type": "markdown",
   "id": "042411f5-a0e1-4902-a251-577e64eaceb9",
   "metadata": {
    "tags": []
   },
   "source": [
    "##### `combine = separate`"
   ]
  },
  {
   "cell_type": "code",
   "execution_count": 20,
   "id": "9e367929-72e5-4280-a07e-1a732a1dbad2",
   "metadata": {
    "execution": {
     "iopub.execute_input": "2022-03-12T07:56:09.704844Z",
     "iopub.status.busy": "2022-03-12T07:56:09.704584Z",
     "iopub.status.idle": "2022-03-12T07:56:09.722127Z",
     "shell.execute_reply": "2022-03-12T07:56:09.721566Z",
     "shell.execute_reply.started": "2022-03-12T07:56:09.704824Z"
    },
    "tags": []
   },
   "outputs": [],
   "source": [
    "combine = 'separate'"
   ]
  },
  {
   "cell_type": "markdown",
   "id": "22538b2e-26b2-4954-837e-a4680075f574",
   "metadata": {
    "tags": []
   },
   "source": [
    "###### data item is array"
   ]
  },
  {
   "cell_type": "code",
   "execution_count": 21,
   "id": "de7db654-f54d-40cb-b970-57c8ada3fa28",
   "metadata": {
    "execution": {
     "iopub.execute_input": "2022-03-12T07:56:09.723171Z",
     "iopub.status.busy": "2022-03-12T07:56:09.722896Z",
     "iopub.status.idle": "2022-03-12T07:56:09.742257Z",
     "shell.execute_reply": "2022-03-12T07:56:09.741726Z",
     "shell.execute_reply.started": "2022-03-12T07:56:09.723149Z"
    },
    "tags": []
   },
   "outputs": [],
   "source": [
    "ref = [[np.array([1])]]\n",
    "parse = lambda data, mode='imshow': plot.parse_data(data, combine=combine, mode=mode)[0] == ref"
   ]
  },
  {
   "cell_type": "code",
   "execution_count": 22,
   "id": "77f942ac-ddde-4456-9455-29ba18d5a375",
   "metadata": {
    "execution": {
     "iopub.execute_input": "2022-03-12T07:56:09.743389Z",
     "iopub.status.busy": "2022-03-12T07:56:09.742951Z",
     "iopub.status.idle": "2022-03-12T07:56:09.761078Z",
     "shell.execute_reply": "2022-03-12T07:56:09.760515Z",
     "shell.execute_reply.started": "2022-03-12T07:56:09.743368Z"
    },
    "tags": []
   },
   "outputs": [],
   "source": [
    "# single\n",
    "d = np.array([1])\n",
    "assert parse(d)"
   ]
  },
  {
   "cell_type": "code",
   "execution_count": 23,
   "id": "ac266eb5-0813-4c65-bf47-6a9a296f3698",
   "metadata": {
    "execution": {
     "iopub.execute_input": "2022-03-12T07:56:09.762329Z",
     "iopub.status.busy": "2022-03-12T07:56:09.761825Z",
     "iopub.status.idle": "2022-03-12T07:56:09.781053Z",
     "shell.execute_reply": "2022-03-12T07:56:09.780508Z",
     "shell.execute_reply.started": "2022-03-12T07:56:09.762307Z"
    },
    "tags": []
   },
   "outputs": [],
   "source": [
    "# list\n",
    "d = [np.array([1])]\n",
    "assert parse(d)"
   ]
  },
  {
   "cell_type": "markdown",
   "id": "7def50cd-c03b-4221-b31c-cf62de66555f",
   "metadata": {
    "tags": []
   },
   "source": [
    "###### data item is list of number"
   ]
  },
  {
   "cell_type": "code",
   "execution_count": 24,
   "id": "74c65cbb-4234-42cd-89c4-a75540913934",
   "metadata": {
    "execution": {
     "iopub.execute_input": "2022-03-12T07:56:09.782057Z",
     "iopub.status.busy": "2022-03-12T07:56:09.781777Z",
     "iopub.status.idle": "2022-03-12T07:56:09.801014Z",
     "shell.execute_reply": "2022-03-12T07:56:09.800472Z",
     "shell.execute_reply.started": "2022-03-12T07:56:09.782035Z"
    },
    "tags": []
   },
   "outputs": [],
   "source": [
    "ref = [[np.array([1])]]\n",
    "parse = lambda data, mode='imshow': plot.parse_data(data, combine=combine, mode=mode)[0] == ref"
   ]
  },
  {
   "cell_type": "code",
   "execution_count": 25,
   "id": "43915ee1-ae55-472e-891a-ba853e82b39d",
   "metadata": {
    "execution": {
     "iopub.execute_input": "2022-03-12T07:56:09.802242Z",
     "iopub.status.busy": "2022-03-12T07:56:09.801730Z",
     "iopub.status.idle": "2022-03-12T07:56:09.822943Z",
     "shell.execute_reply": "2022-03-12T07:56:09.822389Z",
     "shell.execute_reply.started": "2022-03-12T07:56:09.802222Z"
    },
    "tags": []
   },
   "outputs": [],
   "source": [
    "# single\n",
    "d = [1]\n",
    "assert parse(d)"
   ]
  },
  {
   "cell_type": "code",
   "execution_count": 26,
   "id": "4c8c81a0-2347-44bc-9d38-7da71a56e089",
   "metadata": {
    "execution": {
     "iopub.execute_input": "2022-03-12T07:56:09.823918Z",
     "iopub.status.busy": "2022-03-12T07:56:09.823657Z",
     "iopub.status.idle": "2022-03-12T07:56:09.842122Z",
     "shell.execute_reply": "2022-03-12T07:56:09.841552Z",
     "shell.execute_reply.started": "2022-03-12T07:56:09.823897Z"
    },
    "tags": []
   },
   "outputs": [],
   "source": [
    "# list\n",
    "d = [[1]]\n",
    "assert parse(d)"
   ]
  },
  {
   "cell_type": "markdown",
   "id": "f0ca8091-c66a-4bba-b9bf-3c94eea67b48",
   "metadata": {
    "tags": []
   },
   "source": [
    "###### data item is tuple of array"
   ]
  },
  {
   "cell_type": "code",
   "execution_count": 27,
   "id": "5beb0e8c-dd8d-4877-98a2-77ea6bd518d6",
   "metadata": {
    "execution": {
     "iopub.execute_input": "2022-03-12T07:56:09.843006Z",
     "iopub.status.busy": "2022-03-12T07:56:09.842844Z",
     "iopub.status.idle": "2022-03-12T07:56:09.863167Z",
     "shell.execute_reply": "2022-03-12T07:56:09.862587Z",
     "shell.execute_reply.started": "2022-03-12T07:56:09.842986Z"
    },
    "tags": []
   },
   "outputs": [],
   "source": [
    "ref = [[(np.array([1]),)]]\n",
    "parse = lambda data, mode='imshow': plot.parse_data(data, combine=combine, mode=mode)[0] == ref"
   ]
  },
  {
   "cell_type": "code",
   "execution_count": 28,
   "id": "e8d3cd23-ddae-42ac-8b46-4bc440243ee1",
   "metadata": {
    "execution": {
     "iopub.execute_input": "2022-03-12T07:56:09.864162Z",
     "iopub.status.busy": "2022-03-12T07:56:09.863917Z",
     "iopub.status.idle": "2022-03-12T07:56:09.882063Z",
     "shell.execute_reply": "2022-03-12T07:56:09.881513Z",
     "shell.execute_reply.started": "2022-03-12T07:56:09.864142Z"
    },
    "tags": []
   },
   "outputs": [],
   "source": [
    "# single\n",
    "d = (np.array([1]),)\n",
    "assert parse(d, 'curve')"
   ]
  },
  {
   "cell_type": "code",
   "execution_count": 29,
   "id": "beb75c71-b887-42a0-bf09-75653045c813",
   "metadata": {
    "execution": {
     "iopub.execute_input": "2022-03-12T07:56:09.883039Z",
     "iopub.status.busy": "2022-03-12T07:56:09.882773Z",
     "iopub.status.idle": "2022-03-12T07:56:09.901920Z",
     "shell.execute_reply": "2022-03-12T07:56:09.901389Z",
     "shell.execute_reply.started": "2022-03-12T07:56:09.883018Z"
    },
    "tags": []
   },
   "outputs": [],
   "source": [
    "# list\n",
    "d = [(np.array([1]),)]\n",
    "assert parse(d, 'curve')"
   ]
  },
  {
   "cell_type": "markdown",
   "id": "0453ebf5-cfbb-43ef-b7ab-82908c0094b3",
   "metadata": {
    "execution": {
     "iopub.execute_input": "2022-03-09T16:25:09.228343Z",
     "iopub.status.busy": "2022-03-09T16:25:09.227920Z",
     "iopub.status.idle": "2022-03-09T16:25:09.255776Z",
     "shell.execute_reply": "2022-03-09T16:25:09.255166Z",
     "shell.execute_reply.started": "2022-03-09T16:25:09.228293Z"
    },
    "tags": []
   },
   "source": [
    "###### data item is tuple of list of number"
   ]
  },
  {
   "cell_type": "code",
   "execution_count": 30,
   "id": "3340c505-5a38-4aa1-9f16-39af37b748e0",
   "metadata": {
    "execution": {
     "iopub.execute_input": "2022-03-12T07:56:09.902737Z",
     "iopub.status.busy": "2022-03-12T07:56:09.902589Z",
     "iopub.status.idle": "2022-03-12T07:56:09.921472Z",
     "shell.execute_reply": "2022-03-12T07:56:09.920878Z",
     "shell.execute_reply.started": "2022-03-12T07:56:09.902719Z"
    },
    "tags": []
   },
   "outputs": [],
   "source": [
    "ref = [[(np.array([1]),)]]\n",
    "parse = lambda data, mode='imshow': plot.parse_data(data, combine=combine, mode=mode)[0] == ref"
   ]
  },
  {
   "cell_type": "code",
   "execution_count": 31,
   "id": "429cbfc4-bbda-429e-b1ba-3bb2d971c238",
   "metadata": {
    "execution": {
     "iopub.execute_input": "2022-03-12T07:56:09.922675Z",
     "iopub.status.busy": "2022-03-12T07:56:09.922483Z",
     "iopub.status.idle": "2022-03-12T07:56:09.942583Z",
     "shell.execute_reply": "2022-03-12T07:56:09.942046Z",
     "shell.execute_reply.started": "2022-03-12T07:56:09.922654Z"
    },
    "tags": []
   },
   "outputs": [],
   "source": [
    "# single\n",
    "d = ([1],)\n",
    "assert parse(d, 'curve')"
   ]
  },
  {
   "cell_type": "code",
   "execution_count": 32,
   "id": "247a9587-874a-480f-9eb9-6d288bbaccec",
   "metadata": {
    "execution": {
     "iopub.execute_input": "2022-03-12T07:56:09.943719Z",
     "iopub.status.busy": "2022-03-12T07:56:09.943315Z",
     "iopub.status.idle": "2022-03-12T07:56:09.962339Z",
     "shell.execute_reply": "2022-03-12T07:56:09.961858Z",
     "shell.execute_reply.started": "2022-03-12T07:56:09.943698Z"
    },
    "tags": []
   },
   "outputs": [],
   "source": [
    "# list of tuple of list of number\n",
    "d = [([1],)]\n",
    "assert parse(d, 'curve')"
   ]
  },
  {
   "cell_type": "markdown",
   "id": "4f43f156-9424-4a44-9196-a27197da62e5",
   "metadata": {
    "tags": []
   },
   "source": [
    "#### two data items"
   ]
  },
  {
   "cell_type": "markdown",
   "id": "c2a598c1-6605-4c26-a1fc-90b913378a5c",
   "metadata": {
    "tags": []
   },
   "source": [
    "##### `combine=overlay`"
   ]
  },
  {
   "cell_type": "code",
   "execution_count": 33,
   "id": "52b71151-37d1-4348-86fd-a8fc8b1d4572",
   "metadata": {
    "execution": {
     "iopub.execute_input": "2022-03-12T07:56:09.963303Z",
     "iopub.status.busy": "2022-03-12T07:56:09.963029Z",
     "iopub.status.idle": "2022-03-12T07:56:09.981056Z",
     "shell.execute_reply": "2022-03-12T07:56:09.980546Z",
     "shell.execute_reply.started": "2022-03-12T07:56:09.963283Z"
    },
    "tags": []
   },
   "outputs": [],
   "source": [
    "combine = 'overlay'"
   ]
  },
  {
   "cell_type": "markdown",
   "id": "863b3e4f-e468-4a69-bfe6-d1be9ff5a1d9",
   "metadata": {
    "tags": []
   },
   "source": [
    "###### data items are two arrays"
   ]
  },
  {
   "cell_type": "code",
   "execution_count": 34,
   "id": "89973a64-345f-4c41-a4f8-17383e6f182a",
   "metadata": {
    "execution": {
     "iopub.execute_input": "2022-03-12T07:56:09.982290Z",
     "iopub.status.busy": "2022-03-12T07:56:09.981790Z",
     "iopub.status.idle": "2022-03-12T07:56:10.002501Z",
     "shell.execute_reply": "2022-03-12T07:56:10.002040Z",
     "shell.execute_reply.started": "2022-03-12T07:56:09.982268Z"
    },
    "tags": []
   },
   "outputs": [],
   "source": [
    "ref = [[np.array([0]), np.array([1])]]\n",
    "parse = lambda data, mode='imshow': plot.parse_data(data, combine=combine, mode=mode)[0] == ref"
   ]
  },
  {
   "cell_type": "code",
   "execution_count": 35,
   "id": "2a911dab-1be3-4ced-8bcf-667ff60c097b",
   "metadata": {
    "execution": {
     "iopub.execute_input": "2022-03-12T07:56:10.003560Z",
     "iopub.status.busy": "2022-03-12T07:56:10.003169Z",
     "iopub.status.idle": "2022-03-12T07:56:10.021063Z",
     "shell.execute_reply": "2022-03-12T07:56:10.020509Z",
     "shell.execute_reply.started": "2022-03-12T07:56:10.003539Z"
    },
    "tags": []
   },
   "outputs": [],
   "source": [
    "# list\n",
    "d = [np.array([0]), np.array([1])]\n",
    "assert parse(d)"
   ]
  },
  {
   "cell_type": "code",
   "execution_count": 36,
   "id": "7c11249b-7234-4308-a933-2f90485f060a",
   "metadata": {
    "execution": {
     "iopub.execute_input": "2022-03-12T07:56:10.022047Z",
     "iopub.status.busy": "2022-03-12T07:56:10.021769Z",
     "iopub.status.idle": "2022-03-12T07:56:10.043160Z",
     "shell.execute_reply": "2022-03-12T07:56:10.042621Z",
     "shell.execute_reply.started": "2022-03-12T07:56:10.022027Z"
    },
    "tags": []
   },
   "outputs": [],
   "source": [
    "# nested list\n",
    "d = [[np.array([0]), np.array([1])]]\n",
    "assert parse(d)"
   ]
  },
  {
   "cell_type": "markdown",
   "id": "8161ad1c-9a6b-4457-aabb-56bd4b95a8ad",
   "metadata": {
    "tags": []
   },
   "source": [
    "###### data items are two lists of number"
   ]
  },
  {
   "cell_type": "code",
   "execution_count": 37,
   "id": "f6af3745-9ebb-4f77-8291-61d121d94064",
   "metadata": {
    "execution": {
     "iopub.execute_input": "2022-03-12T07:56:10.044137Z",
     "iopub.status.busy": "2022-03-12T07:56:10.043903Z",
     "iopub.status.idle": "2022-03-12T07:56:10.063116Z",
     "shell.execute_reply": "2022-03-12T07:56:10.062530Z",
     "shell.execute_reply.started": "2022-03-12T07:56:10.044117Z"
    },
    "tags": []
   },
   "outputs": [],
   "source": [
    "ref = [[np.array([0]), np.array([1])]]\n",
    "parse = lambda data, mode='imshow': plot.parse_data(data, combine=combine, mode=mode)[0] == ref"
   ]
  },
  {
   "cell_type": "code",
   "execution_count": 38,
   "id": "9ade0a32-7b18-48bb-be4f-6e5bd623d09e",
   "metadata": {
    "execution": {
     "iopub.execute_input": "2022-03-12T07:56:10.064106Z",
     "iopub.status.busy": "2022-03-12T07:56:10.063837Z",
     "iopub.status.idle": "2022-03-12T07:56:10.082399Z",
     "shell.execute_reply": "2022-03-12T07:56:10.081688Z",
     "shell.execute_reply.started": "2022-03-12T07:56:10.064085Z"
    },
    "tags": []
   },
   "outputs": [],
   "source": [
    "# list\n",
    "d = [[0], [1]]\n",
    "assert parse(d)"
   ]
  },
  {
   "cell_type": "code",
   "execution_count": 39,
   "id": "f0dc4068-6f38-4f88-a27a-0017a4e62a18",
   "metadata": {
    "execution": {
     "iopub.execute_input": "2022-03-12T07:56:10.085868Z",
     "iopub.status.busy": "2022-03-12T07:56:10.085408Z",
     "iopub.status.idle": "2022-03-12T07:56:10.101162Z",
     "shell.execute_reply": "2022-03-12T07:56:10.100672Z",
     "shell.execute_reply.started": "2022-03-12T07:56:10.085846Z"
    },
    "tags": []
   },
   "outputs": [],
   "source": [
    "# nested list\n",
    "d = [[[0], [1]]]\n",
    "assert parse(d)"
   ]
  },
  {
   "cell_type": "markdown",
   "id": "51fca225-44e9-411f-b81d-e1a349a0fb6c",
   "metadata": {
    "tags": []
   },
   "source": [
    "###### data items are tuples of array"
   ]
  },
  {
   "cell_type": "code",
   "execution_count": 40,
   "id": "ea5c0a00-b682-4cee-98c2-56099d34f024",
   "metadata": {
    "execution": {
     "iopub.execute_input": "2022-03-12T07:56:10.101964Z",
     "iopub.status.busy": "2022-03-12T07:56:10.101763Z",
     "iopub.status.idle": "2022-03-12T07:56:10.116701Z",
     "shell.execute_reply": "2022-03-12T07:56:10.116198Z",
     "shell.execute_reply.started": "2022-03-12T07:56:10.101948Z"
    },
    "tags": []
   },
   "outputs": [],
   "source": [
    "ref = [[(np.array([0]), ), (np.array([1]), )]]\n",
    "parse = lambda data, mode='imshow': plot.parse_data(data, combine=combine, mode=mode)[0] == ref"
   ]
  },
  {
   "cell_type": "code",
   "execution_count": 41,
   "id": "61bfe431-3103-410a-b36e-64b838f60207",
   "metadata": {
    "execution": {
     "iopub.execute_input": "2022-03-12T07:56:10.117459Z",
     "iopub.status.busy": "2022-03-12T07:56:10.117317Z",
     "iopub.status.idle": "2022-03-12T07:56:10.132041Z",
     "shell.execute_reply": "2022-03-12T07:56:10.131538Z",
     "shell.execute_reply.started": "2022-03-12T07:56:10.117444Z"
    },
    "tags": []
   },
   "outputs": [],
   "source": [
    "# list\n",
    "d = [(np.array([0]),), (np.array([1]),)]\n",
    "assert parse(d, 'curve')"
   ]
  },
  {
   "cell_type": "code",
   "execution_count": 42,
   "id": "158adc92-e65e-44bd-a6dc-786ef5ede3b8",
   "metadata": {
    "execution": {
     "iopub.execute_input": "2022-03-12T07:56:10.132760Z",
     "iopub.status.busy": "2022-03-12T07:56:10.132637Z",
     "iopub.status.idle": "2022-03-12T07:56:10.148361Z",
     "shell.execute_reply": "2022-03-12T07:56:10.147779Z",
     "shell.execute_reply.started": "2022-03-12T07:56:10.132745Z"
    },
    "tags": []
   },
   "outputs": [],
   "source": [
    "# nested list\n",
    "d = [[(np.array([0]),), (np.array([1]),)]]\n",
    "assert parse(d)"
   ]
  },
  {
   "cell_type": "markdown",
   "id": "3b93a63b-0257-4608-9596-8b38a5eed8b7",
   "metadata": {
    "tags": []
   },
   "source": [
    "###### data items are tuples of list of number"
   ]
  },
  {
   "cell_type": "code",
   "execution_count": 43,
   "id": "888dfbad-150d-4e60-aa2b-656a4d3255eb",
   "metadata": {
    "execution": {
     "iopub.execute_input": "2022-03-12T07:56:10.149710Z",
     "iopub.status.busy": "2022-03-12T07:56:10.149242Z",
     "iopub.status.idle": "2022-03-12T07:56:10.170011Z",
     "shell.execute_reply": "2022-03-12T07:56:10.169553Z",
     "shell.execute_reply.started": "2022-03-12T07:56:10.149680Z"
    },
    "tags": []
   },
   "outputs": [],
   "source": [
    "ref = [[(np.array([0]), ), (np.array([1]), )]]\n",
    "parse = lambda data, mode='imshow': plot.parse_data(data, combine=combine, mode=mode)[0] == ref"
   ]
  },
  {
   "cell_type": "code",
   "execution_count": 44,
   "id": "962786a4-cb7d-4fe4-8b6d-bbde1c31735e",
   "metadata": {
    "execution": {
     "iopub.execute_input": "2022-03-12T07:56:10.170708Z",
     "iopub.status.busy": "2022-03-12T07:56:10.170587Z",
     "iopub.status.idle": "2022-03-12T07:56:10.187556Z",
     "shell.execute_reply": "2022-03-12T07:56:10.187033Z",
     "shell.execute_reply.started": "2022-03-12T07:56:10.170693Z"
    },
    "tags": []
   },
   "outputs": [],
   "source": [
    "# list\n",
    "d = [([0],), ([1],)]\n",
    "assert parse(d, 'curve')"
   ]
  },
  {
   "cell_type": "code",
   "execution_count": 45,
   "id": "07fd215f-d306-4ce5-b3c5-300777ff939b",
   "metadata": {
    "execution": {
     "iopub.execute_input": "2022-03-12T07:56:10.188558Z",
     "iopub.status.busy": "2022-03-12T07:56:10.188315Z",
     "iopub.status.idle": "2022-03-12T07:56:10.209969Z",
     "shell.execute_reply": "2022-03-12T07:56:10.209365Z",
     "shell.execute_reply.started": "2022-03-12T07:56:10.188536Z"
    },
    "tags": []
   },
   "outputs": [],
   "source": [
    "# nested list\n",
    "d = [[([0],), ([1],)]]\n",
    "assert parse(d, 'curve')"
   ]
  },
  {
   "cell_type": "markdown",
   "id": "dfa0c3aa-30b9-4c73-b4a7-6942a5d816ca",
   "metadata": {
    "tags": []
   },
   "source": [
    "##### `combine=separate`"
   ]
  },
  {
   "cell_type": "code",
   "execution_count": 46,
   "id": "0129427c-90cc-434f-91c5-e2b0d6710f2b",
   "metadata": {
    "execution": {
     "iopub.execute_input": "2022-03-12T07:56:10.211057Z",
     "iopub.status.busy": "2022-03-12T07:56:10.210809Z",
     "iopub.status.idle": "2022-03-12T07:56:10.229989Z",
     "shell.execute_reply": "2022-03-12T07:56:10.229434Z",
     "shell.execute_reply.started": "2022-03-12T07:56:10.211036Z"
    },
    "tags": []
   },
   "outputs": [],
   "source": [
    "combine = 'separate'"
   ]
  },
  {
   "cell_type": "markdown",
   "id": "2355e365-4bdd-4764-b8b5-b3d4c425c075",
   "metadata": {
    "tags": []
   },
   "source": [
    "###### data items are two arrays"
   ]
  },
  {
   "cell_type": "code",
   "execution_count": 47,
   "id": "5c23f8c2-c033-4134-bd10-f3371b8c8dc3",
   "metadata": {
    "execution": {
     "iopub.execute_input": "2022-03-12T07:56:10.230693Z",
     "iopub.status.busy": "2022-03-12T07:56:10.230549Z",
     "iopub.status.idle": "2022-03-12T07:56:10.248771Z",
     "shell.execute_reply": "2022-03-12T07:56:10.248192Z",
     "shell.execute_reply.started": "2022-03-12T07:56:10.230675Z"
    },
    "tags": []
   },
   "outputs": [],
   "source": [
    "ref = [[np.array([0])], [np.array([1])]]\n",
    "parse = lambda data, mode='imshow': plot.parse_data(data, combine=combine, mode=mode)[0] == ref"
   ]
  },
  {
   "cell_type": "code",
   "execution_count": 48,
   "id": "e4618c13-3c70-410e-9815-d647aa719b50",
   "metadata": {
    "execution": {
     "iopub.execute_input": "2022-03-12T07:56:10.249605Z",
     "iopub.status.busy": "2022-03-12T07:56:10.249459Z",
     "iopub.status.idle": "2022-03-12T07:56:10.267264Z",
     "shell.execute_reply": "2022-03-12T07:56:10.266698Z",
     "shell.execute_reply.started": "2022-03-12T07:56:10.249587Z"
    },
    "tags": []
   },
   "outputs": [],
   "source": [
    "# list\n",
    "d = [np.array([0]), np.array([1])]\n",
    "assert parse(d)"
   ]
  },
  {
   "cell_type": "markdown",
   "id": "d1ac48db-1bf4-4cc1-9280-c5aff8455dfa",
   "metadata": {
    "tags": []
   },
   "source": [
    "###### data items are two lists of number"
   ]
  },
  {
   "cell_type": "code",
   "execution_count": 49,
   "id": "ec11f3e3-d999-4d6e-b6de-2ebb88c5d069",
   "metadata": {
    "execution": {
     "iopub.execute_input": "2022-03-12T07:56:10.268086Z",
     "iopub.status.busy": "2022-03-12T07:56:10.267941Z",
     "iopub.status.idle": "2022-03-12T07:56:10.286161Z",
     "shell.execute_reply": "2022-03-12T07:56:10.285565Z",
     "shell.execute_reply.started": "2022-03-12T07:56:10.268068Z"
    },
    "tags": []
   },
   "outputs": [],
   "source": [
    "ref = [[np.array([0])], [np.array([1])]]\n",
    "parse = lambda data, mode='imshow': plot.parse_data(data, combine=combine, mode=mode)[0] == ref"
   ]
  },
  {
   "cell_type": "code",
   "execution_count": 50,
   "id": "a338c5ee-e134-4b16-a749-b2e0fce0d423",
   "metadata": {
    "execution": {
     "iopub.execute_input": "2022-03-12T07:56:10.287213Z",
     "iopub.status.busy": "2022-03-12T07:56:10.287066Z",
     "iopub.status.idle": "2022-03-12T07:56:10.304227Z",
     "shell.execute_reply": "2022-03-12T07:56:10.303621Z",
     "shell.execute_reply.started": "2022-03-12T07:56:10.287195Z"
    },
    "tags": []
   },
   "outputs": [],
   "source": [
    "# list\n",
    "d = [[0], [1]]\n",
    "assert parse(d)"
   ]
  },
  {
   "cell_type": "markdown",
   "id": "26a66e58-65ac-436c-aa84-39fd889bd498",
   "metadata": {
    "tags": []
   },
   "source": [
    "###### data items are tuples of array"
   ]
  },
  {
   "cell_type": "code",
   "execution_count": 51,
   "id": "d19dab5b-331c-42e1-a8f4-706ae930b12b",
   "metadata": {
    "execution": {
     "iopub.execute_input": "2022-03-12T07:56:10.305049Z",
     "iopub.status.busy": "2022-03-12T07:56:10.304906Z",
     "iopub.status.idle": "2022-03-12T07:56:10.322779Z",
     "shell.execute_reply": "2022-03-12T07:56:10.322195Z",
     "shell.execute_reply.started": "2022-03-12T07:56:10.305031Z"
    },
    "tags": []
   },
   "outputs": [],
   "source": [
    "ref = [[(np.array([0]), )], [(np.array([1]), )]]\n",
    "parse = lambda data, mode='imshow': plot.parse_data(data, combine=combine, mode=mode)[0] == ref"
   ]
  },
  {
   "cell_type": "code",
   "execution_count": 52,
   "id": "bf27de74-3f02-41b4-8d1a-baa8cef4274a",
   "metadata": {
    "execution": {
     "iopub.execute_input": "2022-03-12T07:56:10.323655Z",
     "iopub.status.busy": "2022-03-12T07:56:10.323498Z",
     "iopub.status.idle": "2022-03-12T07:56:10.340931Z",
     "shell.execute_reply": "2022-03-12T07:56:10.340333Z",
     "shell.execute_reply.started": "2022-03-12T07:56:10.323627Z"
    },
    "tags": []
   },
   "outputs": [],
   "source": [
    "# list\n",
    "d = [(np.array([0]),), (np.array([1]),)]\n",
    "assert parse(d, 'curve')"
   ]
  },
  {
   "cell_type": "markdown",
   "id": "9e0648e5-f32f-41f6-9c03-e86cd16e3fc0",
   "metadata": {
    "tags": []
   },
   "source": [
    "###### data items are tuples of list of number"
   ]
  },
  {
   "cell_type": "code",
   "execution_count": 53,
   "id": "32a24f68-a7b1-49c2-afd5-307f73a46527",
   "metadata": {
    "execution": {
     "iopub.execute_input": "2022-03-12T07:56:10.341733Z",
     "iopub.status.busy": "2022-03-12T07:56:10.341590Z",
     "iopub.status.idle": "2022-03-12T07:56:10.359472Z",
     "shell.execute_reply": "2022-03-12T07:56:10.358893Z",
     "shell.execute_reply.started": "2022-03-12T07:56:10.341715Z"
    },
    "tags": []
   },
   "outputs": [],
   "source": [
    "ref = [[([0], )], [([1], )]]\n",
    "parse = lambda data, mode='imshow': plot.parse_data(data, combine=combine, mode=mode)[0] == ref"
   ]
  },
  {
   "cell_type": "code",
   "execution_count": 54,
   "id": "8d8c5689-98e9-4b33-8e14-8c0ad14cab94",
   "metadata": {
    "execution": {
     "iopub.execute_input": "2022-03-12T07:56:10.360300Z",
     "iopub.status.busy": "2022-03-12T07:56:10.360155Z",
     "iopub.status.idle": "2022-03-12T07:56:10.377710Z",
     "shell.execute_reply": "2022-03-12T07:56:10.377125Z",
     "shell.execute_reply.started": "2022-03-12T07:56:10.360282Z"
    },
    "tags": []
   },
   "outputs": [],
   "source": [
    "# list\n",
    "d = [([0],), ([1],)]\n",
    "assert parse(d, 'curve')"
   ]
  },
  {
   "cell_type": "markdown",
   "id": "774b6b34-0127-4383-8480-ea91eddfbfd4",
   "metadata": {
    "execution": {
     "iopub.execute_input": "2022-03-10T14:28:39.565223Z",
     "iopub.status.busy": "2022-03-10T14:28:39.564787Z",
     "iopub.status.idle": "2022-03-10T14:28:39.776224Z",
     "shell.execute_reply": "2022-03-10T14:28:39.775509Z",
     "shell.execute_reply.started": "2022-03-10T14:28:39.565174Z"
    }
   },
   "source": [
    "#### multiple data items"
   ]
  },
  {
   "cell_type": "code",
   "execution_count": 61,
   "id": "aa4a6ec3-9e93-461f-b77e-1f41e1ca1d82",
   "metadata": {
    "execution": {
     "iopub.execute_input": "2022-03-12T07:57:33.312155Z",
     "iopub.status.busy": "2022-03-12T07:57:33.311626Z",
     "iopub.status.idle": "2022-03-12T07:57:33.341685Z",
     "shell.execute_reply": "2022-03-12T07:57:33.341125Z",
     "shell.execute_reply.started": "2022-03-12T07:57:33.312103Z"
    },
    "tags": []
   },
   "outputs": [],
   "source": [
    "ref = [[np.array([0])], [np.array([1]), np.array([2])]]\n",
    "d = [np.array([0]), [np.array([1]), np.array([2])]]\n",
    "assert plot.parse_data(d, combine='mixed', mode='imshow')[0] == ref"
   ]
  }
 ],
 "metadata": {
  "kernelspec": {
   "display_name": "Python 3 (ipykernel)",
   "language": "python",
   "name": "python3"
  },
  "language_info": {
   "codemirror_mode": {
    "name": "ipython",
    "version": 3
   },
   "file_extension": ".py",
   "mimetype": "text/x-python",
   "name": "python",
   "nbconvert_exporter": "python",
   "pygments_lexer": "ipython3",
   "version": "3.8.10"
  },
  "widgets": {
   "application/vnd.jupyter.widget-state+json": {
    "state": {},
    "version_major": 2,
    "version_minor": 0
   }
  }
 },
 "nbformat": 4,
 "nbformat_minor": 5
}
