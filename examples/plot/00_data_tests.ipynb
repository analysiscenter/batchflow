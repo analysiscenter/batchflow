{
 "cells": [
  {
   "cell_type": "code",
   "execution_count": 1,
   "id": "5cdcc30f-3b82-4241-b315-b8f5f2fbb70c",
   "metadata": {
    "execution": {
     "iopub.execute_input": "2022-03-14T12:33:22.419642Z",
     "iopub.status.busy": "2022-03-14T12:33:22.419229Z",
     "iopub.status.idle": "2022-03-14T12:33:22.448318Z",
     "shell.execute_reply": "2022-03-14T12:33:22.447057Z",
     "shell.execute_reply.started": "2022-03-14T12:33:22.419562Z"
    },
    "tags": []
   },
   "outputs": [],
   "source": [
    "%load_ext autoreload\n",
    "%autoreload 2"
   ]
  },
  {
   "cell_type": "code",
   "execution_count": 2,
   "id": "d521cfe1-427a-44ea-8da4-945acfda77ca",
   "metadata": {
    "execution": {
     "iopub.execute_input": "2022-03-14T12:33:22.449390Z",
     "iopub.status.busy": "2022-03-14T12:33:22.449228Z",
     "iopub.status.idle": "2022-03-14T12:33:23.739319Z",
     "shell.execute_reply": "2022-03-14T12:33:23.738617Z",
     "shell.execute_reply.started": "2022-03-14T12:33:22.449370Z"
    },
    "tags": []
   },
   "outputs": [],
   "source": [
    "# Necessary imports\n",
    "import sys\n",
    "import numpy as np\n",
    "\n",
    "sys.path.insert(0, '../..')\n",
    "from batchflow import plot"
   ]
  },
  {
   "cell_type": "markdown",
   "id": "ab2c0c30-ff47-496f-b816-a5b9b79f0774",
   "metadata": {
    "execution": {
     "iopub.execute_input": "2022-03-09T15:58:06.468745Z",
     "iopub.status.busy": "2022-03-09T15:58:06.467996Z",
     "iopub.status.idle": "2022-03-09T15:58:06.495059Z",
     "shell.execute_reply": "2022-03-09T15:58:06.494484Z",
     "shell.execute_reply.started": "2022-03-09T15:58:06.468695Z"
    },
    "tags": []
   },
   "source": [
    "#### single data item"
   ]
  },
  {
   "cell_type": "markdown",
   "id": "62071db0-3fd7-4135-a8db-b9425870c4f4",
   "metadata": {
    "tags": []
   },
   "source": [
    "##### `combine = 'overlay'`"
   ]
  },
  {
   "cell_type": "code",
   "execution_count": 3,
   "id": "3de2af68-1cdb-49e4-8395-6d141564023a",
   "metadata": {
    "execution": {
     "iopub.execute_input": "2022-03-14T12:33:23.741061Z",
     "iopub.status.busy": "2022-03-14T12:33:23.740846Z",
     "iopub.status.idle": "2022-03-14T12:33:23.757523Z",
     "shell.execute_reply": "2022-03-14T12:33:23.757176Z",
     "shell.execute_reply.started": "2022-03-14T12:33:23.741040Z"
    },
    "tags": []
   },
   "outputs": [],
   "source": [
    "combine = 'overlay'"
   ]
  },
  {
   "cell_type": "markdown",
   "id": "ff071582-c97c-43df-9079-8fb300290755",
   "metadata": {
    "tags": []
   },
   "source": [
    "###### data item is array"
   ]
  },
  {
   "cell_type": "code",
   "execution_count": 4,
   "id": "3d7ead71-626e-4c7a-ba23-510f15f908ac",
   "metadata": {
    "execution": {
     "iopub.execute_input": "2022-03-14T12:33:23.758207Z",
     "iopub.status.busy": "2022-03-14T12:33:23.758076Z",
     "iopub.status.idle": "2022-03-14T12:33:23.777468Z",
     "shell.execute_reply": "2022-03-14T12:33:23.777047Z",
     "shell.execute_reply.started": "2022-03-14T12:33:23.758191Z"
    },
    "tags": []
   },
   "outputs": [],
   "source": [
    "ref = [[np.array([1])]]\n",
    "parse = lambda data, mode='imshow': plot.parse_data(data, combine=combine, mode=mode)[0] == ref"
   ]
  },
  {
   "cell_type": "code",
   "execution_count": 5,
   "id": "c4a37ce0-52c6-4d92-b2ab-40c782b9ef37",
   "metadata": {
    "execution": {
     "iopub.execute_input": "2022-03-14T12:33:23.778205Z",
     "iopub.status.busy": "2022-03-14T12:33:23.778043Z",
     "iopub.status.idle": "2022-03-14T12:33:23.792799Z",
     "shell.execute_reply": "2022-03-14T12:33:23.792273Z",
     "shell.execute_reply.started": "2022-03-14T12:33:23.778189Z"
    },
    "tags": []
   },
   "outputs": [],
   "source": [
    "# single\n",
    "d = np.array([1])\n",
    "assert parse(d)"
   ]
  },
  {
   "cell_type": "code",
   "execution_count": 6,
   "id": "19e9be0c-e0c8-4551-8a6c-61e55484a745",
   "metadata": {
    "execution": {
     "iopub.execute_input": "2022-03-14T12:33:23.793541Z",
     "iopub.status.busy": "2022-03-14T12:33:23.793419Z",
     "iopub.status.idle": "2022-03-14T12:33:23.808342Z",
     "shell.execute_reply": "2022-03-14T12:33:23.807834Z",
     "shell.execute_reply.started": "2022-03-14T12:33:23.793527Z"
    },
    "tags": []
   },
   "outputs": [],
   "source": [
    "# list\n",
    "d = [np.array([1])]\n",
    "assert parse(d)"
   ]
  },
  {
   "cell_type": "code",
   "execution_count": 7,
   "id": "4db08120-9bfe-4ae9-a7bd-090dbebaf2ed",
   "metadata": {
    "execution": {
     "iopub.execute_input": "2022-03-14T12:33:23.809113Z",
     "iopub.status.busy": "2022-03-14T12:33:23.808944Z",
     "iopub.status.idle": "2022-03-14T12:33:23.824363Z",
     "shell.execute_reply": "2022-03-14T12:33:23.823907Z",
     "shell.execute_reply.started": "2022-03-14T12:33:23.809098Z"
    },
    "tags": []
   },
   "outputs": [],
   "source": [
    "# nested list\n",
    "d = [[np.array([1])]]\n",
    "assert parse(d)"
   ]
  },
  {
   "cell_type": "markdown",
   "id": "44d73423-a03c-4005-8c8d-df9339310271",
   "metadata": {
    "tags": []
   },
   "source": [
    "###### data item is list of number"
   ]
  },
  {
   "cell_type": "code",
   "execution_count": 8,
   "id": "a7325eb9-47a5-4304-8baf-fb7180b42b28",
   "metadata": {
    "execution": {
     "iopub.execute_input": "2022-03-14T12:33:23.825108Z",
     "iopub.status.busy": "2022-03-14T12:33:23.824940Z",
     "iopub.status.idle": "2022-03-14T12:33:23.841402Z",
     "shell.execute_reply": "2022-03-14T12:33:23.840941Z",
     "shell.execute_reply.started": "2022-03-14T12:33:23.825093Z"
    },
    "tags": []
   },
   "outputs": [],
   "source": [
    "ref = [[np.array([1])]]\n",
    "parse = lambda data, mode='imshow': plot.parse_data(data, combine=combine, mode=mode)[0] == ref"
   ]
  },
  {
   "cell_type": "code",
   "execution_count": 9,
   "id": "bc220ca2-46bc-43eb-a886-7b3a5deb3b18",
   "metadata": {
    "execution": {
     "iopub.execute_input": "2022-03-14T12:33:23.842068Z",
     "iopub.status.busy": "2022-03-14T12:33:23.841949Z",
     "iopub.status.idle": "2022-03-14T12:33:23.857208Z",
     "shell.execute_reply": "2022-03-14T12:33:23.856691Z",
     "shell.execute_reply.started": "2022-03-14T12:33:23.842053Z"
    },
    "tags": []
   },
   "outputs": [],
   "source": [
    "# single\n",
    "d = [1]\n",
    "assert parse(d)"
   ]
  },
  {
   "cell_type": "code",
   "execution_count": 10,
   "id": "8b2df67a-ebe5-4e9e-b6b2-4cb32e9a5cba",
   "metadata": {
    "execution": {
     "iopub.execute_input": "2022-03-14T12:33:23.857969Z",
     "iopub.status.busy": "2022-03-14T12:33:23.857810Z",
     "iopub.status.idle": "2022-03-14T12:33:23.872395Z",
     "shell.execute_reply": "2022-03-14T12:33:23.871868Z",
     "shell.execute_reply.started": "2022-03-14T12:33:23.857954Z"
    },
    "tags": []
   },
   "outputs": [],
   "source": [
    "# list\n",
    "d = [[1]]\n",
    "assert parse(d)"
   ]
  },
  {
   "cell_type": "code",
   "execution_count": 11,
   "id": "f28bcdad-44d4-412d-b195-c04696296f28",
   "metadata": {
    "execution": {
     "iopub.execute_input": "2022-03-14T12:33:23.873215Z",
     "iopub.status.busy": "2022-03-14T12:33:23.873027Z",
     "iopub.status.idle": "2022-03-14T12:33:23.889053Z",
     "shell.execute_reply": "2022-03-14T12:33:23.888601Z",
     "shell.execute_reply.started": "2022-03-14T12:33:23.873199Z"
    },
    "tags": []
   },
   "outputs": [],
   "source": [
    "# nested list\n",
    "d = [[[1]]]\n",
    "assert parse(d)"
   ]
  },
  {
   "cell_type": "markdown",
   "id": "816e985e-e9d4-4add-bfdf-46ed3500c4f9",
   "metadata": {
    "tags": []
   },
   "source": [
    "###### data item is tuple of array"
   ]
  },
  {
   "cell_type": "code",
   "execution_count": 12,
   "id": "21eda731-4608-4bc1-b617-914439e090d7",
   "metadata": {
    "execution": {
     "iopub.execute_input": "2022-03-14T12:33:23.890997Z",
     "iopub.status.busy": "2022-03-14T12:33:23.890829Z",
     "iopub.status.idle": "2022-03-14T12:33:23.906664Z",
     "shell.execute_reply": "2022-03-14T12:33:23.906141Z",
     "shell.execute_reply.started": "2022-03-14T12:33:23.890981Z"
    },
    "tags": []
   },
   "outputs": [],
   "source": [
    "data = [[np.array([1])]]"
   ]
  },
  {
   "cell_type": "code",
   "execution_count": 13,
   "id": "8e7880c8-688e-4ad0-8074-d6740a08252d",
   "metadata": {
    "execution": {
     "iopub.execute_input": "2022-03-14T12:33:23.907441Z",
     "iopub.status.busy": "2022-03-14T12:33:23.907273Z",
     "iopub.status.idle": "2022-03-14T12:33:23.921646Z",
     "shell.execute_reply": "2022-03-14T12:33:23.921197Z",
     "shell.execute_reply.started": "2022-03-14T12:33:23.907426Z"
    },
    "tags": []
   },
   "outputs": [],
   "source": [
    "# single\n",
    "d = (np.array([1]),)\n",
    "assert parse(d, 'curve')"
   ]
  },
  {
   "cell_type": "code",
   "execution_count": 14,
   "id": "da686b09-4030-4da2-9365-09c1596549b8",
   "metadata": {
    "execution": {
     "iopub.execute_input": "2022-03-14T12:33:23.922318Z",
     "iopub.status.busy": "2022-03-14T12:33:23.922199Z",
     "iopub.status.idle": "2022-03-14T12:33:23.938550Z",
     "shell.execute_reply": "2022-03-14T12:33:23.938068Z",
     "shell.execute_reply.started": "2022-03-14T12:33:23.922304Z"
    },
    "tags": []
   },
   "outputs": [],
   "source": [
    "# list\n",
    "d = [(np.array([1]),)]\n",
    "assert parse(d, 'curve')"
   ]
  },
  {
   "cell_type": "code",
   "execution_count": 15,
   "id": "52fe0fea-2c7c-47af-b901-3c121db762e2",
   "metadata": {
    "execution": {
     "iopub.execute_input": "2022-03-14T12:33:23.939390Z",
     "iopub.status.busy": "2022-03-14T12:33:23.939120Z",
     "iopub.status.idle": "2022-03-14T12:33:23.954940Z",
     "shell.execute_reply": "2022-03-14T12:33:23.954506Z",
     "shell.execute_reply.started": "2022-03-14T12:33:23.939374Z"
    },
    "tags": []
   },
   "outputs": [],
   "source": [
    "# nested list\n",
    "d = [[(np.array([1]),)]]\n",
    "assert parse(d)"
   ]
  },
  {
   "cell_type": "markdown",
   "id": "86321718-8829-4bbb-b216-805d49ba7f83",
   "metadata": {
    "tags": []
   },
   "source": [
    "###### data item is tuple of list of number"
   ]
  },
  {
   "cell_type": "code",
   "execution_count": 16,
   "id": "15ddf96b-84aa-485d-84ad-00a9f8403b24",
   "metadata": {
    "execution": {
     "iopub.execute_input": "2022-03-14T12:33:23.955728Z",
     "iopub.status.busy": "2022-03-14T12:33:23.955505Z",
     "iopub.status.idle": "2022-03-14T12:33:23.970518Z",
     "shell.execute_reply": "2022-03-14T12:33:23.970081Z",
     "shell.execute_reply.started": "2022-03-14T12:33:23.955713Z"
    },
    "tags": []
   },
   "outputs": [],
   "source": [
    "ref = [[np.array([1])]]\n",
    "parse = lambda data, mode='imshow': plot.parse_data(data, combine=combine, mode=mode)[0] == ref"
   ]
  },
  {
   "cell_type": "code",
   "execution_count": 17,
   "id": "498db4e3-7690-4ad3-97e9-e79014aa25a1",
   "metadata": {
    "execution": {
     "iopub.execute_input": "2022-03-14T12:33:23.971236Z",
     "iopub.status.busy": "2022-03-14T12:33:23.971080Z",
     "iopub.status.idle": "2022-03-14T12:33:23.985496Z",
     "shell.execute_reply": "2022-03-14T12:33:23.985011Z",
     "shell.execute_reply.started": "2022-03-14T12:33:23.971221Z"
    },
    "tags": []
   },
   "outputs": [],
   "source": [
    "# single\n",
    "d = ([1],)\n",
    "assert parse(d, 'curve')"
   ]
  },
  {
   "cell_type": "code",
   "execution_count": 18,
   "id": "28a09e2e-98db-4d91-9468-1062a7fb0bb0",
   "metadata": {
    "execution": {
     "iopub.execute_input": "2022-03-14T12:33:23.986270Z",
     "iopub.status.busy": "2022-03-14T12:33:23.986082Z",
     "iopub.status.idle": "2022-03-14T12:33:24.000417Z",
     "shell.execute_reply": "2022-03-14T12:33:23.999925Z",
     "shell.execute_reply.started": "2022-03-14T12:33:23.986254Z"
    },
    "tags": []
   },
   "outputs": [],
   "source": [
    "# list\n",
    "d = [([1],)]\n",
    "assert parse(d, 'curve')"
   ]
  },
  {
   "cell_type": "code",
   "execution_count": 19,
   "id": "13027403-d7e3-403e-a1bb-cf5b7f098602",
   "metadata": {
    "execution": {
     "iopub.execute_input": "2022-03-14T12:33:24.001171Z",
     "iopub.status.busy": "2022-03-14T12:33:24.001011Z",
     "iopub.status.idle": "2022-03-14T12:33:24.015262Z",
     "shell.execute_reply": "2022-03-14T12:33:24.014753Z",
     "shell.execute_reply.started": "2022-03-14T12:33:24.001156Z"
    },
    "tags": []
   },
   "outputs": [],
   "source": [
    "# nested list\n",
    "d = [[([1],)]]\n",
    "assert parse(d)"
   ]
  },
  {
   "cell_type": "markdown",
   "id": "042411f5-a0e1-4902-a251-577e64eaceb9",
   "metadata": {
    "tags": []
   },
   "source": [
    "##### `combine = separate`"
   ]
  },
  {
   "cell_type": "code",
   "execution_count": 20,
   "id": "9e367929-72e5-4280-a07e-1a732a1dbad2",
   "metadata": {
    "execution": {
     "iopub.execute_input": "2022-03-14T12:33:24.016054Z",
     "iopub.status.busy": "2022-03-14T12:33:24.015890Z",
     "iopub.status.idle": "2022-03-14T12:33:24.029989Z",
     "shell.execute_reply": "2022-03-14T12:33:24.029492Z",
     "shell.execute_reply.started": "2022-03-14T12:33:24.016038Z"
    },
    "tags": []
   },
   "outputs": [],
   "source": [
    "combine = 'separate'"
   ]
  },
  {
   "cell_type": "markdown",
   "id": "22538b2e-26b2-4954-837e-a4680075f574",
   "metadata": {
    "tags": []
   },
   "source": [
    "###### data item is array"
   ]
  },
  {
   "cell_type": "code",
   "execution_count": 21,
   "id": "de7db654-f54d-40cb-b970-57c8ada3fa28",
   "metadata": {
    "execution": {
     "iopub.execute_input": "2022-03-14T12:33:24.030748Z",
     "iopub.status.busy": "2022-03-14T12:33:24.030586Z",
     "iopub.status.idle": "2022-03-14T12:33:24.045341Z",
     "shell.execute_reply": "2022-03-14T12:33:24.044839Z",
     "shell.execute_reply.started": "2022-03-14T12:33:24.030733Z"
    },
    "tags": []
   },
   "outputs": [],
   "source": [
    "ref = [[np.array([1])]]\n",
    "parse = lambda data, mode='imshow': plot.parse_data(data, combine=combine, mode=mode)[0] == ref"
   ]
  },
  {
   "cell_type": "code",
   "execution_count": 22,
   "id": "77f942ac-ddde-4456-9455-29ba18d5a375",
   "metadata": {
    "execution": {
     "iopub.execute_input": "2022-03-14T12:33:24.046105Z",
     "iopub.status.busy": "2022-03-14T12:33:24.045945Z",
     "iopub.status.idle": "2022-03-14T12:33:24.060185Z",
     "shell.execute_reply": "2022-03-14T12:33:24.059693Z",
     "shell.execute_reply.started": "2022-03-14T12:33:24.046090Z"
    },
    "tags": []
   },
   "outputs": [],
   "source": [
    "# single\n",
    "d = np.array([1])\n",
    "assert parse(d)"
   ]
  },
  {
   "cell_type": "code",
   "execution_count": 23,
   "id": "ac266eb5-0813-4c65-bf47-6a9a296f3698",
   "metadata": {
    "execution": {
     "iopub.execute_input": "2022-03-14T12:33:24.060997Z",
     "iopub.status.busy": "2022-03-14T12:33:24.060790Z",
     "iopub.status.idle": "2022-03-14T12:33:24.075766Z",
     "shell.execute_reply": "2022-03-14T12:33:24.075257Z",
     "shell.execute_reply.started": "2022-03-14T12:33:24.060981Z"
    },
    "tags": []
   },
   "outputs": [],
   "source": [
    "# list\n",
    "d = [np.array([1])]\n",
    "assert parse(d)"
   ]
  },
  {
   "cell_type": "markdown",
   "id": "7def50cd-c03b-4221-b31c-cf62de66555f",
   "metadata": {
    "tags": []
   },
   "source": [
    "###### data item is list of number"
   ]
  },
  {
   "cell_type": "code",
   "execution_count": 24,
   "id": "74c65cbb-4234-42cd-89c4-a75540913934",
   "metadata": {
    "execution": {
     "iopub.execute_input": "2022-03-14T12:33:24.076416Z",
     "iopub.status.busy": "2022-03-14T12:33:24.076296Z",
     "iopub.status.idle": "2022-03-14T12:33:24.091674Z",
     "shell.execute_reply": "2022-03-14T12:33:24.091173Z",
     "shell.execute_reply.started": "2022-03-14T12:33:24.076402Z"
    },
    "tags": []
   },
   "outputs": [],
   "source": [
    "ref = [[np.array([1])]]\n",
    "parse = lambda data, mode='imshow': plot.parse_data(data, combine=combine, mode=mode)[0] == ref"
   ]
  },
  {
   "cell_type": "code",
   "execution_count": 25,
   "id": "43915ee1-ae55-472e-891a-ba853e82b39d",
   "metadata": {
    "execution": {
     "iopub.execute_input": "2022-03-14T12:33:24.092306Z",
     "iopub.status.busy": "2022-03-14T12:33:24.092190Z",
     "iopub.status.idle": "2022-03-14T12:33:24.109271Z",
     "shell.execute_reply": "2022-03-14T12:33:24.108804Z",
     "shell.execute_reply.started": "2022-03-14T12:33:24.092292Z"
    },
    "tags": []
   },
   "outputs": [],
   "source": [
    "# single\n",
    "d = [1]\n",
    "assert parse(d)"
   ]
  },
  {
   "cell_type": "code",
   "execution_count": 26,
   "id": "4c8c81a0-2347-44bc-9d38-7da71a56e089",
   "metadata": {
    "execution": {
     "iopub.execute_input": "2022-03-14T12:33:24.110019Z",
     "iopub.status.busy": "2022-03-14T12:33:24.109851Z",
     "iopub.status.idle": "2022-03-14T12:33:24.126638Z",
     "shell.execute_reply": "2022-03-14T12:33:24.126213Z",
     "shell.execute_reply.started": "2022-03-14T12:33:24.110003Z"
    },
    "tags": []
   },
   "outputs": [],
   "source": [
    "# list\n",
    "d = [[1]]\n",
    "assert parse(d)"
   ]
  },
  {
   "cell_type": "markdown",
   "id": "f0ca8091-c66a-4bba-b9bf-3c94eea67b48",
   "metadata": {
    "tags": []
   },
   "source": [
    "###### data item is tuple of array"
   ]
  },
  {
   "cell_type": "code",
   "execution_count": 27,
   "id": "5beb0e8c-dd8d-4877-98a2-77ea6bd518d6",
   "metadata": {
    "execution": {
     "iopub.execute_input": "2022-03-14T12:33:24.127306Z",
     "iopub.status.busy": "2022-03-14T12:33:24.127187Z",
     "iopub.status.idle": "2022-03-14T12:33:24.146119Z",
     "shell.execute_reply": "2022-03-14T12:33:24.145714Z",
     "shell.execute_reply.started": "2022-03-14T12:33:24.127292Z"
    },
    "tags": []
   },
   "outputs": [],
   "source": [
    "ref = [[(np.array([1]),)]]\n",
    "parse = lambda data, mode='imshow': plot.parse_data(data, combine=combine, mode=mode)[0] == ref"
   ]
  },
  {
   "cell_type": "code",
   "execution_count": 28,
   "id": "e8d3cd23-ddae-42ac-8b46-4bc440243ee1",
   "metadata": {
    "execution": {
     "iopub.execute_input": "2022-03-14T12:33:24.146852Z",
     "iopub.status.busy": "2022-03-14T12:33:24.146662Z",
     "iopub.status.idle": "2022-03-14T12:33:24.163034Z",
     "shell.execute_reply": "2022-03-14T12:33:24.162582Z",
     "shell.execute_reply.started": "2022-03-14T12:33:24.146837Z"
    },
    "tags": []
   },
   "outputs": [],
   "source": [
    "# single\n",
    "d = (np.array([1]),)\n",
    "assert parse(d, 'curve')"
   ]
  },
  {
   "cell_type": "code",
   "execution_count": 29,
   "id": "beb75c71-b887-42a0-bf09-75653045c813",
   "metadata": {
    "execution": {
     "iopub.execute_input": "2022-03-14T12:33:24.163729Z",
     "iopub.status.busy": "2022-03-14T12:33:24.163601Z",
     "iopub.status.idle": "2022-03-14T12:33:24.178554Z",
     "shell.execute_reply": "2022-03-14T12:33:24.178105Z",
     "shell.execute_reply.started": "2022-03-14T12:33:24.163715Z"
    },
    "tags": []
   },
   "outputs": [],
   "source": [
    "# list\n",
    "d = [(np.array([1]),)]\n",
    "assert parse(d, 'curve')"
   ]
  },
  {
   "cell_type": "markdown",
   "id": "0453ebf5-cfbb-43ef-b7ab-82908c0094b3",
   "metadata": {
    "execution": {
     "iopub.execute_input": "2022-03-09T16:25:09.228343Z",
     "iopub.status.busy": "2022-03-09T16:25:09.227920Z",
     "iopub.status.idle": "2022-03-09T16:25:09.255776Z",
     "shell.execute_reply": "2022-03-09T16:25:09.255166Z",
     "shell.execute_reply.started": "2022-03-09T16:25:09.228293Z"
    },
    "tags": []
   },
   "source": [
    "###### data item is tuple of list of number"
   ]
  },
  {
   "cell_type": "code",
   "execution_count": 30,
   "id": "3340c505-5a38-4aa1-9f16-39af37b748e0",
   "metadata": {
    "execution": {
     "iopub.execute_input": "2022-03-14T12:33:24.179298Z",
     "iopub.status.busy": "2022-03-14T12:33:24.179122Z",
     "iopub.status.idle": "2022-03-14T12:33:24.193735Z",
     "shell.execute_reply": "2022-03-14T12:33:24.193289Z",
     "shell.execute_reply.started": "2022-03-14T12:33:24.179283Z"
    },
    "tags": []
   },
   "outputs": [],
   "source": [
    "ref = [[(np.array([1]),)]]\n",
    "parse = lambda data, mode='imshow': plot.parse_data(data, combine=combine, mode=mode)[0] == ref"
   ]
  },
  {
   "cell_type": "code",
   "execution_count": 31,
   "id": "429cbfc4-bbda-429e-b1ba-3bb2d971c238",
   "metadata": {
    "execution": {
     "iopub.execute_input": "2022-03-14T12:33:24.194482Z",
     "iopub.status.busy": "2022-03-14T12:33:24.194302Z",
     "iopub.status.idle": "2022-03-14T12:33:24.210112Z",
     "shell.execute_reply": "2022-03-14T12:33:24.209662Z",
     "shell.execute_reply.started": "2022-03-14T12:33:24.194466Z"
    },
    "tags": []
   },
   "outputs": [],
   "source": [
    "# single\n",
    "d = ([1],)\n",
    "assert parse(d, 'curve')"
   ]
  },
  {
   "cell_type": "code",
   "execution_count": 32,
   "id": "247a9587-874a-480f-9eb9-6d288bbaccec",
   "metadata": {
    "execution": {
     "iopub.execute_input": "2022-03-14T12:33:24.210852Z",
     "iopub.status.busy": "2022-03-14T12:33:24.210684Z",
     "iopub.status.idle": "2022-03-14T12:33:24.226156Z",
     "shell.execute_reply": "2022-03-14T12:33:24.225639Z",
     "shell.execute_reply.started": "2022-03-14T12:33:24.210837Z"
    },
    "tags": []
   },
   "outputs": [],
   "source": [
    "# list of tuple of list of number\n",
    "d = [([1],)]\n",
    "assert parse(d, 'curve')"
   ]
  },
  {
   "cell_type": "markdown",
   "id": "4f43f156-9424-4a44-9196-a27197da62e5",
   "metadata": {
    "tags": []
   },
   "source": [
    "#### two data items"
   ]
  },
  {
   "cell_type": "markdown",
   "id": "c2a598c1-6605-4c26-a1fc-90b913378a5c",
   "metadata": {
    "tags": []
   },
   "source": [
    "##### `combine=overlay`"
   ]
  },
  {
   "cell_type": "code",
   "execution_count": 33,
   "id": "52b71151-37d1-4348-86fd-a8fc8b1d4572",
   "metadata": {
    "execution": {
     "iopub.execute_input": "2022-03-14T12:33:24.226929Z",
     "iopub.status.busy": "2022-03-14T12:33:24.226751Z",
     "iopub.status.idle": "2022-03-14T12:33:24.241024Z",
     "shell.execute_reply": "2022-03-14T12:33:24.240535Z",
     "shell.execute_reply.started": "2022-03-14T12:33:24.226914Z"
    },
    "tags": []
   },
   "outputs": [],
   "source": [
    "combine = 'overlay'"
   ]
  },
  {
   "cell_type": "markdown",
   "id": "863b3e4f-e468-4a69-bfe6-d1be9ff5a1d9",
   "metadata": {
    "tags": []
   },
   "source": [
    "###### data items are two arrays"
   ]
  },
  {
   "cell_type": "code",
   "execution_count": 34,
   "id": "89973a64-345f-4c41-a4f8-17383e6f182a",
   "metadata": {
    "execution": {
     "iopub.execute_input": "2022-03-14T12:33:24.241819Z",
     "iopub.status.busy": "2022-03-14T12:33:24.241613Z",
     "iopub.status.idle": "2022-03-14T12:33:24.257815Z",
     "shell.execute_reply": "2022-03-14T12:33:24.257330Z",
     "shell.execute_reply.started": "2022-03-14T12:33:24.241803Z"
    },
    "tags": []
   },
   "outputs": [],
   "source": [
    "ref = [[np.array([0]), np.array([1])]]\n",
    "parse = lambda data, mode='imshow': plot.parse_data(data, combine=combine, mode=mode)[0] == ref"
   ]
  },
  {
   "cell_type": "code",
   "execution_count": 35,
   "id": "2a911dab-1be3-4ced-8bcf-667ff60c097b",
   "metadata": {
    "execution": {
     "iopub.execute_input": "2022-03-14T12:33:24.258587Z",
     "iopub.status.busy": "2022-03-14T12:33:24.258402Z",
     "iopub.status.idle": "2022-03-14T12:33:24.272709Z",
     "shell.execute_reply": "2022-03-14T12:33:24.272276Z",
     "shell.execute_reply.started": "2022-03-14T12:33:24.258572Z"
    },
    "tags": []
   },
   "outputs": [],
   "source": [
    "# list\n",
    "d = [np.array([0]), np.array([1])]\n",
    "assert parse(d)"
   ]
  },
  {
   "cell_type": "code",
   "execution_count": 36,
   "id": "7c11249b-7234-4308-a933-2f90485f060a",
   "metadata": {
    "execution": {
     "iopub.execute_input": "2022-03-14T12:33:24.273360Z",
     "iopub.status.busy": "2022-03-14T12:33:24.273241Z",
     "iopub.status.idle": "2022-03-14T12:33:24.291830Z",
     "shell.execute_reply": "2022-03-14T12:33:24.291416Z",
     "shell.execute_reply.started": "2022-03-14T12:33:24.273346Z"
    },
    "tags": []
   },
   "outputs": [],
   "source": [
    "# nested list\n",
    "d = [[np.array([0]), np.array([1])]]\n",
    "assert parse(d)"
   ]
  },
  {
   "cell_type": "markdown",
   "id": "8161ad1c-9a6b-4457-aabb-56bd4b95a8ad",
   "metadata": {
    "tags": []
   },
   "source": [
    "###### data items are two lists of number"
   ]
  },
  {
   "cell_type": "code",
   "execution_count": 37,
   "id": "f6af3745-9ebb-4f77-8291-61d121d94064",
   "metadata": {
    "execution": {
     "iopub.execute_input": "2022-03-14T12:33:24.292506Z",
     "iopub.status.busy": "2022-03-14T12:33:24.292386Z",
     "iopub.status.idle": "2022-03-14T12:33:24.307072Z",
     "shell.execute_reply": "2022-03-14T12:33:24.306650Z",
     "shell.execute_reply.started": "2022-03-14T12:33:24.292491Z"
    },
    "tags": []
   },
   "outputs": [],
   "source": [
    "ref = [[np.array([0]), np.array([1])]]\n",
    "parse = lambda data, mode='imshow': plot.parse_data(data, combine=combine, mode=mode)[0] == ref"
   ]
  },
  {
   "cell_type": "code",
   "execution_count": 38,
   "id": "9ade0a32-7b18-48bb-be4f-6e5bd623d09e",
   "metadata": {
    "execution": {
     "iopub.execute_input": "2022-03-14T12:33:24.307814Z",
     "iopub.status.busy": "2022-03-14T12:33:24.307620Z",
     "iopub.status.idle": "2022-03-14T12:33:24.322498Z",
     "shell.execute_reply": "2022-03-14T12:33:24.321997Z",
     "shell.execute_reply.started": "2022-03-14T12:33:24.307798Z"
    },
    "tags": []
   },
   "outputs": [],
   "source": [
    "# list\n",
    "d = [[0], [1]]\n",
    "assert parse(d)"
   ]
  },
  {
   "cell_type": "code",
   "execution_count": 39,
   "id": "f0dc4068-6f38-4f88-a27a-0017a4e62a18",
   "metadata": {
    "execution": {
     "iopub.execute_input": "2022-03-14T12:33:24.324896Z",
     "iopub.status.busy": "2022-03-14T12:33:24.324733Z",
     "iopub.status.idle": "2022-03-14T12:33:24.339404Z",
     "shell.execute_reply": "2022-03-14T12:33:24.338900Z",
     "shell.execute_reply.started": "2022-03-14T12:33:24.324880Z"
    },
    "tags": []
   },
   "outputs": [],
   "source": [
    "# nested list\n",
    "d = [[[0], [1]]]\n",
    "assert parse(d)"
   ]
  },
  {
   "cell_type": "markdown",
   "id": "51fca225-44e9-411f-b81d-e1a349a0fb6c",
   "metadata": {
    "tags": []
   },
   "source": [
    "###### data items are tuples of array"
   ]
  },
  {
   "cell_type": "code",
   "execution_count": 40,
   "id": "ea5c0a00-b682-4cee-98c2-56099d34f024",
   "metadata": {
    "execution": {
     "iopub.execute_input": "2022-03-14T12:33:24.340159Z",
     "iopub.status.busy": "2022-03-14T12:33:24.340035Z",
     "iopub.status.idle": "2022-03-14T12:33:24.361427Z",
     "shell.execute_reply": "2022-03-14T12:33:24.360909Z",
     "shell.execute_reply.started": "2022-03-14T12:33:24.340145Z"
    },
    "tags": []
   },
   "outputs": [],
   "source": [
    "ref = [[(np.array([0]), ), (np.array([1]), )]]\n",
    "parse = lambda data, mode='imshow': plot.parse_data(data, combine=combine, mode=mode)[0] == ref"
   ]
  },
  {
   "cell_type": "code",
   "execution_count": 41,
   "id": "61bfe431-3103-410a-b36e-64b838f60207",
   "metadata": {
    "execution": {
     "iopub.execute_input": "2022-03-14T12:33:24.362246Z",
     "iopub.status.busy": "2022-03-14T12:33:24.362033Z",
     "iopub.status.idle": "2022-03-14T12:33:24.377135Z",
     "shell.execute_reply": "2022-03-14T12:33:24.376644Z",
     "shell.execute_reply.started": "2022-03-14T12:33:24.362230Z"
    },
    "tags": []
   },
   "outputs": [],
   "source": [
    "# list\n",
    "d = [(np.array([0]),), (np.array([1]),)]\n",
    "assert parse(d, 'curve')"
   ]
  },
  {
   "cell_type": "code",
   "execution_count": 42,
   "id": "158adc92-e65e-44bd-a6dc-786ef5ede3b8",
   "metadata": {
    "execution": {
     "iopub.execute_input": "2022-03-14T12:33:24.377910Z",
     "iopub.status.busy": "2022-03-14T12:33:24.377726Z",
     "iopub.status.idle": "2022-03-14T12:33:24.392840Z",
     "shell.execute_reply": "2022-03-14T12:33:24.392344Z",
     "shell.execute_reply.started": "2022-03-14T12:33:24.377894Z"
    },
    "tags": []
   },
   "outputs": [],
   "source": [
    "# nested list\n",
    "d = [[(np.array([0]),), (np.array([1]),)]]\n",
    "assert parse(d)"
   ]
  },
  {
   "cell_type": "markdown",
   "id": "3b93a63b-0257-4608-9596-8b38a5eed8b7",
   "metadata": {
    "tags": []
   },
   "source": [
    "###### data items are tuples of list of number"
   ]
  },
  {
   "cell_type": "code",
   "execution_count": 43,
   "id": "888dfbad-150d-4e60-aa2b-656a4d3255eb",
   "metadata": {
    "execution": {
     "iopub.execute_input": "2022-03-14T12:33:24.393608Z",
     "iopub.status.busy": "2022-03-14T12:33:24.393435Z",
     "iopub.status.idle": "2022-03-14T12:33:24.408497Z",
     "shell.execute_reply": "2022-03-14T12:33:24.408003Z",
     "shell.execute_reply.started": "2022-03-14T12:33:24.393593Z"
    },
    "tags": []
   },
   "outputs": [],
   "source": [
    "ref = [[(np.array([0]), ), (np.array([1]), )]]\n",
    "parse = lambda data, mode='imshow': plot.parse_data(data, combine=combine, mode=mode)[0] == ref"
   ]
  },
  {
   "cell_type": "code",
   "execution_count": 44,
   "id": "962786a4-cb7d-4fe4-8b6d-bbde1c31735e",
   "metadata": {
    "execution": {
     "iopub.execute_input": "2022-03-14T12:33:24.409304Z",
     "iopub.status.busy": "2022-03-14T12:33:24.409093Z",
     "iopub.status.idle": "2022-03-14T12:33:24.426208Z",
     "shell.execute_reply": "2022-03-14T12:33:24.425719Z",
     "shell.execute_reply.started": "2022-03-14T12:33:24.409288Z"
    },
    "tags": []
   },
   "outputs": [],
   "source": [
    "# list\n",
    "d = [([0],), ([1],)]\n",
    "assert parse(d, 'curve')"
   ]
  },
  {
   "cell_type": "code",
   "execution_count": 45,
   "id": "07fd215f-d306-4ce5-b3c5-300777ff939b",
   "metadata": {
    "execution": {
     "iopub.execute_input": "2022-03-14T12:33:24.426975Z",
     "iopub.status.busy": "2022-03-14T12:33:24.426796Z",
     "iopub.status.idle": "2022-03-14T12:33:24.441455Z",
     "shell.execute_reply": "2022-03-14T12:33:24.440966Z",
     "shell.execute_reply.started": "2022-03-14T12:33:24.426959Z"
    },
    "tags": []
   },
   "outputs": [],
   "source": [
    "# nested list\n",
    "d = [[([0],), ([1],)]]\n",
    "assert parse(d, 'curve')"
   ]
  },
  {
   "cell_type": "markdown",
   "id": "dfa0c3aa-30b9-4c73-b4a7-6942a5d816ca",
   "metadata": {
    "tags": []
   },
   "source": [
    "##### `combine=separate`"
   ]
  },
  {
   "cell_type": "code",
   "execution_count": 46,
   "id": "0129427c-90cc-434f-91c5-e2b0d6710f2b",
   "metadata": {
    "execution": {
     "iopub.execute_input": "2022-03-14T12:33:24.442213Z",
     "iopub.status.busy": "2022-03-14T12:33:24.442040Z",
     "iopub.status.idle": "2022-03-14T12:33:24.456667Z",
     "shell.execute_reply": "2022-03-14T12:33:24.456173Z",
     "shell.execute_reply.started": "2022-03-14T12:33:24.442197Z"
    },
    "tags": []
   },
   "outputs": [],
   "source": [
    "combine = 'separate'"
   ]
  },
  {
   "cell_type": "markdown",
   "id": "2355e365-4bdd-4764-b8b5-b3d4c425c075",
   "metadata": {
    "tags": []
   },
   "source": [
    "###### data items are two arrays"
   ]
  },
  {
   "cell_type": "code",
   "execution_count": 47,
   "id": "5c23f8c2-c033-4134-bd10-f3371b8c8dc3",
   "metadata": {
    "execution": {
     "iopub.execute_input": "2022-03-14T12:33:24.457424Z",
     "iopub.status.busy": "2022-03-14T12:33:24.457257Z",
     "iopub.status.idle": "2022-03-14T12:33:24.472331Z",
     "shell.execute_reply": "2022-03-14T12:33:24.471819Z",
     "shell.execute_reply.started": "2022-03-14T12:33:24.457409Z"
    },
    "tags": []
   },
   "outputs": [],
   "source": [
    "ref = [[np.array([0])], [np.array([1])]]\n",
    "parse = lambda data, mode='imshow': plot.parse_data(data, combine=combine, mode=mode)[0] == ref"
   ]
  },
  {
   "cell_type": "code",
   "execution_count": 48,
   "id": "e4618c13-3c70-410e-9815-d647aa719b50",
   "metadata": {
    "execution": {
     "iopub.execute_input": "2022-03-14T12:33:24.473133Z",
     "iopub.status.busy": "2022-03-14T12:33:24.472929Z",
     "iopub.status.idle": "2022-03-14T12:33:24.488574Z",
     "shell.execute_reply": "2022-03-14T12:33:24.488081Z",
     "shell.execute_reply.started": "2022-03-14T12:33:24.473118Z"
    },
    "tags": []
   },
   "outputs": [],
   "source": [
    "# list\n",
    "d = [np.array([0]), np.array([1])]\n",
    "assert parse(d)"
   ]
  },
  {
   "cell_type": "markdown",
   "id": "d1ac48db-1bf4-4cc1-9280-c5aff8455dfa",
   "metadata": {
    "tags": []
   },
   "source": [
    "###### data items are two lists of number"
   ]
  },
  {
   "cell_type": "code",
   "execution_count": 49,
   "id": "ec11f3e3-d999-4d6e-b6de-2ebb88c5d069",
   "metadata": {
    "execution": {
     "iopub.execute_input": "2022-03-14T12:33:24.489345Z",
     "iopub.status.busy": "2022-03-14T12:33:24.489171Z",
     "iopub.status.idle": "2022-03-14T12:33:24.504231Z",
     "shell.execute_reply": "2022-03-14T12:33:24.503745Z",
     "shell.execute_reply.started": "2022-03-14T12:33:24.489329Z"
    },
    "tags": []
   },
   "outputs": [],
   "source": [
    "ref = [[np.array([0])], [np.array([1])]]\n",
    "parse = lambda data, mode='imshow': plot.parse_data(data, combine=combine, mode=mode)[0] == ref"
   ]
  },
  {
   "cell_type": "code",
   "execution_count": 50,
   "id": "a338c5ee-e134-4b16-a749-b2e0fce0d423",
   "metadata": {
    "execution": {
     "iopub.execute_input": "2022-03-14T12:33:24.504991Z",
     "iopub.status.busy": "2022-03-14T12:33:24.504819Z",
     "iopub.status.idle": "2022-03-14T12:33:24.519576Z",
     "shell.execute_reply": "2022-03-14T12:33:24.519074Z",
     "shell.execute_reply.started": "2022-03-14T12:33:24.504974Z"
    },
    "tags": []
   },
   "outputs": [],
   "source": [
    "# list\n",
    "d = [[0], [1]]\n",
    "assert parse(d)"
   ]
  },
  {
   "cell_type": "markdown",
   "id": "26a66e58-65ac-436c-aa84-39fd889bd498",
   "metadata": {
    "tags": []
   },
   "source": [
    "###### data items are tuples of array"
   ]
  },
  {
   "cell_type": "code",
   "execution_count": 51,
   "id": "d19dab5b-331c-42e1-a8f4-706ae930b12b",
   "metadata": {
    "execution": {
     "iopub.execute_input": "2022-03-14T12:33:24.520224Z",
     "iopub.status.busy": "2022-03-14T12:33:24.520098Z",
     "iopub.status.idle": "2022-03-14T12:33:24.536062Z",
     "shell.execute_reply": "2022-03-14T12:33:24.535568Z",
     "shell.execute_reply.started": "2022-03-14T12:33:24.520209Z"
    },
    "tags": []
   },
   "outputs": [],
   "source": [
    "ref = [[(np.array([0]), )], [(np.array([1]), )]]\n",
    "parse = lambda data, mode='imshow': plot.parse_data(data, combine=combine, mode=mode)[0] == ref"
   ]
  },
  {
   "cell_type": "code",
   "execution_count": 52,
   "id": "bf27de74-3f02-41b4-8d1a-baa8cef4274a",
   "metadata": {
    "execution": {
     "iopub.execute_input": "2022-03-14T12:33:24.536839Z",
     "iopub.status.busy": "2022-03-14T12:33:24.536661Z",
     "iopub.status.idle": "2022-03-14T12:33:24.551439Z",
     "shell.execute_reply": "2022-03-14T12:33:24.550988Z",
     "shell.execute_reply.started": "2022-03-14T12:33:24.536824Z"
    },
    "tags": []
   },
   "outputs": [],
   "source": [
    "# list\n",
    "d = [(np.array([0]),), (np.array([1]),)]\n",
    "assert parse(d, 'curve')"
   ]
  },
  {
   "cell_type": "markdown",
   "id": "9e0648e5-f32f-41f6-9c03-e86cd16e3fc0",
   "metadata": {
    "tags": []
   },
   "source": [
    "###### data items are tuples of list of number"
   ]
  },
  {
   "cell_type": "code",
   "execution_count": 53,
   "id": "32a24f68-a7b1-49c2-afd5-307f73a46527",
   "metadata": {
    "execution": {
     "iopub.execute_input": "2022-03-14T12:33:24.552194Z",
     "iopub.status.busy": "2022-03-14T12:33:24.552021Z",
     "iopub.status.idle": "2022-03-14T12:33:24.569266Z",
     "shell.execute_reply": "2022-03-14T12:33:24.568815Z",
     "shell.execute_reply.started": "2022-03-14T12:33:24.552178Z"
    },
    "tags": []
   },
   "outputs": [],
   "source": [
    "ref = [[([0], )], [([1], )]]\n",
    "parse = lambda data, mode='imshow': plot.parse_data(data, combine=combine, mode=mode)[0] == ref"
   ]
  },
  {
   "cell_type": "code",
   "execution_count": 54,
   "id": "8d8c5689-98e9-4b33-8e14-8c0ad14cab94",
   "metadata": {
    "execution": {
     "iopub.execute_input": "2022-03-14T12:33:24.570007Z",
     "iopub.status.busy": "2022-03-14T12:33:24.569836Z",
     "iopub.status.idle": "2022-03-14T12:33:24.585395Z",
     "shell.execute_reply": "2022-03-14T12:33:24.584876Z",
     "shell.execute_reply.started": "2022-03-14T12:33:24.569991Z"
    },
    "tags": []
   },
   "outputs": [],
   "source": [
    "# list\n",
    "d = [([0],), ([1],)]\n",
    "assert parse(d, 'curve')"
   ]
  },
  {
   "cell_type": "markdown",
   "id": "774b6b34-0127-4383-8480-ea91eddfbfd4",
   "metadata": {
    "execution": {
     "iopub.execute_input": "2022-03-10T14:28:39.565223Z",
     "iopub.status.busy": "2022-03-10T14:28:39.564787Z",
     "iopub.status.idle": "2022-03-10T14:28:39.776224Z",
     "shell.execute_reply": "2022-03-10T14:28:39.775509Z",
     "shell.execute_reply.started": "2022-03-10T14:28:39.565174Z"
    }
   },
   "source": [
    "#### multiple data items"
   ]
  },
  {
   "cell_type": "code",
   "execution_count": 55,
   "id": "aa4a6ec3-9e93-461f-b77e-1f41e1ca1d82",
   "metadata": {
    "execution": {
     "iopub.execute_input": "2022-03-14T12:33:24.586064Z",
     "iopub.status.busy": "2022-03-14T12:33:24.585943Z",
     "iopub.status.idle": "2022-03-14T12:33:24.601271Z",
     "shell.execute_reply": "2022-03-14T12:33:24.600788Z",
     "shell.execute_reply.started": "2022-03-14T12:33:24.586049Z"
    },
    "tags": []
   },
   "outputs": [],
   "source": [
    "ref = [[np.array([0])], [np.array([1]), np.array([2])]]\n",
    "d = [np.array([0]), [np.array([1]), np.array([2])]]\n",
    "assert plot.parse_data(d, combine='mixed', mode='imshow')[0] == ref"
   ]
  }
 ],
 "metadata": {
  "kernelspec": {
   "display_name": "Python 3 (ipykernel)",
   "language": "python",
   "name": "python3"
  },
  "language_info": {
   "codemirror_mode": {
    "name": "ipython",
    "version": 3
   },
   "file_extension": ".py",
   "mimetype": "text/x-python",
   "name": "python",
   "nbconvert_exporter": "python",
   "pygments_lexer": "ipython3",
   "version": "3.8.10"
  },
  "widgets": {
   "application/vnd.jupyter.widget-state+json": {
    "state": {},
    "version_major": 2,
    "version_minor": 0
   }
  }
 },
 "nbformat": 4,
 "nbformat_minor": 5
}
