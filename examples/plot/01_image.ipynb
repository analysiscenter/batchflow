{
 "cells": [
  {
   "cell_type": "code",
   "execution_count": null,
   "metadata": {
    "tags": []
   },
   "outputs": [],
   "source": [
    "%load_ext autoreload\n",
    "%autoreload 2"
   ]
  },
  {
   "cell_type": "markdown",
   "metadata": {},
   "source": [
    "## This is a tutorial on `image` mode scenario of `Plot` class."
   ]
  },
  {
   "cell_type": "code",
   "execution_count": null,
   "metadata": {
    "tags": []
   },
   "outputs": [],
   "source": [
    "# Necessary imports\n",
    "import sys\n",
    "import numpy as np\n",
    "from skimage.io import imread\n",
    "\n",
    "sys.path.insert(0, '../..')\n",
    "from batchflow import plot"
   ]
  },
  {
   "cell_type": "code",
   "execution_count": null,
   "metadata": {
    "tags": []
   },
   "outputs": [],
   "source": [
    "# Load sample image\n",
    "image = imread('data/image.png')"
   ]
  },
  {
   "cell_type": "markdown",
   "metadata": {},
   "source": [
    "To plot an image, simply pass an array to class init."
   ]
  },
  {
   "cell_type": "code",
   "execution_count": null,
   "metadata": {
    "tags": []
   },
   "outputs": [],
   "source": [
    "plot(image)"
   ]
  },
  {
   "cell_type": "markdown",
   "metadata": {},
   "source": [
    "To change colormap use `cmap` parameter."
   ]
  },
  {
   "cell_type": "code",
   "execution_count": null,
   "metadata": {
    "tags": []
   },
   "outputs": [],
   "source": [
    "plot(\n",
    "    data=image,\n",
    "    cmap='batchflow' # new parameter\n",
    ")"
   ]
  },
  {
   "cell_type": "markdown",
   "metadata": {},
   "source": [
    "Only a few parameters are parsed from keyword arguments (aka kwargs) and forwarded to `plt.imshow` — `cmap`, `alpha`, `vmin`, `vmax`, `extent`.\n",
    "\n",
    "But surely, `matplotlib.pyplot.imshow` accepts many parameters besides those. To provide them, use `image_` prefix in parameter name.\n",
    "\n",
    "Doing so you'll explicitly declare that this parameter is meant for image display and that it should be parsed and passed to `plt.imshow`, like `aspect` in example below."
   ]
  },
  {
   "cell_type": "code",
   "execution_count": null,
   "metadata": {},
   "outputs": [],
   "source": [
    "plot(\n",
    "    data=image,\n",
    "    cmap='batchflow',\n",
    "    image_aspect=0.5 # new parameter\n",
    ")"
   ]
  },
  {
   "cell_type": "markdown",
   "metadata": {},
   "source": [
    "To add colorbar and title provide `colorbar` and `title` keyword parameters."
   ]
  },
  {
   "cell_type": "code",
   "execution_count": null,
   "metadata": {
    "tags": []
   },
   "outputs": [],
   "source": [
    "plot(\n",
    "    data=image,\n",
    "    cmap='batchflow',\n",
    "    colorbar=True, # new parameter\n",
    "    title='Sample data' # new parameter\n",
    ")"
   ]
  },
  {
   "cell_type": "markdown",
   "metadata": {},
   "source": [
    "One might customize annotations, providing `'size'`, `'family'`, `'rotation'` and other parameters valid for `matplotlib.pyplot.text`."
   ]
  },
  {
   "cell_type": "code",
   "execution_count": null,
   "metadata": {
    "tags": []
   },
   "outputs": [],
   "source": [
    "plot(\n",
    "    data=image,\n",
    "    cmap='batchflow',\n",
    "    colorbar=True,\n",
    "    title='Sample data',\n",
    "    title_family='monospace', # new parameter\n",
    "    title_size=20 # new parameter\n",
    ")"
   ]
  },
  {
   "cell_type": "markdown",
   "metadata": {},
   "source": [
    "Now let's load binary mask corresponding image above and display it."
   ]
  },
  {
   "cell_type": "code",
   "execution_count": null,
   "metadata": {
    "tags": []
   },
   "outputs": [],
   "source": [
    "# Load object mask\n",
    "object_mask = imread('data/object_mask.png') / 255"
   ]
  },
  {
   "cell_type": "code",
   "execution_count": null,
   "metadata": {},
   "outputs": [],
   "source": [
    "plot(\n",
    "    data=object_mask, # parameter changed\n",
    "    cmap='batchflow',\n",
    "    colorbar=True,\n",
    "    title='Object mask', # parameter changed\n",
    ")"
   ]
  },
  {
   "cell_type": "markdown",
   "metadata": {},
   "source": [
    "To overlay mask over image provide them in a list."
   ]
  },
  {
   "cell_type": "code",
   "execution_count": null,
   "metadata": {
    "tags": []
   },
   "outputs": [],
   "source": [
    "plot(\n",
    "    data=[image, object_mask], # parameter changed\n",
    "    cmap='batchflow',\n",
    "    colorbar=True,\n",
    "    title='Object mask over sample image', # parameter changed\n",
    ")"
   ]
  },
  {
   "cell_type": "markdown",
   "metadata": {},
   "source": [
    "As one might notice, the mask has fully covered the image, effectively making it invisible.\n",
    "\n",
    "To make 0s transparent in binary mask and color 1s with automatically chosen color, use `augment_mask` flag."
   ]
  },
  {
   "cell_type": "code",
   "execution_count": null,
   "metadata": {},
   "outputs": [],
   "source": [
    "plot(\n",
    "    data=[image, object_mask],\n",
    "    cmap='batchflow',\n",
    "    colorbar=True,\n",
    "    title='Object mask over sample image',\n",
    "    augment_mask=True # new parameter\n",
    ")"
   ]
  },
  {
   "cell_type": "markdown",
   "metadata": {},
   "source": [
    "If one wishes to make layer transparent, there is an `'alpha'` parameter meant just for that.\n",
    "\n",
    "To make second layer transparent, but keep the first one opaque, provide `alpha` value as list of values for every layers."
   ]
  },
  {
   "cell_type": "code",
   "execution_count": null,
   "metadata": {},
   "outputs": [],
   "source": [
    "plot(\n",
    "    data=[image, object_mask],\n",
    "    cmap='batchflow',\n",
    "    colorbar=True,\n",
    "    title='Object mask over sample image',\n",
    "    augment_mask=True,\n",
    "    alpha=[1.0, 0.9] # new parameter\n",
    ")"
   ]
  },
  {
   "cell_type": "markdown",
   "metadata": {},
   "source": [
    "Let's load text mask and also plot it."
   ]
  },
  {
   "cell_type": "code",
   "execution_count": null,
   "metadata": {},
   "outputs": [],
   "source": [
    "text_mask = imread('data/text_mask.png') / 255"
   ]
  },
  {
   "cell_type": "code",
   "execution_count": null,
   "metadata": {
    "tags": []
   },
   "outputs": [],
   "source": [
    "plot(\n",
    "    data=[image, object_mask, text_mask], # parameter changed\n",
    "    cmap='batchflow',\n",
    "    colorbar=True,\n",
    "    title='Object and text masks over sample image', # parameter changed\n",
    "    augment_mask=True,\n",
    "    alpha=[1.0, 0.9, 0.9] # parameter changed\n",
    ")"
   ]
  },
  {
   "cell_type": "markdown",
   "metadata": {},
   "source": [
    "Note that valid matplotlib colors act as single-color cmaps, which is useful for binary mask display.\n",
    "\n",
    "Keep in mind, however, that if a color is provided under `cmap` parameter and `augment_mask` is not enabled, the whole layer will be displayed with a single color."
   ]
  },
  {
   "cell_type": "markdown",
   "metadata": {},
   "source": [
    "To add legend provide `label` argument. Colors are taken from `cmap` argument.\n",
    "\n",
    "To modify legend size, location or other parameters, provide corresponding parameters with `'legend_'` prefix."
   ]
  },
  {
   "cell_type": "code",
   "execution_count": null,
   "metadata": {
    "tags": []
   },
   "outputs": [],
   "source": [
    "plot(\n",
    "    data=[image, object_mask, text_mask],\n",
    "    cmap='batchflow',\n",
    "    colorbar=True,\n",
    "    title='Object and text masks over sample image',\n",
    "    augment_mask=True,\n",
    "    alpha=[1.0, 0.9, 0.9],\n",
    "    label=['image', 'object mask', 'text mask'], # new parameter\n",
    "    legend_loc=4 # new parameter\n",
    ")"
   ]
  },
  {
   "cell_type": "markdown",
   "metadata": {},
   "source": [
    "To skip specific legend label, use `False` value."
   ]
  },
  {
   "cell_type": "code",
   "execution_count": null,
   "metadata": {
    "scrolled": false,
    "tags": []
   },
   "outputs": [],
   "source": [
    "plot(\n",
    "    data=[image, object_mask, text_mask],\n",
    "    cmap='batchflow',\n",
    "    colorbar=True,\n",
    "    title='Binary masks over sample image',\n",
    "    augment_mask=True,\n",
    "    alpha=[1.0, 0.9, 0.9],\n",
    "    label=[None, 'object mask', 'text mask'], # parameter changed\n",
    "    legend_loc=4\n",
    ")"
   ]
  },
  {
   "cell_type": "markdown",
   "metadata": {},
   "source": [
    "To display given images separately, use `combine='separate'`.\n",
    "\n",
    "To make different titles for every subplot, provide them in a list of length same as data list."
   ]
  },
  {
   "cell_type": "code",
   "execution_count": null,
   "metadata": {
    "tags": []
   },
   "outputs": [],
   "source": [
    "plot(\n",
    "    data=[image, object_mask, text_mask],\n",
    "    cmap='batchflow',\n",
    "    colorbar=True,\n",
    "    title=['Sample image', 'Object mask', 'Text mask'],\n",
    "    augment_mask=True,\n",
    "    alpha=[1.0, 0.9, 0.9],\n",
    "    combine='separate' # new parameter\n",
    ")"
   ]
  },
  {
   "cell_type": "markdown",
   "metadata": {},
   "source": [
    "Colorbar can be disabled for chosen images."
   ]
  },
  {
   "cell_type": "code",
   "execution_count": null,
   "metadata": {
    "tags": []
   },
   "outputs": [],
   "source": [
    "plot(\n",
    "    data=[image, object_mask, text_mask],\n",
    "    cmap='batchflow',\n",
    "    colorbar=[True, False, False], # parameter changed\n",
    "    title=['Sample image', 'Object mask', 'Text mask'],\n",
    "    augment_mask=True,\n",
    "    alpha=[1.0, 0.9, 0.9],\n",
    "    combine='separate'\n",
    ")"
   ]
  },
  {
   "cell_type": "markdown",
   "metadata": {},
   "source": [
    "To display images in ``'mixed'`` manner, i.e. with some image overlaid and some displayed separately, use nested lists of image arrays.\n",
    "\n",
    "If list has level 2 nestedness, outer level defines subplots order while inner one defines layers order."
   ]
  },
  {
   "cell_type": "code",
   "execution_count": null,
   "metadata": {},
   "outputs": [],
   "source": [
    "plot(\n",
    "    data=[[image, object_mask, text_mask], object_mask, text_mask], # parameter changed\n",
    "    cmap='batchflow',\n",
    "    colorbar=[True, False, False], # parameter changed\n",
    "    title=['Sample image', 'Object mask', 'Text mask'],\n",
    "    augment_mask=True,\n",
    ")"
   ]
  },
  {
   "cell_type": "markdown",
   "metadata": {},
   "source": [
    "Use `None` in data list to keep specific subplot empty. One can access and modify it later, using subplot indexing."
   ]
  },
  {
   "cell_type": "code",
   "execution_count": null,
   "metadata": {
    "scrolled": false
   },
   "outputs": [],
   "source": [
    "plotter = plot(\n",
    "    data=[[image, object_mask, text_mask], object_mask, text_mask, None], # parameter changed\n",
    "    cmap='batchflow',\n",
    "    colorbar=[True, False, False], # parameter changed\n",
    "    title=['Sample image', 'Object mask', 'Text mask'],\n",
    "    augment_mask=True,\n",
    "    ncols=2,\n",
    "    nrows=2\n",
    ")\n",
    "\n",
    "plotter[-1].add_text(\n",
    "    text='(❁´◡`❁)',\n",
    "    size=70,\n",
    "    color='firebrick',\n",
    "    bbox={\n",
    "        'boxstyle': 'circle',\n",
    "        'facecolor': 'pink'\n",
    "    }\n",
    ")\n",
    "\n",
    "plotter"
   ]
  },
  {
   "cell_type": "markdown",
   "metadata": {},
   "source": [
    "If you have a bunch of different-shaped images, the `plot` will manage optimal figsize itself.\n",
    "\n",
    "And while `figsize` parameter is still available, one might find using `scale` option more convenient."
   ]
  },
  {
   "cell_type": "code",
   "execution_count": null,
   "metadata": {},
   "outputs": [],
   "source": [
    "data = [image[::np.random.randint(1, 5), ::np.random.randint(1, 5)] for _ in range(np.random.randint(10, 20))]\n",
    "plot(data, combine='separate', scale=0.3)"
   ]
  },
  {
   "cell_type": "code",
   "execution_count": null,
   "metadata": {},
   "outputs": [],
   "source": [
    "title = [\n",
    "    ''.join(\n",
    "        [\n",
    "            ' ' if x < ord('a') else chr(x)\n",
    "            for x in np.random.randint(\n",
    "                low=ord('a') - 5,\n",
    "                high=ord('z'),\n",
    "                size=np.random.randint(80, 120)\n",
    "            )\n",
    "        ]\n",
    "    )\n",
    "    for _ in range(len(data))\n",
    "]\n",
    "\n",
    "plot(data, combine='separate', colorbar=True, title=title, title_wrap_width=25)"
   ]
  }
 ],
 "metadata": {
  "kernelspec": {
   "display_name": "Python 3 (ipykernel)",
   "language": "python",
   "name": "python3"
  },
  "language_info": {
   "codemirror_mode": {
    "name": "ipython",
    "version": 3
   },
   "file_extension": ".py",
   "mimetype": "text/x-python",
   "name": "python",
   "nbconvert_exporter": "python",
   "pygments_lexer": "ipython3",
   "version": "3.9.10"
  },
  "widgets": {
   "application/vnd.jupyter.widget-state+json": {
    "state": {},
    "version_major": 2,
    "version_minor": 0
   }
  }
 },
 "nbformat": 4,
 "nbformat_minor": 4
}
