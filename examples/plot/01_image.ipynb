{
 "cells": [
  {
   "cell_type": "code",
   "execution_count": null,
   "metadata": {
    "tags": []
   },
   "outputs": [],
   "source": [
    "%load_ext autoreload\n",
    "%autoreload 2"
   ]
  },
  {
   "cell_type": "markdown",
   "metadata": {},
   "source": [
    "## This is a tutorial on `image` mode scenario of `Plot` class."
   ]
  },
  {
   "cell_type": "code",
   "execution_count": null,
   "metadata": {
    "tags": []
   },
   "outputs": [],
   "source": [
    "# Necessary imports\n",
    "import sys\n",
    "import numpy as np\n",
    "\n",
    "sys.path.insert(0, '../..')\n",
    "from batchflow import plot"
   ]
  },
  {
   "cell_type": "code",
   "execution_count": null,
   "metadata": {
    "tags": []
   },
   "outputs": [],
   "source": [
    "# Sample data generation\n",
    "shape = (50, 50)\n",
    "image = np.random.rand(*shape)"
   ]
  },
  {
   "cell_type": "markdown",
   "metadata": {},
   "source": [
    "To plot an image, simply pass an array to class init."
   ]
  },
  {
   "cell_type": "code",
   "execution_count": null,
   "metadata": {
    "tags": []
   },
   "outputs": [],
   "source": [
    "plot(image)"
   ]
  },
  {
   "cell_type": "markdown",
   "metadata": {},
   "source": [
    "To change colormap use `cmap` parameter."
   ]
  },
  {
   "cell_type": "code",
   "execution_count": null,
   "metadata": {
    "tags": []
   },
   "outputs": [],
   "source": [
    "plot(\n",
    "    data=image,\n",
    "    cmap='Wistia'\n",
    ")"
   ]
  },
  {
   "cell_type": "markdown",
   "metadata": {},
   "source": [
    "Only a few parameters are parsed from kwargs and forwarded to `plt.imshow` — `cmap`, `alpha`, `vmin`, `vmax`, `extent`.\n",
    "\n",
    "But surely, `matplotlib` accepts many parameters besides those. To provide them, use `image_` prefix in parameter name.\n",
    "\n",
    "Doing so you'll explicitly declare that this parameter is meant for image display and that it should be parsed and passed to `plt.imshow`."
   ]
  },
  {
   "cell_type": "code",
   "execution_count": null,
   "metadata": {},
   "outputs": [],
   "source": [
    "plot(\n",
    "    data=image,\n",
    "    cmap='Wistia',\n",
    "    image_interpolation='bessel' # using prefix, one can redirect parameter to specific method\n",
    ")"
   ]
  },
  {
   "cell_type": "markdown",
   "metadata": {},
   "source": [
    "To add image annotations, use following keywords: `colorbar`, `suptitle`, `title`, `xlabel`, `ylabel`."
   ]
  },
  {
   "cell_type": "code",
   "execution_count": null,
   "metadata": {
    "tags": []
   },
   "outputs": [],
   "source": [
    "plot(\n",
    "    data=image,\n",
    "    cmap='Wistia',\n",
    "    image_interpolation='bessel',\n",
    "    colorbar=True,\n",
    "    title='Randomly generated data',\n",
    "    xlabel='x-axis',\n",
    "    ylabel='y-axis',\n",
    ")"
   ]
  },
  {
   "cell_type": "markdown",
   "metadata": {},
   "source": [
    "To customize annotations, provide `size`, `family` parameters. If parameter name collision occurs (in the example below `family` parameter is valid for both title and axis annotation), </br>\n",
    "use prefix to provide parameter for specific annotation object (`title_family='sans-serif'` goes to title only, while `family='monospace'` goes everywhere else)."
   ]
  },
  {
   "cell_type": "code",
   "execution_count": null,
   "metadata": {
    "tags": []
   },
   "outputs": [],
   "source": [
    "plot(\n",
    "    data=image,\n",
    "    cmap='Wistia',\n",
    "    image_interpolation='bessel',\n",
    "    colorbar=True,\n",
    "    title='Randomly generated data',\n",
    "    title_family='sans-serif',\n",
    "    title_size=20,\n",
    "    xlabel='x-axis',\n",
    "    ylabel='y-axis',\n",
    "    family='monospace'\n",
    ")"
   ]
  },
  {
   "cell_type": "code",
   "execution_count": null,
   "metadata": {
    "tags": []
   },
   "outputs": [],
   "source": [
    "# Sample mask generation.\n",
    "mask_0 = np.zeros(shape)\n",
    "mask_0[image > 0.5] = 1"
   ]
  },
  {
   "cell_type": "markdown",
   "metadata": {},
   "source": [
    "To overlay images one over another pass them in a list."
   ]
  },
  {
   "cell_type": "code",
   "execution_count": null,
   "metadata": {
    "tags": []
   },
   "outputs": [],
   "source": [
    "plot(\n",
    "    data=[image, mask_0],\n",
    "    colorbar=True,\n",
    "    title='Randomly generated data',\n",
    "    title_family='sans-serif',\n",
    "    title_size=20,\n",
    "    xlabel='x-axis',\n",
    "    ylabel='y-axis',\n",
    "    family='monospace'\n",
    ")"
   ]
  },
  {
   "cell_type": "code",
   "execution_count": null,
   "metadata": {},
   "outputs": [],
   "source": [
    "# Sample mask generation.\n",
    "mask_1 = np.zeros(shape)\n",
    "mask_1[image > 0.75] = 1"
   ]
  },
  {
   "cell_type": "markdown",
   "metadata": {},
   "source": [
    "All images displayed above first one are treated as binary masks by default and therefore displayed with a single color."
   ]
  },
  {
   "cell_type": "code",
   "execution_count": null,
   "metadata": {
    "tags": []
   },
   "outputs": [],
   "source": [
    "plot(\n",
    "    data=[image, mask_0, mask_1],\n",
    "    colorbar=True,\n",
    "    title='Randomly generated data',\n",
    "    title_family='sans-serif',\n",
    "    title_size=20,\n",
    "    xlabel='x-axis',\n",
    "    ylabel='y-axis',\n",
    "    family='monospace'\n",
    ")"
   ]
  },
  {
   "cell_type": "markdown",
   "metadata": {},
   "source": [
    "If only one parameter is provided for several images (in the example below — `cmap`), all of them are displayed with it."
   ]
  },
  {
   "cell_type": "code",
   "execution_count": null,
   "metadata": {
    "tags": []
   },
   "outputs": [],
   "source": [
    "plot(\n",
    "    data=[image, mask_0, mask_1],\n",
    "    cmap='Wistia',\n",
    "    colorbar=True,\n",
    "    title='Randomly generated data',\n",
    "    title_family='sans-serif',\n",
    "    title_size=20,\n",
    "    xlabel='x-axis',\n",
    "    ylabel='y-axis',\n",
    "    family='monospace'\n",
    ")"
   ]
  },
  {
   "cell_type": "markdown",
   "metadata": {},
   "source": [
    "To specify parameter for every image layer, use lists of the same length as your data is.\n",
    "\n",
    "Note that valid matplotlib colors act as single-color cmaps, which is useful for binary mask display."
   ]
  },
  {
   "cell_type": "code",
   "execution_count": null,
   "metadata": {
    "tags": []
   },
   "outputs": [],
   "source": [
    "plot(\n",
    "    data=[image, mask_0, mask_1],\n",
    "    cmap=['Wistia', 'cornflowerblue', 'plum'],\n",
    "    image_interpolation=['bessel', 'none', 'none'],\n",
    "    colorbar=True,\n",
    "    title='Randomly generated data',\n",
    "    title_family='sans-serif',\n",
    "    title_size=20,\n",
    "    xlabel='x-axis',\n",
    "    ylabel='y-axis',\n",
    "    family='monospace'\n",
    ")"
   ]
  },
  {
   "cell_type": "markdown",
   "metadata": {},
   "source": [
    "To add legend provide `label` argument. Colors are taken from `cmap` argument."
   ]
  },
  {
   "cell_type": "code",
   "execution_count": null,
   "metadata": {
    "tags": []
   },
   "outputs": [],
   "source": [
    "plot(\n",
    "    data=[image, mask_0, mask_1],\n",
    "    cmap=['Wistia', 'cornflowerblue', 'plum'],\n",
    "    image_interpolation=['bessel', 'none', 'none'],\n",
    "    colorbar=True,\n",
    "    title='Randomly generated data',\n",
    "    title_family='sans-serif',\n",
    "    title_size=20,\n",
    "    xlabel='x-axis',\n",
    "    ylabel='y-axis',\n",
    "    family='monospace',\n",
    "    label=['image', '>0.5 mask', '>0.75 mask']\n",
    ")"
   ]
  },
  {
   "cell_type": "markdown",
   "metadata": {},
   "source": [
    "To skip specific legend label, use `None` value."
   ]
  },
  {
   "cell_type": "code",
   "execution_count": null,
   "metadata": {
    "tags": []
   },
   "outputs": [],
   "source": [
    "plot(\n",
    "    data=[image, mask_0, mask_1],\n",
    "    cmap=['Wistia', 'cornflowerblue', 'plum'],\n",
    "    image_interpolation=['bessel', 'none', 'none'],\n",
    "    colorbar=True,\n",
    "    title='Randomly generated data',\n",
    "    title_family='sans-serif',\n",
    "    title_size=20,\n",
    "    xlabel='x-axis',\n",
    "    ylabel='y-axis',\n",
    "    family='monospace',\n",
    "    label=[None, '>0.5 mask', '>0.75 mask']\n",
    ")"
   ]
  },
  {
   "cell_type": "markdown",
   "metadata": {},
   "source": [
    "To customize legend, provide arguments with `'legend_'` prefix."
   ]
  },
  {
   "cell_type": "code",
   "execution_count": null,
   "metadata": {
    "tags": []
   },
   "outputs": [],
   "source": [
    "plot(\n",
    "    data=[image, mask_0, mask_1],\n",
    "    cmap=['Wistia', 'cornflowerblue', 'plum'],\n",
    "    image_interpolation=['bessel', 'none', 'none'],\n",
    "    colorbar=True,\n",
    "    title='Randomly generated data',\n",
    "    title_family='sans-serif',\n",
    "    title_size=20,\n",
    "    xlabel='x-axis',\n",
    "    ylabel='y-axis',\n",
    "    family='monospace',\n",
    "    label=[None, '>0.5 mask', '>0.75 mask'],\n",
    "    # extra legend arguments\n",
    "    legend_loc=10,\n",
    "    legend_size=15,\n",
    ")"
   ]
  },
  {
   "cell_type": "markdown",
   "metadata": {},
   "source": [
    "To display given images separately, use `combine='separate'`."
   ]
  },
  {
   "cell_type": "code",
   "execution_count": null,
   "metadata": {
    "tags": []
   },
   "outputs": [],
   "source": [
    "plot(\n",
    "    data=[image, mask_0, mask_1],\n",
    "    combine='separate',\n",
    "    cmap=['Wistia', 'cornflowerblue', 'plum'],\n",
    "    image_interpolation=['bessel', 'none', 'none'],\n",
    "    colorbar=True,\n",
    "    title='Randomly generated data',\n",
    "    title_family='sans-serif',\n",
    "    title_size=20,\n",
    "    xlabel='x-axis',\n",
    "    ylabel='y-axis',\n",
    "    family='monospace'\n",
    ")"
   ]
  },
  {
   "cell_type": "markdown",
   "metadata": {},
   "source": [
    "Some parameters have one or more aliases (e.g. to pass title label value one can use `title`, `title` or `label` keywords)"
   ]
  },
  {
   "cell_type": "code",
   "execution_count": null,
   "metadata": {
    "tags": []
   },
   "outputs": [],
   "source": [
    "plot(\n",
    "    data=[image, mask_0, mask_1],\n",
    "    combine='separate',\n",
    "    cmap=['Wistia', 'cornflowerblue', 'plum'],\n",
    "    image_interpolation=['bessel', 'none', 'none'],\n",
    "    colorbar=True,\n",
    "    title=['Randomly generated data',\n",
    "           'Mask for values greater than 0.5',\n",
    "           'Mask for values greater than 0.75'],\n",
    "    title_family='sans-serif',\n",
    "    title_size=20,\n",
    "    xlabel='x-axis',\n",
    "    ylabel='y-axis',\n",
    "    family='monospace'\n",
    ")"
   ]
  },
  {
   "cell_type": "markdown",
   "metadata": {},
   "source": [
    "Colorbar can be disabled for chosen images."
   ]
  },
  {
   "cell_type": "code",
   "execution_count": null,
   "metadata": {
    "tags": []
   },
   "outputs": [],
   "source": [
    "plot(\n",
    "    data=[image, mask_0, mask_1],\n",
    "    combine='separate',\n",
    "    cmap=['Wistia', 'cornflowerblue', 'plum'],\n",
    "    image_interpolation=['bessel', 'none', 'none'],\n",
    "    colorbar=[True, False, False],\n",
    "    title=['Randomly generated data',\n",
    "           'Mask for values greater than 0.5',\n",
    "           'Mask for values greater than 0.75'],\n",
    "    title_family='sans-serif',\n",
    "    title_size=20,\n",
    "    xlabel='x-axis',\n",
    "    ylabel='y-axis',\n",
    "    family='monospace'\n",
    ")"
   ]
  },
  {
   "cell_type": "markdown",
   "metadata": {},
   "source": [
    "To display images in ``'mixed'`` manner, i.e. with some image overlaid and some displayed separately, use nested lists of image arrays.\n",
    "\n",
    "If list has level 2 nestedness, outer level defines subplots order while inner one defines layers order."
   ]
  },
  {
   "cell_type": "code",
   "execution_count": null,
   "metadata": {},
   "outputs": [],
   "source": [
    "plot(\n",
    "    data=[[image, mask_0, mask_1], mask_0, mask_1],\n",
    "    combine='separate',\n",
    "    cmap=[['Wistia', 'cornflowerblue', 'plum'], 'cornflowerblue', 'plum'],\n",
    "    image_interpolation=[['bessel', 'none', 'none'], 'none', 'none'],\n",
    "    colorbar=[True, False, False],\n",
    "    title=['Randomly generated data',\n",
    "           'Mask for values greater than 0.5',\n",
    "           'Mask for values greater than 0.75'],\n",
    "    title_family='sans-serif',\n",
    "    title_size=20,\n",
    "    xlabel='x-axis',\n",
    "    ylabel='y-axis',\n",
    "    family='monospace'\n",
    ")"
   ]
  },
  {
   "cell_type": "markdown",
   "metadata": {},
   "source": [
    "Use `None` in data list to keep specific subplot empty. One can access and modify it later, using subplot indexing."
   ]
  },
  {
   "cell_type": "code",
   "execution_count": null,
   "metadata": {
    "tags": []
   },
   "outputs": [],
   "source": [
    "plotter = plot(\n",
    "    data=[[image, mask_0, mask_1], None, mask_0, mask_1],\n",
    "    combine='separate',\n",
    "    ncols=2,\n",
    "    cmap=[['Wistia', 'cornflowerblue', 'plum'], None, 'cornflowerblue', 'plum'],\n",
    "    image_interpolation=[['bessel', None, None], None, None, None],\n",
    "    colorbar=[True, False, False, False],\n",
    "    title=['Randomly generated data',\n",
    "           None,\n",
    "           'Mask for values greater than 0.5',\n",
    "           'Mask for values greater than 0.75'],\n",
    "    title_family='sans-serif',\n",
    "    title_size=20,\n",
    "    xlabel='x-axis',\n",
    "    ylabel='y-axis',\n",
    "    family='monospace'\n",
    ")\n",
    "\n",
    "plotter[1].add_text(\n",
    "    text='(❁´◡`❁)',\n",
    "    size=70,\n",
    "    color='firebrick',\n",
    "    bbox={\n",
    "        'boxstyle': 'circle',\n",
    "        'facecolor': 'pink'\n",
    "    }\n",
    ")\n",
    "\n",
    "plotter"
   ]
  },
  {
   "cell_type": "markdown",
   "metadata": {},
   "source": [
    "If you have a bunch of different-shaped images, the `plot` will manage optimal figsize itself.\n",
    "\n",
    "And while `figsize` parameter is still available, one might find using `scale` option more convenient."
   ]
  },
  {
   "cell_type": "code",
   "execution_count": null,
   "metadata": {
    "tags": []
   },
   "outputs": [],
   "source": [
    "data = [np.random.rand(*np.random.randint(2, 20, 2)) for _ in range(np.random.randint(10, 20))]\n",
    "plot(data, combine='separate', scale=0.3)"
   ]
  },
  {
   "cell_type": "code",
   "execution_count": null,
   "metadata": {},
   "outputs": [],
   "source": [
    "title = [\n",
    "    ''.join(\n",
    "        [\n",
    "            ' ' if x < ord('a') else chr(x)\n",
    "            for x in np.random.randint(\n",
    "                low=ord('a') - 5,\n",
    "                high=ord('z'),\n",
    "                size=np.random.randint(80, 120)\n",
    "            )\n",
    "        ]\n",
    "    )\n",
    "    for _ in range(len(data))\n",
    "]\n",
    "\n",
    "plot(data, combine='separate', colorbar=True, title=title, title_wrap_width=25)"
   ]
  }
 ],
 "metadata": {
  "kernelspec": {
   "display_name": "Python 3 (ipykernel)",
   "language": "python",
   "name": "python3"
  },
  "language_info": {
   "codemirror_mode": {
    "name": "ipython",
    "version": 3
   },
   "file_extension": ".py",
   "mimetype": "text/x-python",
   "name": "python",
   "nbconvert_exporter": "python",
   "pygments_lexer": "ipython3",
   "version": "3.9.10"
  },
  "widgets": {
   "application/vnd.jupyter.widget-state+json": {
    "state": {},
    "version_major": 2,
    "version_minor": 0
   }
  }
 },
 "nbformat": 4,
 "nbformat_minor": 4
}
