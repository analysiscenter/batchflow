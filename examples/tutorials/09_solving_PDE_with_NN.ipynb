{
 "cells": [
  {
   "cell_type": "markdown",
   "metadata": {},
   "source": [
    "# `DeepGalerkin`-model: solving PDEs with NNs"
   ]
  },
  {
   "cell_type": "markdown",
   "metadata": {},
   "source": [
    "Welcome! In this tutorial you'll learn how to solve partial differential equations (PDEs) with neural networks using `DeepGalerkin`-model from `BatchFlow`, inspired by the paper [DGM: A deep learning algorithm for solving partial differential equations](http://arxiv.org/abs/1708.07469). The notebook\n",
    "* starts with general setup of the PDE solved by `DeepGalerkin`\n",
    "* then explains in detail how the model is configured\n",
    "* finally, demonstrates how to use the model for solving common pde-problems, including *[heat-equation](https://en.wikipedia.org/wiki/Heat_equation)* and *[wave-equation](https://en.wikipedia.org/wiki/Wave_equation)*.\n",
    "\n",
    "To get full understanding of `DeepGalerkin`, we suggest you to read this tutorial starting from the problem setup. The alternative is to jump straight to the working examples:\n",
    "* [first-order ode $\\mathcal{R}$](#ex1)\n",
    "* [poisson equation in $\\mathcal{R}^2$](#ex2)\n",
    "* [heat equation in $\\mathcal{R}^2 \\times \\mathcal{R}$](#ex3)\n",
    "* [wave equation in $\\mathcal{R}$](#ex4)\n",
    "* [equation with non-constant coefficients in $\\mathcal{R}$](#ex5)\n",
    "* [system of two equations in $\\mathcal{R}$](#ex6)\n",
    "\n",
    "**Note**: `DeepGalerkin` is written in [TensorFlow](https://www.tensorflow.org/). Throughout the notebook `tf` will stand for `TensoFlow`."
   ]
  },
  {
   "cell_type": "markdown",
   "metadata": {},
   "source": [
    "## Setup of the PDE-problem"
   ]
  },
  {
   "cell_type": "markdown",
   "metadata": {},
   "source": [
    "With `DeepGalerkin`-model one can solve almost any conceivable PDE. Still, the model is most suited for solving evolution-equations with time of up to the second order with boundary and initial conditions. In general form, the PDE-problem for the model looks as follows:\n",
    "<a id='eq'></a>\n",
    "$$\n",
    "F\\left(u; t, x_1,\\dots, x_{n-1};\n",
    "\\frac{\\partial u}{\\partial t},\\frac{\\partial^2 u}{\\partial t^2};\n",
    "\\dots, \\frac{\\partial u}{\\partial x_i}, \\dots\n",
    "\\frac{\\partial^2 u}{\\partial x_i x_j}, \\dots\n",
    "\\frac{\\partial^3 u}{\\partial x_i x_j x_k},\\dots\n",
    "\\right) = 0.\n",
    "$$\n",
    "The problem is solved on rectangular domain\n",
    "<a id='dom'></a>\n",
    "$$\n",
    "\\Omega = [g_0^1, g_1^1] \\times \\dots \\times [g_0^n, g_1^n] ,\\quad u: \\mathcal{R}^n \\rightarrow \\mathcal{R}\n",
    "$$\n",
    "While initial conditions fix the initial state and evolution rate of the system:\n",
    "<a id='inc_0'></a>\n",
    "$$\n",
    "u(x_1, \\dots, x_{n-1}, g_0^n) = u_0(x_1, \\dots, x_{n-1}),\n",
    "$$\n",
    "<a id='inc_1'></a>\n",
    "$$\n",
    "\\frac{\\partial u(x_1, \\dots, x_{n-1}, g_0^n)}{\\partial t} = u_0'(x_1, \\dots, x_{n-1}).\n",
    "$$\n",
    "When only first-order time derivative is presented in form $F$, only the initial value of system is needed:\n",
    "$$\n",
    "u(x_1, \\dots, x_{n-1}, g_0^n) = u_0(x_1, \\dots, x_{n-1}).\n",
    "$$\n",
    "`DeepGalerkin` also uses `Dirichlet`-boundary conditions:\n",
    "<a id='inc_3'></a>\n",
    "$$\n",
    "u(\\sigma \\Omega) = u_{\\sigma} = c(x).\n",
    "$$\n",
    "**Note**: $F$, $u_0$, $u_0'$ and $c$ are closed-form expressions composed from operations `+`, `-`, `*`, `\\`, differential operator $D(\\cdot, x)$, tokens `sin`, `cos`, `exp` and [many more]()."
   ]
  },
  {
   "cell_type": "markdown",
   "metadata": {},
   "source": [
    "## Math behind `DeepGalerkin`"
   ]
  },
  {
   "cell_type": "markdown",
   "metadata": {},
   "source": [
    "The main idea of `DeepGalerkin` is to substitute network $net(x; \\theta)$ into the form $F$ and fit $\\theta$ of  so that the difference between left-hand-side (lhs) of the PDE and right-hand-size (rhs) be small:\n",
    "<a id='dist'></a>\n",
    "$$\n",
    "e(x) = F\\left(net(x; \\theta); t, x_1,\\dots, x_{n-1}; \\frac{\\partial net(x; \\theta)}{\\partial t},\\frac{\\partial^2 net(x; \\theta)}{\\partial t^2},\\dots\\right),\n",
    "$$\n",
    "$$\n",
    "Loss(\\theta) = \\int\\limits_{\\Omega} L\\left[e(x)\\right] \\mathcal{P}( d x),\n",
    "$$\n",
    "$$\n",
    "Loss(\\theta) \\rightarrow \\min\\limits_{\\theta}.\n",
    "$$\n",
    "**Note:** In practice, $Loss(\\theta)$ is estimated on a sample(batch) of points $\\{(x^i_1,\\dots, x^i_n)\\}_{i=1,\\dots,N}$.\n",
    "As the distribution $\\mathcal{P}$ is not fixed, any sampling scheme can be used."
   ]
  },
  {
   "cell_type": "markdown",
   "metadata": {},
   "source": [
    "## Configuring `DeepGalerkin`"
   ]
  },
  {
   "cell_type": "markdown",
   "metadata": {},
   "source": [
    "Configuring `DeepGalerkin` comes down to\n",
    "* specification of the equation solved by the model in `pde`-dict\n",
    "* setting other parameters of the model inherited from base-class [`batchflow.models.TfModel`](https://analysiscenter.github.io/batchflow/api/batchflow.models.tf.base.html), e.g. network-architecture and loss-function\n",
    "* configuring how to form batches of training data and feed them into the training loop\n",
    "* [optional] specifying gradients for tracking (for instance, for debugging purposes)"
   ]
  },
  {
   "cell_type": "markdown",
   "metadata": {},
   "source": [
    "### 1.PDE setup in `pde`-dict"
   ]
  },
  {
   "cell_type": "markdown",
   "metadata": {},
   "source": [
    "It consists of several steps:\n",
    "* defining the dimensionality of the problem:\n",
    "```\n",
    "'n_dims': number_of_variables\n",
    "```\n",
    "* describing differential form in lhs of the [equation](#eq) as a function of `u`, `x`, `y`, `t`,$\\dots$. This corresponds to the key `form`:\n",
    "```\n",
    "'form': callable_form\n",
    "```\n",
    "Notably, `callable_form` is written using special token `D(u, t)` for differential operator and [other tokens](tokens) (think `sin`, `exp`, `-`) for unary and binary operations, e.g\n",
    "```\n",
    "'form': lambda u, x, t: D(D(u, x), x) - sin(x) * D(u, t)\n",
    "```\n",
    "stands for equation\n",
    "$$\n",
    "\\frac{\\partial^2{u}}{\\partial{t^2}} - \\sin{x}\\frac{\\partial{u}}{\\partial{t}} = 0.\n",
    "$$\n",
    "\n",
    "* defining the [domain](#dom) of the problem:\n",
    "```\n",
    "'domain' : [[g_0^1, g_1^1],...,[g_0^n, g_1^n]]\n",
    "```\n",
    "**Note**: if the key is not specified, the domain is set to `[[0, 1],...,[0, 1]]`\n",
    "* setting initial/boundary conditions. In case of PDEs with time-variable, e.g. heat-equation, one needs to fix initial value of the system ($u(x_1, \\dots, x_n, t=0)$) using `initial_condition`:\n",
    "```\n",
    "'initial_condition': constant or callable\n",
    "```\n",
    "where `callable` is also composed from [predefined tokens](). Importantly, when $\\frac{\\partial^2{u}}{\\partial{t^2}}$ is presented in lhs of the equation (e.g. [wave equation](#eq)), one needs to fix **both** initial value and initial rate of the system ($\\frac{\\partial{u}}{\\partial{t}}(x_1, \\dots, x_n, t=0)$):\n",
    "```\n",
    "'initial_condition': (callable_1, callable_2)\n",
    "```\n",
    "When `initial_condition` is not present in configuration-dict, `boundary-condition` [$u_{\\sigma}$](#inc_3) must be supplied (default value is 0):\n",
    "```\n",
    "'boundary_condition': constant or callable\n",
    "```\n",
    "* [optional] choosing the mode of `time_multiplier`: a multiplier, used for binding initial conditions. Can be either `sigmoid` or `polynomial` or callable. Go [here](https://github.com/analysiscenter/batchflow/blob/deep_galerkin/batchflow/models/tf/deep_galerkin.py#L150) for more info."
   ]
  },
  {
   "cell_type": "markdown",
   "metadata": {},
   "source": [
    "### 2. Setting other parameters of `DeepGalerkin`"
   ]
  },
  {
   "cell_type": "markdown",
   "metadata": {},
   "source": [
    "The easiest way to choose the architecture of network $net(x; \\theta)$ is to use [batchflow's convolution block](https://analysiscenter.github.io/batchflow/intro/tf_layers.html) in [network's body](https://analysiscenter.github.io/batchflow/intro/tf_models.html). For instance, this combination of keys\n",
    "```\n",
    "'body':{'layout' : 'fa fa f',\n",
    "        'units' : [10, 15, 1],\n",
    "        'activation' : [tf.nn.tanh, tf.nn.tanh]}\n",
    "```\n",
    "corresponds to a `f`ully-connected network with two hidden layers (of 10 and 15 units), one output-unit and two `tanh`-`a`ctivations. The specification of `loss` and other parameters is straightforward:\n",
    "```\n",
    "'loss':'mse'\n",
    "```"
   ]
  },
  {
   "cell_type": "markdown",
   "metadata": {},
   "source": [
    "### 3. Setting up the data-feeding procedure\n",
    "It consists of two steps"
   ]
  },
  {
   "cell_type": "markdown",
   "metadata": {},
   "source": [
    "* choosing the sampling scheme from $\\Omega$ (fixing the distribution $\\mathcal{P}$).\n",
    "The most convenient way is to use [`Sampler`-class](https://github.com/analysiscenter/batchflow/blob/master/examples/tutorials/07_sampler.ipynb). For instance, this line\n",
    "```\n",
    "s = (0.5 + NumpySampler('normal', dim=2)).truncate((1, 1), (0, 0)) \n",
    "```\n",
    "creates an object, that can sample points from a 2-dimensional Gaussian with center at $(0.5, 0.5)$ truncated into the box $[0, 1] \\times [0, 1]$:\n",
    "```\n",
    "sample_of_size_10 = s.sample(size=10)\n",
    "```\n",
    "* feeding sampled batches into the network-training loop. The easiest way is to wrap a callable, that samples points (`s.sample` in our example), into a [batchflow's named expression L](https://analysiscenter.github.io/batchflow/intro/named_expr.html):\n",
    "```\n",
    "train = (Pipeline()\n",
    "          .init_model(name='galerkin', ...)\n",
    "          .train_model('galerkin',\n",
    "                       feed_dict={'points': L(s.sample, size=F(len))} # wrap sampler\n",
    "                       ))\n",
    "```"
   ]
  },
  {
   "cell_type": "markdown",
   "metadata": {},
   "source": [
    "### 4. Tracking gradients of $net(x, \\theta)$ w.r.t its input $x$."
   ]
  },
  {
   "cell_type": "markdown",
   "metadata": {},
   "source": [
    "Sometimes the network does not seem to train at all. In this case, it may be useful to take a look at terms forming the [loss](#dist): first/second order derivatives of network-output with respect to its input-coordinates:"
   ]
  },
  {
   "cell_type": "markdown",
   "metadata": {},
   "source": [
    "$$\n",
    "\\frac{\\partial net(x; \\theta)}{\\partial x_i},\\ \\frac{\\partial^2 net(x; \\theta)}{\\partial x_i^2},\\\n",
    "\\frac{\\partial^2 net(x; \\theta)}{\\partial x_i \\partial x_j}\n",
    "$$"
   ]
  },
  {
   "cell_type": "markdown",
   "metadata": {},
   "source": [
    "It is as simple as adding the following key to the model-config:"
   ]
  },
  {
   "cell_type": "markdown",
   "metadata": {},
   "source": [
    "```\n",
    "'track': {'dx': lambda u, x, t: D(u, x) ,            # first-order derivative w.r.t. first coordinate\n",
    "          'd2xy': lambda u, x, y, t: D(D(u, x), y),  # second-order mixed derivative\n",
    "          'dt': lambda u, x, y, t: D(u, t)}          # derivative w.r.t. to last coordinate\n",
    "                                                     # make sure to incorporate all variables in lambda\n",
    "                                                     # even when they aren not used\n",
    "```"
   ]
  },
  {
   "cell_type": "markdown",
   "metadata": {},
   "source": [
    "## Examples: Solving common PDEs with `DeepGalerkin`"
   ]
  },
  {
   "cell_type": "code",
   "execution_count": 1,
   "metadata": {
    "ExecuteTime": {
     "end_time": "2019-07-10T09:05:37.802646Z",
     "start_time": "2019-07-10T09:05:36.001469Z"
    }
   },
   "outputs": [],
   "source": [
    "import os\n",
    "import warnings\n",
    "import sys\n",
    "\n",
    "warnings.filterwarnings('ignore')\n",
    "from tensorflow import logging\n",
    "logging.set_verbosity(logging.ERROR)\n",
    "os.environ['TF_CPP_MIN_LOG_LEVEL'] = '3'\n",
    "\n",
    "import numpy as np\n",
    "import tensorflow as tf\n",
    "from tqdm import tqdm_notebook\n",
    "import matplotlib.pyplot as plt\n",
    "\n",
    "sys.path.append('../..')\n",
    "\n",
    "from batchflow import NumpySampler\n",
    "from batchflow.sampler import cart_prod\n",
    "from batchflow.models.tf import DeepGalerkin, DGSolver"
   ]
  },
  {
   "cell_type": "markdown",
   "metadata": {},
   "source": [
    "<a id='tokens'></a>"
   ]
  },
  {
   "cell_type": "markdown",
   "metadata": {},
   "source": [
    "As was mentioned earlier, we have custom language to define PDE's. To use it, execute following line:"
   ]
  },
  {
   "cell_type": "code",
   "execution_count": 2,
   "metadata": {
    "ExecuteTime": {
     "end_time": "2019-07-10T09:05:38.608527Z",
     "start_time": "2019-07-10T09:05:38.604867Z"
    }
   },
   "outputs": [],
   "source": [
    "from batchflow.models.parser import add_tokens\n",
    "add_tokens()"
   ]
  },
  {
   "cell_type": "code",
   "execution_count": 3,
   "metadata": {
    "ExecuteTime": {
     "end_time": "2019-07-10T09:05:39.081577Z",
     "start_time": "2019-07-10T09:05:39.073557Z"
    }
   },
   "outputs": [
    {
     "data": {
      "text/plain": [
       "<function batchflow.models.parser.make_token.<locals>.token(*args, **kwargs)>"
      ]
     },
     "execution_count": 3,
     "metadata": {},
     "output_type": "execute_result"
    }
   ],
   "source": [
    "V"
   ]
  },
  {
   "cell_type": "markdown",
   "metadata": {},
   "source": [
    "It automatically adds names like `sin`, `cos`, `exp` to current namespace, allowing to use it without cluttering your code with things like `tf.sin`, `torch.cos`, `np.exp`.\n",
    "\n",
    "**Note**: by default, all of the functions are `Tensorflow` ones. To change this, pass `module` argument to `add_tokens`."
   ]
  },
  {
   "cell_type": "markdown",
   "metadata": {},
   "source": [
    "<a id='ex1'></a>"
   ]
  },
  {
   "cell_type": "markdown",
   "metadata": {},
   "source": [
    "* first-order ordinary differential equation in $\\mathcal{R}$ with simple initial condition\n",
    "$$\n",
    "\\frac{d f}{d t}= 2\\pi\\cos[2 \\pi t]; \\quad t \\in [0, 1],\\ f(0)=1.\n",
    "$$"
   ]
  },
  {
   "cell_type": "code",
   "execution_count": 4,
   "metadata": {
    "ExecuteTime": {
     "end_time": "2019-07-10T09:05:40.828107Z",
     "start_time": "2019-07-10T09:05:40.807123Z"
    }
   },
   "outputs": [],
   "source": [
    "# describing pde-problem in pde-dict\n",
    "#  C(t, t,) + \n",
    "pde = {'n_dims': 1,\n",
    "       'form': lambda u, t: D(u, t) - 2 * np.pi * cos(2 * np.pi * t) + C(t, 'my_var') + V('my_var'),\n",
    "       'initial_condition': 1 # will be transformed into callable returning 1\n",
    "      }\n",
    "\n",
    "# network-architecture and loss-function\n",
    "body = {'layout': 'fa fa f',\n",
    "        'units': [10, 15, 1],\n",
    "        'activation': [tf.nn.tanh, tf.nn.tanh]}\n",
    "loss = 'mse'\n",
    "\n",
    "# put it together in model-config\n",
    "config = {'body': body,\n",
    "          'pde': pde,\n",
    "          'loss': loss,\n",
    "          'track': {'dt': lambda u, t: D(u, t)}}\n",
    "\n",
    "# uniform sampling scheme\n",
    "s = NumpySampler('uniform')"
   ]
  },
  {
   "cell_type": "code",
   "execution_count": 5,
   "metadata": {
    "ExecuteTime": {
     "end_time": "2019-07-10T09:05:44.211944Z",
     "start_time": "2019-07-10T09:05:41.564964Z"
    },
    "scrolled": true
   },
   "outputs": [
    {
     "name": "stdout",
     "output_type": "stream",
     "text": [
      "CREATED NEW BLOCK\n",
      "GOT BY TRY\n"
     ]
    },
    {
     "data": {
      "application/vnd.jupyter.widget-view+json": {
       "model_id": "15aca54991734d17b78f3f715d211a2a",
       "version_major": 2,
       "version_minor": 0
      },
      "text/plain": [
       "HBox(children=(IntProgress(value=0, max=1500), HTML(value='')))"
      ]
     },
     "metadata": {},
     "output_type": "display_data"
    },
    {
     "name": "stdout",
     "output_type": "stream",
     "text": [
      "\n"
     ]
    }
   ],
   "source": [
    "# train the network on batches of 100 points\n",
    "dg = DGSolver(config)\n",
    "dg.fit(batch_size=100, sampler=s, n_iters=1500, bar='notebook')"
   ]
  },
  {
   "cell_type": "code",
   "execution_count": 6,
   "metadata": {
    "ExecuteTime": {
     "end_time": "2019-07-10T09:05:44.788730Z",
     "start_time": "2019-07-10T09:05:44.640620Z"
    }
   },
   "outputs": [
    {
     "data": {
      "image/png": "[encoded data removed]",
      "text/plain": [
       "<Figure size 432x288 with 1 Axes>"
      ]
     },
     "metadata": {
      "needs_background": "light"
     },
     "output_type": "display_data"
    }
   ],
   "source": [
    "# plot loss\n",
    "plt.plot(dg.loss[:])\n",
    "plt.xlabel('iteration number', fontdict={'fontsize': 15})\n",
    "plt.ylabel('Loss',fontdict={'fontsize': 15})\n",
    "plt.show()"
   ]
  },
  {
   "cell_type": "code",
   "execution_count": 7,
   "metadata": {
    "ExecuteTime": {
     "end_time": "2019-07-10T09:05:45.685217Z",
     "start_time": "2019-07-10T09:05:45.341176Z"
    }
   },
   "outputs": [
    {
     "data": {
      "image/png": "[encoded data removed]",
      "text/plain": [
       "<Figure size 432x288 with 1 Axes>"
      ]
     },
     "metadata": {
      "needs_background": "light"
     },
     "output_type": "display_data"
    }
   ],
   "source": [
    "# plot real solution and network approximation\n",
    "sol = lambda t: np.sin(2 * np.pi * t) + 1\n",
    "pts = np.linspace(0, 1, 200).reshape(-1, 1)\n",
    "approxs = dg.solve(pts)\n",
    "true = [sol(t[0]) for t in pts]\n",
    "plt.plot(pts, true, 'b--', linewidth=3, label='True solution')\n",
    "plt.plot(pts, approxs, 'r', label='Network approximation')\n",
    "plt.xlabel(r'$t$', fontdict={'fontsize': 14})\n",
    "plt.legend()\n",
    "plt.show()"
   ]
  },
  {
   "cell_type": "code",
   "execution_count": 8,
   "metadata": {
    "ExecuteTime": {
     "end_time": "2019-07-10T09:05:46.730295Z",
     "start_time": "2019-07-10T09:05:46.448548Z"
    }
   },
   "outputs": [
    {
     "data": {
      "image/png": "[encoded data removed]",
      "text/plain": [
       "<Figure size 432x288 with 1 Axes>"
      ]
     },
     "metadata": {
      "needs_background": "light"
     },
     "output_type": "display_data"
    }
   ],
   "source": [
    "# plot approximation of solution-derivative\n",
    "der = lambda t: 2 * np.pi * np.cos(2 * np.pi * t)\n",
    "true_der = [der(t[0]) for t in pts]\n",
    "ders = dg.solve(pts, fetches='my_var')\n",
    "plt.plot(pts, true_der, 'b--', linewidth=3, label=r'True derivative')\n",
    "plt.plot(pts, ders, 'r', label=r'Network approximation of $\\frac{d u}{d t}$')\n",
    "plt.xlabel(r'$t$', fontdict={'fontsize': 14})\n",
    "plt.legend()\n",
    "plt.show()"
   ]
  },
  {
   "cell_type": "markdown",
   "metadata": {},
   "source": [
    "<a id='ex2'></a>"
   ]
  },
  {
   "cell_type": "markdown",
   "metadata": {},
   "source": [
    "* poisson equation in $\\mathcal{R}^2$ with Dirichlet boundary condition"
   ]
  },
  {
   "cell_type": "markdown",
   "metadata": {},
   "source": [
    "$$\\frac{\\partial^2 f}{\\partial x^2} + \\frac{\\partial^2 f}{\\partial y^2} = 5\\sin[\\pi(x + y)];\\quad (x, y) \\in [0, 1]^2,\\ f(0, y)=f(x, 0)=f(1, y)=f(x, 1)=1.\n",
    "$$"
   ]
  },
  {
   "cell_type": "code",
   "execution_count": 9,
   "metadata": {
    "ExecuteTime": {
     "end_time": "2019-07-10T09:05:48.590004Z",
     "start_time": "2019-07-10T09:05:48.571757Z"
    }
   },
   "outputs": [],
   "source": [
    "# describing pde-problem in pde-dict\n",
    "pde = {'n_dims': 2,\n",
    "       'form': lambda u, x, y: D(D(u, x), x) + D(D(u, y), y) - 5 * sin(np.pi * (x + y)),\n",
    "       'boundary_condition': 1}                       # will be transformed into callable returning 1\n",
    "\n",
    "# network-architecture and loss-function\n",
    "body = {'layout': 'fa fa fa f',\n",
    "        'units': [15, 25, 15, 1],\n",
    "        'activation': [tf.nn.tanh, tf.nn.tanh, tf.nn.tanh]}\n",
    "loss = 'mse'\n",
    "\n",
    "# put it together in model-config\n",
    "config = {'body': body,\n",
    "          'pde': pde,\n",
    "          'loss': loss,\n",
    "          'track': {'d2x+d2y': lambda u, x, y: D(D(u, x), x) + D(D(u, y), y)}}    # another way of tracking additional expressions\n",
    "\n",
    "# uniform sampling scheme (using alias)\n",
    "s = NumpySampler('u', dim=2)"
   ]
  },
  {
   "cell_type": "markdown",
   "metadata": {},
   "source": [
    "In some cases, it is more convinient to use `DGSolver` wrapper:"
   ]
  },
  {
   "cell_type": "code",
   "execution_count": 10,
   "metadata": {
    "ExecuteTime": {
     "end_time": "2019-07-10T09:05:57.878189Z",
     "start_time": "2019-07-10T09:05:49.803623Z"
    }
   },
   "outputs": [
    {
     "data": {
      "application/vnd.jupyter.widget-view+json": {
       "model_id": "afffdb6389d54f8caa44ff30e4e7c409",
       "version_major": 2,
       "version_minor": 0
      },
      "text/plain": [
       "HBox(children=(IntProgress(value=0, max=1500), HTML(value='')))"
      ]
     },
     "metadata": {},
     "output_type": "display_data"
    },
    {
     "name": "stdout",
     "output_type": "stream",
     "text": [
      "\n"
     ]
    }
   ],
   "source": [
    "# train the network on batches of 100 points\n",
    "dg = DGSolver(config)\n",
    "dg.fit(batch_size=100, sampler=s, n_iters=1500, bar='notebook')"
   ]
  },
  {
   "cell_type": "code",
   "execution_count": 11,
   "metadata": {
    "ExecuteTime": {
     "end_time": "2019-07-10T09:05:58.472219Z",
     "start_time": "2019-07-10T09:05:58.324241Z"
    }
   },
   "outputs": [
    {
     "data": {
      "image/png": "[encoded data removed]",
      "text/plain": [
       "<Figure size 432x288 with 1 Axes>"
      ]
     },
     "metadata": {
      "needs_background": "light"
     },
     "output_type": "display_data"
    }
   ],
   "source": [
    "# plot loss\n",
    "plt.plot(dg.loss[:])\n",
    "plt.xlabel('iteration number', fontdict={'fontsize': 15})\n",
    "plt.ylabel('Loss',fontdict={'fontsize': 15})\n",
    "plt.show()"
   ]
  },
  {
   "cell_type": "code",
   "execution_count": 12,
   "metadata": {
    "ExecuteTime": {
     "end_time": "2019-07-10T09:05:59.803556Z",
     "start_time": "2019-07-10T09:05:59.452177Z"
    }
   },
   "outputs": [
    {
     "data": {
      "image/png": "[encoded data removed]",
      "text/plain": [
       "<Figure size 432x288 with 2 Axes>"
      ]
     },
     "metadata": {
      "needs_background": "light"
     },
     "output_type": "display_data"
    }
   ],
   "source": [
    "# plot network approximation of a solution\n",
    "n_el = 100\n",
    "grid = cart_prod(np.linspace(0, 1, n_el), np.linspace(0, 1, n_el))\n",
    "approxs = dg.solve(grid)\n",
    "\n",
    "plt.title('Elliptic PDE in $\\mathcal{R}^2$: approximate solution', fontdict={'fontsize': 16})\n",
    "plt.imshow(approxs.reshape(n_el, n_el))\n",
    "plt.colorbar()\n",
    "plt.show()"
   ]
  },
  {
   "cell_type": "code",
   "execution_count": 13,
   "metadata": {
    "ExecuteTime": {
     "end_time": "2019-07-10T09:06:01.002993Z",
     "start_time": "2019-07-10T09:06:00.444635Z"
    }
   },
   "outputs": [
    {
     "data": {
      "image/png": "[encoded data removed]",
      "text/plain": [
       "<Figure size 432x288 with 2 Axes>"
      ]
     },
     "metadata": {
      "needs_background": "light"
     },
     "output_type": "display_data"
    }
   ],
   "source": [
    "# plot approximation of solution-derivative\n",
    "ders = dg.solve(grid, fetches='d2x+d2y')\n",
    "plt.title('Elliptic PDE in $\\mathcal{R}^2$: approximate derivative', fontdict={'fontsize': 16})\n",
    "plt.imshow(ders.reshape(n_el, n_el))\n",
    "plt.colorbar()\n",
    "plt.show()"
   ]
  },
  {
   "cell_type": "markdown",
   "metadata": {},
   "source": [
    "<a id='ex3'></a>"
   ]
  },
  {
   "cell_type": "markdown",
   "metadata": {},
   "source": [
    "* heat equation in $\\mathcal{R}^2 \\times \\mathcal{R}$"
   ]
  },
  {
   "cell_type": "markdown",
   "metadata": {},
   "source": [
    "$$\\frac{\\partial f}{\\partial t} - \\frac{\\partial^2 f}{\\partial x^2} - \\frac{\\partial^2 f}{\\partial y^2} = 5xy(1 - x)(1 - y) \\cos[\\pi(x + y)];\\quad (x, y, t) \\in [0, 1]^2 \\times [0, 1],\\ f(x, y, 0) = xy(1 - x)(1 - y).\n",
    "$$"
   ]
  },
  {
   "cell_type": "code",
   "execution_count": null,
   "metadata": {
    "ExecuteTime": {
     "end_time": "2019-07-10T08:38:19.268860Z",
     "start_time": "2019-07-10T08:38:19.262641Z"
    }
   },
   "outputs": [],
   "source": [
    "# describing pde-problem in pde-dict\n",
    "pde = {'n_dims': 3,\n",
    "       'form': lambda u, x, y, t: (D(u, t) - D(D(u, x), x) - D(D(u, y), y)\n",
    "                                   - 5 * x * y * (1 - x) * (1 - y) * cos(np.pi * (x + y))),\n",
    "       'initial_condition': lambda x, y: x * y * (1 - x) * (1 - y)}\n",
    "\n",
    "# network-architecture and loss-function\n",
    "body = {'layout': 'fa fa fa f',\n",
    "        'units': [15, 25, 15, 1],\n",
    "        'activation': [tf.nn.tanh, tf.nn.tanh, tf.nn.tanh]}\n",
    "loss = 'mse'\n",
    "\n",
    "# put it together in model-config\n",
    "config = {'body': body,\n",
    "          'pde': pde,\n",
    "          'loss': loss}\n",
    "\n",
    "# uniform sampling scheme\n",
    "s = NumpySampler('u', dim=3)"
   ]
  },
  {
   "cell_type": "code",
   "execution_count": null,
   "metadata": {
    "ExecuteTime": {
     "end_time": "2019-07-10T08:38:39.917839Z",
     "start_time": "2019-07-10T08:38:19.276197Z"
    }
   },
   "outputs": [],
   "source": [
    "# train the network on batches of 100 points\n",
    "dg = DGSolver(config)\n",
    "dg.fit(batch_size=200, sampler=s, n_iters=5000, bar='notebook')"
   ]
  },
  {
   "cell_type": "code",
   "execution_count": null,
   "metadata": {
    "ExecuteTime": {
     "end_time": "2019-07-10T08:38:40.084466Z",
     "start_time": "2019-07-10T08:38:39.920896Z"
    }
   },
   "outputs": [],
   "source": [
    "# plot loss\n",
    "plt.plot(dg.loss[:])\n",
    "plt.xlabel('iteration number', fontdict={'fontsize': 15})\n",
    "plt.ylabel('Loss',fontdict={'fontsize': 15})\n",
    "plt.show()"
   ]
  },
  {
   "cell_type": "code",
   "execution_count": null,
   "metadata": {
    "ExecuteTime": {
     "end_time": "2019-07-10T08:38:40.768175Z",
     "start_time": "2019-07-10T08:38:40.086643Z"
    },
    "scrolled": true
   },
   "outputs": [],
   "source": [
    "# plot network approximation of a solution\n",
    "n_sections = 4\n",
    "timestamps = (0, 0.1, 0.15, 0.2)\n",
    "n_el = 100\n",
    "fig, axes = plt.subplots(1, n_sections, figsize=(5 * n_sections, 5))\n",
    "cart = cart_prod(np.linspace(0, 1, n_el), np.linspace(0, 1, n_el))\n",
    "\n",
    "for i, t_ in enumerate(timestamps):\n",
    "    grid = np.concatenate([cart, t_ * np.ones(shape=(n_el**2, 1))], axis=1)\n",
    "    approxs = dg.solve(grid)\n",
    "    axes[i].imshow(approxs.reshape(n_el, n_el))\n",
    "    axes[i].set_title('$t=%.2f$' % t_, size=20)\n",
    "fig.tight_layout()\n",
    "fig.suptitle('Parabolic PDE in $\\mathcal{R}^3$: approximate solution', size=23)\n",
    "fig.subplots_adjust(top=0.82)\n",
    "fig.show()"
   ]
  },
  {
   "cell_type": "markdown",
   "metadata": {},
   "source": [
    "<a id='ex4'></a>"
   ]
  },
  {
   "cell_type": "markdown",
   "metadata": {},
   "source": [
    "* wave equation in $\\mathcal{R} \\times \\mathcal{R}$ (evolution equation of plucked string with fixed ends)"
   ]
  },
  {
   "cell_type": "markdown",
   "metadata": {},
   "source": [
    "$$ \\frac{\\partial^2 f}{\\partial t^2} - \\frac{\\partial^2 f}{\\partial x^2} = 0 ; \\quad (x, t) \\in [0, 1] \\times [0, 1],\\ f(x, 0)=x(1 - x),\\ \\frac{\\partial f}{\\partial t}(x, 0)= 0.\n",
    "$$"
   ]
  },
  {
   "cell_type": "markdown",
   "metadata": {},
   "source": [
    "It is reasonable to set `time_multiplier` to `polynomial` since we know that solution is oscillating endlessly."
   ]
  },
  {
   "cell_type": "code",
   "execution_count": null,
   "metadata": {
    "ExecuteTime": {
     "end_time": "2019-07-10T08:38:40.789450Z",
     "start_time": "2019-07-10T08:38:40.779781Z"
    }
   },
   "outputs": [],
   "source": [
    "# describing pde-problem in pde-dict\n",
    "pde = {'n_dims': 2,\n",
    "       'form': lambda u, x, t: D(D(u, t), t) - D(D(u, x), x),\n",
    "       'initial_condition': [lambda x: x * (1 - x), 0],\n",
    "       'time_multiplier': 'polynomial'}\n",
    "\n",
    "# network-architecture and loss-function\n",
    "body = {'layout': 'faR fa fa+ f',\n",
    "        'units': [10, 25, 10, 1],\n",
    "        'activation': [tf.nn.tanh, tf.nn.tanh, tf.nn.tanh]}\n",
    "loss = 'mse'\n",
    "\n",
    "# put it together in model-config\n",
    "config = {'body': body,\n",
    "          'pde': pde,\n",
    "          'loss': loss,\n",
    "          'track': {'dt': lambda u, x, t: D(u, t)}}\n",
    "\n",
    "# uniform spatial sampling and exponential time-sampling\n",
    "s = NumpySampler('u') & NumpySampler('e', scale=1).truncate(3.0)"
   ]
  },
  {
   "cell_type": "code",
   "execution_count": null,
   "metadata": {
    "ExecuteTime": {
     "end_time": "2019-07-10T08:39:09.614715Z",
     "start_time": "2019-07-10T08:38:40.797568Z"
    },
    "scrolled": true
   },
   "outputs": [],
   "source": [
    "# train the network on batches of 100 points\n",
    "dg = DGSolver(config)\n",
    "dg.fit(batch_size=200, sampler=s, n_iters=10000, bar='notebook')"
   ]
  },
  {
   "cell_type": "code",
   "execution_count": null,
   "metadata": {
    "ExecuteTime": {
     "end_time": "2019-07-10T08:39:09.757105Z",
     "start_time": "2019-07-10T08:39:09.616540Z"
    }
   },
   "outputs": [],
   "source": [
    "# plot loss\n",
    "plt.plot(dg.loss[:])\n",
    "plt.xlabel('iteration number', fontdict={'fontsize': 15})\n",
    "plt.ylabel('Loss',fontdict={'fontsize': 15})\n",
    "plt.show()"
   ]
  },
  {
   "cell_type": "code",
   "execution_count": null,
   "metadata": {
    "ExecuteTime": {
     "end_time": "2019-07-10T08:39:10.612847Z",
     "start_time": "2019-07-10T08:39:09.759320Z"
    }
   },
   "outputs": [],
   "source": [
    "# plot network approximation of a solution\n",
    "n_sections = 6\n",
    "timestamps = (0., 0.14, 0.28, 0.42, 0.56, 0.7)\n",
    "n_el = 100\n",
    "fig, axes = plt.subplots(1, n_sections, figsize=(3.5 * n_sections, 3.5))\n",
    "cart = np.linspace(0, 1, n_el).reshape((n_el, 1))\n",
    "\n",
    "for i, t_ in enumerate(timestamps):\n",
    "    grid = np.concatenate([cart, t_ * np.ones(shape=(n_el, 1))], axis=1)\n",
    "    approxs = dg.solve(grid)\n",
    "    axes[i].plot(cart, approxs.reshape(n_el, ))\n",
    "    axes[i].set_title('$t=%.2f$' % t_, size=15)\n",
    "    axes[i].set_ylim(-0.3, 0.3)\n",
    "    \n",
    "fig.tight_layout()\n",
    "fig.suptitle('\"Plucked string\" (wave PDE in $\\mathcal{R}$): approximate solution', size=17)\n",
    "fig.subplots_adjust(top=0.82)\n",
    "fig.show()"
   ]
  },
  {
   "cell_type": "markdown",
   "metadata": {},
   "source": [
    "<a id='ex5'></a>"
   ]
  },
  {
   "cell_type": "markdown",
   "metadata": {},
   "source": [
    "* equation with non-constant coefficients in the left-hand side"
   ]
  },
  {
   "cell_type": "markdown",
   "metadata": {},
   "source": [
    "$$\n",
    "\\frac{1}{f(t)} \\frac{\\partial u}{\\partial t} = 1, \\quad\n",
    "\\\\\n",
    "f(t) = 15 + \\sin(5t) + 5(t+2)\\sin(5t)\n",
    "\\\\\n",
    "u(0) = 30.\n",
    "$$"
   ]
  },
  {
   "cell_type": "code",
   "execution_count": null,
   "metadata": {
    "ExecuteTime": {
     "end_time": "2019-07-10T08:39:10.621651Z",
     "start_time": "2019-07-10T08:39:10.614927Z"
    }
   },
   "outputs": [],
   "source": [
    "# describing pde-problem in pde-dict\n",
    "f_t = lambda t: ((15 + sin(5 * t))  +  5 * (t + 2) * cos(5 * t))\n",
    "pde = {'form': lambda u, t: D(u, t) / f_t(t) - 1,\n",
    "       'n_dims': 1,\n",
    "       'initial_condition': 15 * 2}\n",
    "\n",
    "# network-architecture and loss-function\n",
    "b = 3\n",
    "body = {'layout': 'fa' * b +  'f',\n",
    "        'units': [25] * b + [1],\n",
    "        'activation': [tf.nn.tanh] * b}\n",
    "loss = 'mse'\n",
    "\n",
    "# put it together in model-config\n",
    "config = {'body': body,\n",
    "          'pde': pde,\n",
    "          'loss': loss,\n",
    "          'track': {'dt': lambda u, t: D(u, t)}}\n",
    "\n",
    "# uniform sampling scheme\n",
    "s = NumpySampler('u')"
   ]
  },
  {
   "cell_type": "code",
   "execution_count": null,
   "metadata": {
    "ExecuteTime": {
     "end_time": "2019-07-10T08:39:21.474364Z",
     "start_time": "2019-07-10T08:39:10.623293Z"
    }
   },
   "outputs": [],
   "source": [
    "# train the network on batches of 100 points\n",
    "dg = DGSolver(config)\n",
    "dg.fit(batch_size=100, sampler=s, n_iters=10000, bar='notebook')"
   ]
  },
  {
   "cell_type": "code",
   "execution_count": null,
   "metadata": {
    "ExecuteTime": {
     "end_time": "2019-07-10T08:39:21.668952Z",
     "start_time": "2019-07-10T08:39:21.478643Z"
    }
   },
   "outputs": [],
   "source": [
    "# plot loss\n",
    "plt.plot(dg.loss[:])\n",
    "plt.xlabel('iteration number', fontdict={'fontsize': 15})\n",
    "plt.ylabel('Loss',fontdict={'fontsize': 15})\n",
    "plt.show()"
   ]
  },
  {
   "cell_type": "code",
   "execution_count": null,
   "metadata": {
    "ExecuteTime": {
     "end_time": "2019-07-10T08:39:21.860202Z",
     "start_time": "2019-07-10T08:39:21.671591Z"
    }
   },
   "outputs": [],
   "source": [
    "# plot real solution and network approximation\n",
    "sol = lambda t: (15 + np.sin(5 * t)) * (2 + t)\n",
    "pts = np.linspace(0, 1, 200).reshape(-1, 1)\n",
    "approxs = dg.solve(pts)\n",
    "true = [sol(t[0]) for t in pts]\n",
    "plt.plot(pts, true, 'b--', linewidth=3, label='True solution')\n",
    "plt.plot(pts, approxs, 'r', label='Network approximation')\n",
    "plt.xlabel(r'$t$', fontdict={'fontsize': 14})\n",
    "plt.legend()\n",
    "plt.show()"
   ]
  },
  {
   "cell_type": "code",
   "execution_count": null,
   "metadata": {
    "ExecuteTime": {
     "end_time": "2019-07-10T08:39:22.367983Z",
     "start_time": "2019-07-10T08:39:21.862606Z"
    }
   },
   "outputs": [],
   "source": [
    "# plot approximation of solution-derivative\n",
    "der = lambda t: ((15 + np.sin(5 * t))  +  5 * (t + 2) * np.cos(5 * t))\n",
    "true_der = [der(t[0]) for t in pts]\n",
    "ders = dg.solve(pts, fetches='dt')\n",
    "plt.plot(pts, true_der, 'b--', linewidth=3, label=r'True derivative')\n",
    "plt.plot(pts, ders, 'r', label=r'Network approximation of $\\frac{d u}{d t}$')\n",
    "plt.xlabel(r'$t$', fontdict={'fontsize': 14})\n",
    "plt.legend()\n",
    "plt.show()"
   ]
  },
  {
   "cell_type": "markdown",
   "metadata": {},
   "source": [
    "<a id='ex6'></a>\n",
    "\n",
    "With `DeepGalerkin`, it is also possible to solve system of equations. The basic semantics are the same, but `form`, `initial_condition`, `boundary_condition` are now lists of separate equations or conditions for each function respectively. You also have to provide additional information on equation by passing `n_funs` and `n_eqns` to PDE-configuration to communicate number of functions and number of equations of the problem.\n",
    "\n",
    "Under the hood, each unknown function is approximated with a neural network: they have common `body` part and separate `head`'s. You can easily control, how much of the computational flow is shared between each approximator by adjusting `body`/`head` configs. "
   ]
  },
  {
   "cell_type": "markdown",
   "metadata": {},
   "source": [
    "* system of two equations:"
   ]
  },
  {
   "cell_type": "markdown",
   "metadata": {},
   "source": [
    "\\begin{cases}\n",
    "u_1(t) + \\dfrac{\\partial u_2(t)}{ \\partial t} = 0 \\\\\n",
    "u_2(t) + \\dfrac{\\partial u_1(t)}{ \\partial t} = 2 \\cos(t)\n",
    "\\end{cases}\n",
    "\n",
    "$$\n",
    "u_1(0)=0, \\quad u_2(0)=1.\n",
    "$$\n",
    "\n",
    "It is easy to see that $u_1(t) = \\sin(t)$ and $u_2(t) = \\cos(t)$ satisfy both system of equations and initial conditions."
   ]
  },
  {
   "cell_type": "code",
   "execution_count": null,
   "metadata": {
    "ExecuteTime": {
     "end_time": "2019-07-10T08:39:22.376755Z",
     "start_time": "2019-07-10T08:39:22.370115Z"
    }
   },
   "outputs": [],
   "source": [
    "pde = {'n_dims': 1, 'n_funs': 2, 'n_eqns': 2,\n",
    "       'form': [lambda u0, u1, t: u0 + D(u1, t),\n",
    "                lambda u0, u1, t: u1 + D(u0, t) - 2 * cos(t)],\n",
    "       'initial_condition': [[0.0],\n",
    "                             [1.0]],\n",
    "       'time_multiplier': 'polynomial'}\n",
    "\n",
    "body = {'layout': 'fa',\n",
    "        'units': 40,\n",
    "        'activation': tf.nn.tanh}\n",
    "\n",
    "head = {'layout': 'fa fa' + 'f',\n",
    "        'units': [10, 10, 1],\n",
    "        'activation': [tf.nn.tanh]*2}\n",
    "\n",
    "loss = 'mse'\n",
    "\n",
    "# Put it all together in model-config\n",
    "config = {'pde': pde,\n",
    "          'body': body,\n",
    "          'head': head,\n",
    "          'loss': loss,\n",
    "         }  \n",
    "\n",
    "# Uniform sampling scheme\n",
    "s = NumpySampler('u', dim=1)"
   ]
  },
  {
   "cell_type": "code",
   "execution_count": null,
   "metadata": {
    "ExecuteTime": {
     "end_time": "2019-07-10T08:39:25.068262Z",
     "start_time": "2019-07-10T08:39:22.379006Z"
    }
   },
   "outputs": [],
   "source": [
    "# train the network on batches of 100 points\n",
    "dg = DGSolver(config)\n",
    "dg.fit(batch_size=50, sampler=s, n_iters=200, bar='notebook')"
   ]
  },
  {
   "cell_type": "code",
   "execution_count": null,
   "metadata": {
    "ExecuteTime": {
     "end_time": "2019-07-10T08:39:25.222380Z",
     "start_time": "2019-07-10T08:39:25.069920Z"
    }
   },
   "outputs": [],
   "source": [
    "# Plot loss\n",
    "plt.plot(dg.loss[:])\n",
    "plt.xlabel('iteration number', fontdict={'fontsize': 15})\n",
    "plt.ylabel('Loss', fontdict={'fontsize': 15})\n",
    "plt.show()"
   ]
  },
  {
   "cell_type": "code",
   "execution_count": null,
   "metadata": {
    "ExecuteTime": {
     "end_time": "2019-07-10T08:39:25.523886Z",
     "start_time": "2019-07-10T08:39:25.224708Z"
    }
   },
   "outputs": [],
   "source": [
    "# Plot true solutions and their approximations\n",
    "n_el = 100\n",
    "fig, ax = plt.subplots(figsize=(12, 6))\n",
    "pts = np.linspace(0, 1, n_el).reshape((n_el, 1))\n",
    "\n",
    "true_sin = [np.sin(t_) for t_ in pts]\n",
    "approxs_sin = dg.solve(pts)[:, 0]\n",
    "true_cos = [np.cos(t_) for t_ in pts]\n",
    "approxs_cos = dg.solve(pts)[:, 1]\n",
    "\n",
    "plt.plot(pts, true_sin, 'g--', linewidth=3, label='true sin')\n",
    "plt.plot(pts, approxs_sin.reshape(n_el, ), 'y', label='sin approximation')\n",
    "plt.plot(pts, true_cos, 'b--',  linewidth=3, label='true cos')\n",
    "plt.plot(pts, approxs_cos.reshape(n_el, ), 'r', label='cos approximation')\n",
    "\n",
    "plt.legend(loc='upper right', shadow=True, ncol=2)\n",
    "fig.show()"
   ]
  },
  {
   "cell_type": "code",
   "execution_count": null,
   "metadata": {},
   "outputs": [],
   "source": []
  },
  {
   "cell_type": "markdown",
   "metadata": {},
   "source": [
    "# WTF"
   ]
  },
  {
   "cell_type": "code",
   "execution_count": 255,
   "metadata": {
    "ExecuteTime": {
     "end_time": "2019-07-10T11:09:33.004021Z",
     "start_time": "2019-07-10T11:09:32.955822Z"
    }
   },
   "outputs": [],
   "source": [
    "# describing pde-problem in pde-dict\n",
    "K = 5\n",
    "block = {'layout': 'fa Rfa fa. fa f',\n",
    "         'units': [15]*4 + [1],\n",
    "         'activation': tf.nn.tanh}\n",
    "\n",
    "pde = {'n_dims': 1,\n",
    "       'form': lambda u, t: (D(u, t)*(1 + 0.1*V(0.0, 'der', **block))\n",
    "                             - u*(1 + V(0.0, 'fun'))\n",
    "                             - K*cos(K*t)*exp(t)\n",
    "                            ),\n",
    "#        'form': lambda u, t: D(u, t)*(1) - u - K*cos(K*t)*exp(t),\n",
    "       'time_multiplier': 'polynomial',\n",
    "       'initial_condition': 0.0,\n",
    "#        'initial_condition': lambda: V(0.0, 'initcond'),\n",
    "       'bind_bc_ic': True}   \n",
    "\n",
    "\n",
    "body = {'layout': 'fa fa f',\n",
    "        'units': [10, 15, 1],\n",
    "        'activation': [tf.nn.tanh, tf.nn.tanh]}\n",
    "\n",
    "# put it together in model-config\n",
    "config = {'pde': pde,\n",
    "          'body': body,\n",
    "          'loss': 'mse',\n",
    "          'track': {'expr': lambda u, t: u - (sin(K*t)*exp(t)+2)},\n",
    "          'decay': {'name': 'invtime', 'learning_rate':0.001, 'decay_steps': 100, 'decay_rate': 0.05},\n",
    "          'train_steps': {\n",
    "              'adds': {'scope': 'addendums',\n",
    "                       'optimizer': 'Adam'},\n",
    "              'cond_1': {'scope': '-addendums',\n",
    "                         'loss':{'name': 'mse', 'predictions':'expr'},\n",
    "                         'optimizer': 'RMSProp'},\n",
    "              'rest': {'scope': '-addendums',\n",
    "                       'optimizer': 'Adagrad',}\n",
    "           },\n",
    "         }\n",
    "\n",
    "# uniform sampling scheme\n",
    "s = NumpySampler('uniform')\n",
    "s_cond_1 = NumpySampler('uniform', low=0.3, high=1.4)# ConstantSampler(0.5)"
   ]
  },
  {
   "cell_type": "code",
   "execution_count": 256,
   "metadata": {
    "ExecuteTime": {
     "end_time": "2019-07-10T11:09:34.201501Z",
     "start_time": "2019-07-10T11:09:34.010879Z"
    },
    "scrolled": true
   },
   "outputs": [
    {
     "name": "stdout",
     "output_type": "stream",
     "text": [
      "CREATED NEW\n",
      "CREATED NEW\n"
     ]
    },
    {
     "ename": "AttributeError",
     "evalue": "'function' object has no attribute 'update'",
     "output_type": "error",
     "traceback": [
      "\u001b[0;31m---------------------------------------------------------------------------\u001b[0m",
      "\u001b[0;31mAttributeError\u001b[0m                            Traceback (most recent call last)",
      "\u001b[0;32m<ipython-input-256-ab3398b76656>\u001b[0m in \u001b[0;36m<module>\u001b[0;34m\u001b[0m\n\u001b[1;32m      1\u001b[0m \u001b[0;31m# train the network on batches of 100 points\u001b[0m\u001b[0;34m\u001b[0m\u001b[0;34m\u001b[0m\u001b[0;34m\u001b[0m\u001b[0m\n\u001b[0;32m----> 2\u001b[0;31m \u001b[0mdg\u001b[0m \u001b[0;34m=\u001b[0m \u001b[0mDGSolver\u001b[0m\u001b[0;34m(\u001b[0m\u001b[0mconfig\u001b[0m\u001b[0;34m)\u001b[0m\u001b[0;34m\u001b[0m\u001b[0;34m\u001b[0m\u001b[0m\n\u001b[0m\u001b[1;32m      3\u001b[0m \u001b[0;31m# dg.fit(batch_size=100, sampler=s, n_iters=1500, bar='notebook')\u001b[0m\u001b[0;34m\u001b[0m\u001b[0;34m\u001b[0m\u001b[0;34m\u001b[0m\u001b[0m\n\u001b[1;32m      4\u001b[0m \u001b[0;34m\u001b[0m\u001b[0m\n\u001b[1;32m      5\u001b[0m \u001b[0miters\u001b[0m \u001b[0;34m=\u001b[0m \u001b[0;34m[\u001b[0m\u001b[0;36m10\u001b[0m\u001b[0;34m,\u001b[0m \u001b[0;36m5\u001b[0m\u001b[0;34m,\u001b[0m \u001b[0;36m5\u001b[0m\u001b[0;34m]\u001b[0m \u001b[0;34m*\u001b[0m \u001b[0;36m1\u001b[0m\u001b[0;34m\u001b[0m\u001b[0;34m\u001b[0m\u001b[0m\n",
      "\u001b[0;32m~/GIT/batchflow/batchflow/models/tf/deep_galerkin.py\u001b[0m in \u001b[0;36m__init__\u001b[0;34m(self, config, model_class)\u001b[0m\n\u001b[1;32m    474\u001b[0m     \"\"\"\n\u001b[1;32m    475\u001b[0m     \u001b[0;32mdef\u001b[0m \u001b[0m__init__\u001b[0m\u001b[0;34m(\u001b[0m\u001b[0mself\u001b[0m\u001b[0;34m,\u001b[0m \u001b[0mconfig\u001b[0m\u001b[0;34m,\u001b[0m \u001b[0mmodel_class\u001b[0m\u001b[0;34m=\u001b[0m\u001b[0mDeepGalerkin\u001b[0m\u001b[0;34m)\u001b[0m\u001b[0;34m:\u001b[0m\u001b[0;34m\u001b[0m\u001b[0;34m\u001b[0m\u001b[0m\n\u001b[0;32m--> 476\u001b[0;31m         \u001b[0mself\u001b[0m\u001b[0;34m.\u001b[0m\u001b[0mmodel\u001b[0m \u001b[0;34m=\u001b[0m \u001b[0mmodel_class\u001b[0m\u001b[0;34m(\u001b[0m\u001b[0mconfig\u001b[0m\u001b[0;34m)\u001b[0m\u001b[0;34m\u001b[0m\u001b[0;34m\u001b[0m\u001b[0m\n\u001b[0m\u001b[1;32m    477\u001b[0m \u001b[0;34m\u001b[0m\u001b[0m\n\u001b[1;32m    478\u001b[0m \u001b[0;34m\u001b[0m\u001b[0m\n",
      "\u001b[0;32m~/GIT/batchflow/batchflow/models/tf/base.py\u001b[0m in \u001b[0;36m__init__\u001b[0;34m(self, *args, **kwargs)\u001b[0m\n\u001b[1;32m    268\u001b[0m                          'devices', 'leading_device', 'device_to_scope', 'scope_to_device', 'multi_device']\n\u001b[1;32m    269\u001b[0m \u001b[0;34m\u001b[0m\u001b[0m\n\u001b[0;32m--> 270\u001b[0;31m         \u001b[0msuper\u001b[0m\u001b[0;34m(\u001b[0m\u001b[0;34m)\u001b[0m\u001b[0;34m.\u001b[0m\u001b[0m__init__\u001b[0m\u001b[0;34m(\u001b[0m\u001b[0;34m*\u001b[0m\u001b[0margs\u001b[0m\u001b[0;34m,\u001b[0m \u001b[0;34m**\u001b[0m\u001b[0mkwargs\u001b[0m\u001b[0;34m)\u001b[0m\u001b[0;34m\u001b[0m\u001b[0;34m\u001b[0m\u001b[0m\n\u001b[0m\u001b[1;32m    271\u001b[0m \u001b[0;34m\u001b[0m\u001b[0m\n\u001b[1;32m    272\u001b[0m     \u001b[0;32mdef\u001b[0m \u001b[0mstore_to_attr\u001b[0m\u001b[0;34m(\u001b[0m\u001b[0mself\u001b[0m\u001b[0;34m,\u001b[0m \u001b[0mattr\u001b[0m\u001b[0;34m,\u001b[0m \u001b[0mgraph_item\u001b[0m\u001b[0;34m,\u001b[0m \u001b[0mdevice\u001b[0m\u001b[0;34m=\u001b[0m\u001b[0;32mNone\u001b[0m\u001b[0;34m)\u001b[0m\u001b[0;34m:\u001b[0m\u001b[0;34m\u001b[0m\u001b[0;34m\u001b[0m\u001b[0m\n",
      "\u001b[0;32m~/GIT/batchflow/batchflow/models/base.py\u001b[0m in \u001b[0;36m__init__\u001b[0;34m(self, config, *args, **kwargs)\u001b[0m\n\u001b[1;32m     36\u001b[0m             \u001b[0mself\u001b[0m\u001b[0;34m.\u001b[0m\u001b[0mload\u001b[0m\u001b[0;34m(\u001b[0m\u001b[0;34m**\u001b[0m\u001b[0mload\u001b[0m\u001b[0;34m)\u001b[0m\u001b[0;34m\u001b[0m\u001b[0;34m\u001b[0m\u001b[0m\n\u001b[1;32m     37\u001b[0m         \u001b[0;32mif\u001b[0m \u001b[0mbuild\u001b[0m\u001b[0;34m:\u001b[0m\u001b[0;34m\u001b[0m\u001b[0;34m\u001b[0m\u001b[0m\n\u001b[0;32m---> 38\u001b[0;31m             \u001b[0mself\u001b[0m\u001b[0;34m.\u001b[0m\u001b[0mbuild\u001b[0m\u001b[0;34m(\u001b[0m\u001b[0;34m*\u001b[0m\u001b[0margs\u001b[0m\u001b[0;34m,\u001b[0m \u001b[0;34m**\u001b[0m\u001b[0mkwargs\u001b[0m\u001b[0;34m)\u001b[0m\u001b[0;34m\u001b[0m\u001b[0;34m\u001b[0m\u001b[0m\n\u001b[0m\u001b[1;32m     39\u001b[0m \u001b[0;34m\u001b[0m\u001b[0m\n\u001b[1;32m     40\u001b[0m     \u001b[0;34m@\u001b[0m\u001b[0mproperty\u001b[0m\u001b[0;34m\u001b[0m\u001b[0;34m\u001b[0m\u001b[0m\n",
      "\u001b[0;32m~/GIT/batchflow/batchflow/models/tf/base.py\u001b[0m in \u001b[0;36mbuild\u001b[0;34m(self, *args, **kwargs)\u001b[0m\n\u001b[1;32m    339\u001b[0m                             \u001b[0mconfig\u001b[0m \u001b[0;34m=\u001b[0m \u001b[0mself\u001b[0m\u001b[0;34m.\u001b[0m\u001b[0mbuild_config\u001b[0m\u001b[0;34m(\u001b[0m\u001b[0;34m)\u001b[0m\u001b[0;34m\u001b[0m\u001b[0;34m\u001b[0m\u001b[0m\n\u001b[1;32m    340\u001b[0m                             \u001b[0mself\u001b[0m\u001b[0;34m.\u001b[0m\u001b[0m_full_config\u001b[0m \u001b[0;34m=\u001b[0m \u001b[0mconfig\u001b[0m\u001b[0;34m\u001b[0m\u001b[0;34m\u001b[0m\u001b[0m\n\u001b[0;32m--> 341\u001b[0;31m                             \u001b[0mself\u001b[0m\u001b[0;34m.\u001b[0m\u001b[0m_build\u001b[0m\u001b[0;34m(\u001b[0m\u001b[0mconfig\u001b[0m\u001b[0;34m)\u001b[0m\u001b[0;34m\u001b[0m\u001b[0;34m\u001b[0m\u001b[0m\n\u001b[0m\u001b[1;32m    342\u001b[0m \u001b[0;34m\u001b[0m\u001b[0m\n\u001b[1;32m    343\u001b[0m                 \u001b[0mself\u001b[0m\u001b[0;34m.\u001b[0m\u001b[0mmicrobatch\u001b[0m \u001b[0;34m=\u001b[0m \u001b[0mconfig\u001b[0m\u001b[0;34m.\u001b[0m\u001b[0mget\u001b[0m\u001b[0;34m(\u001b[0m\u001b[0;34m'microbatch'\u001b[0m\u001b[0;34m)\u001b[0m\u001b[0;34m\u001b[0m\u001b[0;34m\u001b[0m\u001b[0m\n",
      "\u001b[0;32m~/GIT/batchflow/batchflow/models/tf/deep_galerkin.py\u001b[0m in \u001b[0;36m_build\u001b[0;34m(self, config)\u001b[0m\n\u001b[1;32m    279\u001b[0m         \u001b[0moutput\u001b[0m \u001b[0;34m=\u001b[0m \u001b[0mself\u001b[0m\u001b[0;34m.\u001b[0m\u001b[0m_add_block\u001b[0m\u001b[0;34m(\u001b[0m\u001b[0;34m'ansatz'\u001b[0m\u001b[0;34m,\u001b[0m \u001b[0mconfig\u001b[0m\u001b[0;34m,\u001b[0m \u001b[0minputs\u001b[0m\u001b[0;34m=\u001b[0m\u001b[0mx\u001b[0m\u001b[0;34m)\u001b[0m\u001b[0;34m\u001b[0m\u001b[0;34m\u001b[0m\u001b[0m\n\u001b[1;32m    280\u001b[0m         \u001b[0mself\u001b[0m\u001b[0;34m.\u001b[0m\u001b[0mstore_to_attr\u001b[0m\u001b[0;34m(\u001b[0m\u001b[0;34m'solution'\u001b[0m\u001b[0;34m,\u001b[0m \u001b[0moutput\u001b[0m\u001b[0;34m)\u001b[0m\u001b[0;34m\u001b[0m\u001b[0;34m\u001b[0m\u001b[0m\n\u001b[0;32m--> 281\u001b[0;31m         \u001b[0mself\u001b[0m\u001b[0;34m.\u001b[0m\u001b[0moutput\u001b[0m\u001b[0;34m(\u001b[0m\u001b[0moutput\u001b[0m\u001b[0;34m,\u001b[0m \u001b[0mpredictions\u001b[0m\u001b[0;34m=\u001b[0m\u001b[0mconfig\u001b[0m\u001b[0;34m[\u001b[0m\u001b[0;34m'predictions'\u001b[0m\u001b[0;34m]\u001b[0m\u001b[0;34m,\u001b[0m \u001b[0mops\u001b[0m\u001b[0;34m=\u001b[0m\u001b[0mconfig\u001b[0m\u001b[0;34m[\u001b[0m\u001b[0;34m'output'\u001b[0m\u001b[0;34m]\u001b[0m\u001b[0;34m,\u001b[0m \u001b[0;34m**\u001b[0m\u001b[0mconfig\u001b[0m\u001b[0;34m[\u001b[0m\u001b[0;34m'common'\u001b[0m\u001b[0;34m]\u001b[0m\u001b[0;34m)\u001b[0m\u001b[0;34m\u001b[0m\u001b[0;34m\u001b[0m\u001b[0m\n\u001b[0m\u001b[1;32m    282\u001b[0m \u001b[0;34m\u001b[0m\u001b[0m\n\u001b[1;32m    283\u001b[0m     \u001b[0;34m@\u001b[0m\u001b[0mclassmethod\u001b[0m\u001b[0;34m\u001b[0m\u001b[0;34m\u001b[0m\u001b[0m\n",
      "\u001b[0;32m~/GIT/batchflow/batchflow/models/tf/base.py\u001b[0m in \u001b[0;36moutput\u001b[0;34m(self, inputs, predictions, ops, prefix, **kwargs)\u001b[0m\n\u001b[1;32m   1541\u001b[0m             \u001b[0mself\u001b[0m\u001b[0;34m.\u001b[0m\u001b[0m_add_output_op\u001b[0m\u001b[0;34m(\u001b[0m\u001b[0mtensor\u001b[0m\u001b[0;34m,\u001b[0m \u001b[0mpredictions\u001b[0m\u001b[0;34m,\u001b[0m \u001b[0;34m'predictions'\u001b[0m\u001b[0;34m,\u001b[0m \u001b[0;34m''\u001b[0m\u001b[0;34m,\u001b[0m \u001b[0;34m**\u001b[0m\u001b[0mkwargs\u001b[0m\u001b[0;34m)\u001b[0m\u001b[0;34m\u001b[0m\u001b[0;34m\u001b[0m\u001b[0m\n\u001b[1;32m   1542\u001b[0m             \u001b[0;32mfor\u001b[0m \u001b[0moper\u001b[0m \u001b[0;32min\u001b[0m \u001b[0mops\u001b[0m\u001b[0;34m[\u001b[0m\u001b[0mprefix\u001b[0m\u001b[0;34m]\u001b[0m\u001b[0;34m:\u001b[0m\u001b[0;34m\u001b[0m\u001b[0;34m\u001b[0m\u001b[0m\n\u001b[0;32m-> 1543\u001b[0;31m                 \u001b[0mself\u001b[0m\u001b[0;34m.\u001b[0m\u001b[0m_add_output_op\u001b[0m\u001b[0;34m(\u001b[0m\u001b[0mtensor\u001b[0m\u001b[0;34m,\u001b[0m \u001b[0moper\u001b[0m\u001b[0;34m,\u001b[0m \u001b[0moper\u001b[0m\u001b[0;34m,\u001b[0m \u001b[0mattr_prefix\u001b[0m\u001b[0;34m,\u001b[0m \u001b[0;34m**\u001b[0m\u001b[0mkwargs\u001b[0m\u001b[0;34m)\u001b[0m\u001b[0;34m\u001b[0m\u001b[0;34m\u001b[0m\u001b[0m\n\u001b[0m\u001b[1;32m   1544\u001b[0m \u001b[0;34m\u001b[0m\u001b[0m\n\u001b[1;32m   1545\u001b[0m             \u001b[0;32mif\u001b[0m \u001b[0mctx\u001b[0m\u001b[0;34m:\u001b[0m\u001b[0;34m\u001b[0m\u001b[0;34m\u001b[0m\u001b[0m\n",
      "\u001b[0;32m~/GIT/batchflow/batchflow/models/tf/base.py\u001b[0m in \u001b[0;36m_add_output_op\u001b[0;34m(self, inputs, oper, name, attr_prefix, **kwargs)\u001b[0m\n\u001b[1;32m   1559\u001b[0m             \u001b[0mself\u001b[0m\u001b[0;34m.\u001b[0m\u001b[0m_add_output_labels\u001b[0m\u001b[0;34m(\u001b[0m\u001b[0minputs\u001b[0m\u001b[0;34m,\u001b[0m \u001b[0mname\u001b[0m\u001b[0;34m,\u001b[0m \u001b[0mattr_prefix\u001b[0m\u001b[0;34m,\u001b[0m \u001b[0mdevice\u001b[0m\u001b[0;34m,\u001b[0m \u001b[0;34m**\u001b[0m\u001b[0mkwargs\u001b[0m\u001b[0;34m)\u001b[0m\u001b[0;34m\u001b[0m\u001b[0;34m\u001b[0m\u001b[0m\n\u001b[1;32m   1560\u001b[0m         \u001b[0;32melif\u001b[0m \u001b[0mcallable\u001b[0m\u001b[0;34m(\u001b[0m\u001b[0moper\u001b[0m\u001b[0;34m)\u001b[0m\u001b[0;34m:\u001b[0m\u001b[0;34m\u001b[0m\u001b[0;34m\u001b[0m\u001b[0m\n\u001b[0;32m-> 1561\u001b[0;31m             \u001b[0mself\u001b[0m\u001b[0;34m.\u001b[0m\u001b[0m_add_output_callable\u001b[0m\u001b[0;34m(\u001b[0m\u001b[0minputs\u001b[0m\u001b[0;34m,\u001b[0m \u001b[0moper\u001b[0m\u001b[0;34m,\u001b[0m \u001b[0;32mNone\u001b[0m\u001b[0;34m,\u001b[0m \u001b[0mattr_prefix\u001b[0m\u001b[0;34m,\u001b[0m \u001b[0mdevice\u001b[0m\u001b[0;34m,\u001b[0m \u001b[0;34m**\u001b[0m\u001b[0mkwargs\u001b[0m\u001b[0;34m)\u001b[0m\u001b[0;34m\u001b[0m\u001b[0;34m\u001b[0m\u001b[0m\n\u001b[0m\u001b[1;32m   1562\u001b[0m \u001b[0;34m\u001b[0m\u001b[0m\n\u001b[1;32m   1563\u001b[0m     \u001b[0;32mdef\u001b[0m \u001b[0m_add_output_identity\u001b[0m\u001b[0;34m(\u001b[0m\u001b[0mself\u001b[0m\u001b[0;34m,\u001b[0m \u001b[0minputs\u001b[0m\u001b[0;34m,\u001b[0m \u001b[0mname\u001b[0m\u001b[0;34m,\u001b[0m \u001b[0mattr_prefix\u001b[0m\u001b[0;34m,\u001b[0m \u001b[0mdevice\u001b[0m\u001b[0;34m,\u001b[0m \u001b[0;34m**\u001b[0m\u001b[0mkwargs\u001b[0m\u001b[0;34m)\u001b[0m\u001b[0;34m:\u001b[0m\u001b[0;34m\u001b[0m\u001b[0;34m\u001b[0m\u001b[0m\n",
      "\u001b[0;32m~/GIT/batchflow/batchflow/models/tf/base.py\u001b[0m in \u001b[0;36m_add_output_callable\u001b[0;34m(self, inputs, oper, name, attr_prefix, device, **kwargs)\u001b[0m\n\u001b[1;32m   1591\u001b[0m         \u001b[0mx\u001b[0m \u001b[0;34m=\u001b[0m \u001b[0moper\u001b[0m\u001b[0;34m(\u001b[0m\u001b[0minputs\u001b[0m\u001b[0;34m)\u001b[0m\u001b[0;34m\u001b[0m\u001b[0;34m\u001b[0m\u001b[0m\n\u001b[1;32m   1592\u001b[0m         \u001b[0mname\u001b[0m \u001b[0;34m=\u001b[0m \u001b[0mname\u001b[0m \u001b[0;32mor\u001b[0m \u001b[0moper\u001b[0m\u001b[0;34m.\u001b[0m\u001b[0m__name__\u001b[0m\u001b[0;34m\u001b[0m\u001b[0;34m\u001b[0m\u001b[0m\n\u001b[0;32m-> 1593\u001b[0;31m         \u001b[0mself\u001b[0m\u001b[0;34m.\u001b[0m\u001b[0mstore_to_attr\u001b[0m\u001b[0;34m(\u001b[0m\u001b[0mattr_prefix\u001b[0m \u001b[0;34m+\u001b[0m \u001b[0mname\u001b[0m\u001b[0;34m,\u001b[0m \u001b[0mx\u001b[0m\u001b[0;34m,\u001b[0m \u001b[0mdevice\u001b[0m\u001b[0;34m)\u001b[0m\u001b[0;34m\u001b[0m\u001b[0;34m\u001b[0m\u001b[0m\n\u001b[0m\u001b[1;32m   1594\u001b[0m         \u001b[0;32mreturn\u001b[0m \u001b[0mx\u001b[0m\u001b[0;34m\u001b[0m\u001b[0;34m\u001b[0m\u001b[0m\n\u001b[1;32m   1595\u001b[0m \u001b[0;34m\u001b[0m\u001b[0m\n",
      "\u001b[0;32m~/GIT/batchflow/batchflow/models/tf/base.py\u001b[0m in \u001b[0;36mstore_to_attr\u001b[0;34m(self, attr, graph_item, device)\u001b[0m\n\u001b[1;32m    278\u001b[0m                 \u001b[0mself\u001b[0m\u001b[0;34m.\u001b[0m\u001b[0m_attrs\u001b[0m\u001b[0;34m[\u001b[0m\u001b[0mattr\u001b[0m\u001b[0;34m]\u001b[0m \u001b[0;34m=\u001b[0m \u001b[0;34m{\u001b[0m\u001b[0mdevice\u001b[0m\u001b[0;34m:\u001b[0m \u001b[0mgraph_item\u001b[0m\u001b[0;34m}\u001b[0m\u001b[0;34m\u001b[0m\u001b[0;34m\u001b[0m\u001b[0m\n\u001b[1;32m    279\u001b[0m             \u001b[0;32melse\u001b[0m\u001b[0;34m:\u001b[0m\u001b[0;34m\u001b[0m\u001b[0;34m\u001b[0m\u001b[0m\n\u001b[0;32m--> 280\u001b[0;31m                 \u001b[0mself\u001b[0m\u001b[0;34m.\u001b[0m\u001b[0m_attrs\u001b[0m\u001b[0;34m[\u001b[0m\u001b[0mattr\u001b[0m\u001b[0;34m]\u001b[0m\u001b[0;34m.\u001b[0m\u001b[0mupdate\u001b[0m\u001b[0;34m(\u001b[0m\u001b[0;34m{\u001b[0m\u001b[0mdevice\u001b[0m\u001b[0;34m:\u001b[0m \u001b[0mgraph_item\u001b[0m\u001b[0;34m}\u001b[0m\u001b[0;34m)\u001b[0m\u001b[0;34m\u001b[0m\u001b[0;34m\u001b[0m\u001b[0m\n\u001b[0m\u001b[1;32m    281\u001b[0m \u001b[0;34m\u001b[0m\u001b[0m\n\u001b[1;32m    282\u001b[0m     \u001b[0;32mdef\u001b[0m \u001b[0mget_from_attr\u001b[0m\u001b[0;34m(\u001b[0m\u001b[0mself\u001b[0m\u001b[0;34m,\u001b[0m \u001b[0mattr\u001b[0m\u001b[0;34m,\u001b[0m \u001b[0mdevice\u001b[0m\u001b[0;34m=\u001b[0m\u001b[0;32mNone\u001b[0m\u001b[0;34m,\u001b[0m \u001b[0mdefault\u001b[0m\u001b[0;34m=\u001b[0m\u001b[0;32mNone\u001b[0m\u001b[0;34m)\u001b[0m\u001b[0;34m:\u001b[0m\u001b[0;34m\u001b[0m\u001b[0;34m\u001b[0m\u001b[0m\n",
      "\u001b[0;31mAttributeError\u001b[0m: 'function' object has no attribute 'update'"
     ]
    }
   ],
   "source": [
    "# train the network on batches of 100 points\n",
    "dg = DGSolver(config)\n",
    "# dg.fit(batch_size=100, sampler=s, n_iters=1500, bar='notebook')\n",
    "\n",
    "iters = [10, 5, 5] * 1\n",
    "\n",
    "for _ in tqdm_notebook(range(2000)):\n",
    "    _ = dg.fit(batch_size=100, sampler=s, n_iters=iters[0], fetches='loss_rest', train_mode='rest')\n",
    "    \n",
    "    _ = dg.fit(batch_size=100, sampler=s_cond_1, n_iters=iters[1], fetches='loss_cond_1', train_mode='cond_1')\n",
    "\n",
    "    _ = dg.fit(batch_size=100, sampler=s, n_iters=iters[2], fetches='loss_adds', train_mode='adds')\n",
    "#     _ = dg.fit(batch_size=100, sampler=s_cond_1, n_iters=iters[2], fetches='loss_adds', train_mode='adds')"
   ]
  },
  {
   "cell_type": "code",
   "execution_count": 253,
   "metadata": {
    "ExecuteTime": {
     "end_time": "2019-07-10T11:07:59.667877Z",
     "start_time": "2019-07-10T11:07:59.532172Z"
    }
   },
   "outputs": [
    {
     "data": {
      "image/png": "[encoded data removed]",
      "text/plain": [
       "<Figure size 432x288 with 1 Axes>"
      ]
     },
     "metadata": {
      "needs_background": "light"
     },
     "output_type": "display_data"
    }
   ],
   "source": [
    "# plot loss\n",
    "plt.plot(dg.loss_cond_1[:])\n",
    "plt.xlabel('iteration number', fontdict={'fontsize': 15})\n",
    "plt.ylabel('Loss',fontdict={'fontsize': 15})\n",
    "plt.show()"
   ]
  },
  {
   "cell_type": "code",
   "execution_count": 254,
   "metadata": {
    "ExecuteTime": {
     "end_time": "2019-07-10T11:08:05.760916Z",
     "start_time": "2019-07-10T11:08:05.442332Z"
    }
   },
   "outputs": [
    {
     "data": {
      "image/png": "[encoded data removed]",
      "text/plain": [
       "<Figure size 432x288 with 1 Axes>"
      ]
     },
     "metadata": {
      "needs_background": "light"
     },
     "output_type": "display_data"
    }
   ],
   "source": [
    "# plot real solution and network approximation\n",
    "pts = np.linspace(0, 1, 200).reshape(-1, 1)\n",
    "\n",
    "sol = lambda t: np.sin(K*t)*np.exp(t) + 0\n",
    "true = [sol(t[0]) for t in pts]\n",
    "plt.plot(pts, true, 'b', linewidth=2, label='True solution')\n",
    "\n",
    "shifted = [sol(t[0])+2 for t in pts]\n",
    "plt.plot(pts, shifted, 'g', linewidth=2, label='True solution shifted 2')\n",
    "\n",
    "approxs = dg.solve(pts)\n",
    "plt.plot(pts, approxs, 'r', label='Network approximation')\n",
    "\n",
    "plt.xlabel(r'$t$', fontdict={'fontsize': 14})\n",
    "plt.legend()\n",
    "plt.grid(True)\n",
    "plt.show()"
   ]
  },
  {
   "cell_type": "code",
   "execution_count": null,
   "metadata": {
    "ExecuteTime": {
     "end_time": "2019-07-10T08:50:44.791462Z",
     "start_time": "2019-07-10T08:50:44.758045Z"
    }
   },
   "outputs": [],
   "source": [
    "dg.model.get_from_attr('expr')"
   ]
  },
  {
   "cell_type": "code",
   "execution_count": 250,
   "metadata": {
    "ExecuteTime": {
     "end_time": "2019-07-10T11:07:05.859824Z",
     "start_time": "2019-07-10T11:07:05.801429Z"
    }
   },
   "outputs": [
    {
     "data": {
      "text/plain": [
       "0.010395712"
      ]
     },
     "execution_count": 250,
     "metadata": {},
     "output_type": "execute_result"
    }
   ],
   "source": [
    "dg.solve(pts, fetches='fun')"
   ]
  },
  {
   "cell_type": "code",
   "execution_count": 82,
   "metadata": {
    "ExecuteTime": {
     "end_time": "2019-07-10T09:41:23.810907Z",
     "start_time": "2019-07-10T09:41:23.536985Z"
    }
   },
   "outputs": [
    {
     "data": {
      "image/png": "[encoded data removed]",
      "text/plain": [
       "<Figure size 432x288 with 1 Axes>"
      ]
     },
     "metadata": {
      "needs_background": "light"
     },
     "output_type": "display_data"
    }
   ],
   "source": [
    "# plot real solution and network approximation\n",
    "pts = np.linspace(0, 1, 200).reshape(-1, 1)\n",
    "\n",
    "approxs = dg.solve(pts, fetches='der')\n",
    "plt.plot(pts, approxs, 'r', label='Adjustable coefficient')\n",
    "\n",
    "plt.xlabel(r'$t$', fontdict={'fontsize': 14})\n",
    "plt.legend()\n",
    "plt.grid(True)\n",
    "plt.show()"
   ]
  },
  {
   "cell_type": "code",
   "execution_count": 86,
   "metadata": {
    "ExecuteTime": {
     "end_time": "2019-07-10T09:53:29.352857Z",
     "start_time": "2019-07-10T09:53:29.300837Z"
    }
   },
   "outputs": [
    {
     "data": {
      "text/plain": [
       "[<tf.Variable 'DeepGalerkin/device_CPU_0/addendums/der/layer-0/dense/kernel:0' shape=(1, 15) dtype=float32_ref>,\n",
       " <tf.Variable 'DeepGalerkin/device_CPU_0/addendums/der/layer-0/dense/bias:0' shape=(15,) dtype=float32_ref>,\n",
       " <tf.Variable 'DeepGalerkin/device_CPU_0/addendums/der/layer-3/dense/kernel:0' shape=(15, 15) dtype=float32_ref>,\n",
       " <tf.Variable 'DeepGalerkin/device_CPU_0/addendums/der/layer-3/dense/bias:0' shape=(15,) dtype=float32_ref>,\n",
       " <tf.Variable 'DeepGalerkin/device_CPU_0/addendums/der/layer-5/dense/kernel:0' shape=(15, 15) dtype=float32_ref>,\n",
       " <tf.Variable 'DeepGalerkin/device_CPU_0/addendums/der/layer-5/dense/bias:0' shape=(15,) dtype=float32_ref>,\n",
       " <tf.Variable 'DeepGalerkin/device_CPU_0/addendums/der/layer-8/dense/kernel:0' shape=(30, 15) dtype=float32_ref>,\n",
       " <tf.Variable 'DeepGalerkin/device_CPU_0/addendums/der/layer-8/dense/bias:0' shape=(15,) dtype=float32_ref>,\n",
       " <tf.Variable 'DeepGalerkin/device_CPU_0/addendums/der/layer-10/dense/kernel:0' shape=(15, 1) dtype=float32_ref>,\n",
       " <tf.Variable 'DeepGalerkin/device_CPU_0/addendums/der/layer-10/dense/bias:0' shape=(1,) dtype=float32_ref>,\n",
       " <tf.Variable 'DeepGalerkin/device_CPU_0/addendums/fun:0' shape=() dtype=float32_ref>]"
      ]
     },
     "execution_count": 86,
     "metadata": {},
     "output_type": "execute_result"
    }
   ],
   "source": [
    "with dg.model.graph.as_default():\n",
    "    collection = dg.model._make_scope({'scope': 'addendums'}, '/device:CPU:0')\n",
    "collection"
   ]
  },
  {
   "cell_type": "code",
   "execution_count": null,
   "metadata": {},
   "outputs": [],
   "source": []
  },
  {
   "cell_type": "code",
   "execution_count": 130,
   "metadata": {
    "ExecuteTime": {
     "end_time": "2019-07-10T10:12:15.481910Z",
     "start_time": "2019-07-10T10:12:08.398676Z"
    }
   },
   "outputs": [
    {
     "name": "stdout",
     "output_type": "stream",
     "text": [
      "CREATED NEW\n"
     ]
    },
    {
     "data": {
      "application/vnd.jupyter.widget-view+json": {
       "model_id": "bab982aa2e504efaa24a96952e2f1c9f",
       "version_major": 2,
       "version_minor": 0
      },
      "text/plain": [
       "HBox(children=(IntProgress(value=0, max=5000), HTML(value='')))"
      ]
     },
     "metadata": {},
     "output_type": "display_data"
    },
    {
     "name": "stdout",
     "output_type": "stream",
     "text": [
      "\n"
     ]
    },
    {
     "data": {
      "application/vnd.jupyter.widget-view+json": {
       "model_id": "a3a2ca10af734656b5bb9cd15f4159df",
       "version_major": 2,
       "version_minor": 0
      },
      "text/plain": [
       "HBox(children=(IntProgress(value=0, max=3000), HTML(value='')))"
      ]
     },
     "metadata": {},
     "output_type": "display_data"
    },
    {
     "name": "stdout",
     "output_type": "stream",
     "text": [
      "\n"
     ]
    }
   ],
   "source": [
    "# train the network on batches of 100 points\n",
    "dg = DGSolver(config)\n",
    "\n",
    "_ = dg.fit(batch_size=100, sampler=s, n_iters=5000, fetches='loss_rest', train_mode='rest', bar='notebook')\n",
    "\n",
    "_ = dg.fit(batch_size=1000, sampler=s_cond_1, n_iters=3000, fetches='loss_adds', train_mode='adds', bar='notebook')\n"
   ]
  }
 ],
 "metadata": {
  "kernelspec": {
   "display_name": "Python 3",
   "language": "python",
   "name": "python3"
  },
  "language_info": {
   "codemirror_mode": {
    "name": "ipython",
    "version": 3
   },
   "file_extension": ".py",
   "mimetype": "text/x-python",
   "name": "python",
   "nbconvert_exporter": "python",
   "pygments_lexer": "ipython3",
   "version": "3.7.1"
  },
  "latex_envs": {
   "LaTeX_envs_menu_present": true,
   "autoclose": false,
   "autocomplete": true,
   "bibliofile": "biblio.bib",
   "cite_by": "apalike",
   "current_citInitial": 1,
   "eqLabelWithNumbers": true,
   "eqNumInitial": 1,
   "hotkeys": {
    "equation": "Ctrl-E",
    "itemize": "Ctrl-I"
   },
   "labels_anchors": false,
   "latex_user_defs": false,
   "report_style_numbering": false,
   "user_envs_cfg": false
  },
  "varInspector": {
   "cols": {
    "lenName": 16,
    "lenType": 16,
    "lenVar": 40
   },
   "kernels_config": {
    "python": {
     "delete_cmd_postfix": "",
     "delete_cmd_prefix": "del ",
     "library": "var_list.py",
     "varRefreshCmd": "print(var_dic_list())"
    },
    "r": {
     "delete_cmd_postfix": ") ",
     "delete_cmd_prefix": "rm(",
     "library": "var_list.r",
     "varRefreshCmd": "cat(var_dic_list()) "
    }
   },
   "types_to_exclude": [
    "module",
    "function",
    "builtin_function_or_method",
    "instance",
    "_Feature"
   ],
   "window_display": false
  }
 },
 "nbformat": 4,
 "nbformat_minor": 2
}
