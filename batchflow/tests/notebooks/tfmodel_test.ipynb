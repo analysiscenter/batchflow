{
 "cells": [
  {
   "cell_type": "code",
   "execution_count": null,
   "metadata": {
    "ExecuteTime": {
     "end_time": "2019-08-19T09:50:07.420782Z",
     "start_time": "2019-08-19T09:50:00.419642Z"
    }
   },
   "outputs": [],
   "source": [
    "%load_ext autoreload\n",
    "%autoreload 2\n",
    "import os\n",
    "import sys\n",
    "import warnings\n",
    "\n",
    "import numpy as np\n",
    "import matplotlib.pyplot as plt\n",
    "import tensorflow.compat.v1 as tf\n",
    "\n",
    "sys.path.append(\"../../..\")\n",
    "from batchflow import *\n",
    "from batchflow.opensets import MNIST\n",
    "from batchflow.models.tf import *\n",
    "\n",
    "tf.logging.set_verbosity(tf.logging.ERROR)\n",
    "warnings.filterwarnings(\"ignore\")\n",
    "os.environ['TF_CPP_MIN_LOG_LEVEL'] = '3'"
   ]
  },
  {
   "cell_type": "markdown",
   "metadata": {},
   "source": [
    "# Setup"
   ]
  },
  {
   "cell_type": "code",
   "execution_count": null,
   "metadata": {
    "ExecuteTime": {
     "end_time": "2019-08-19T09:50:08.741769Z",
     "start_time": "2019-08-19T09:50:07.423134Z"
    }
   },
   "outputs": [],
   "source": [
    "mnist = MNIST(batch_class=ImagesBatch)\n",
    "\n",
    "if __name__ == '__main__':\n",
    "    MICROBATCH = None\n",
    "    DEVICE = None\n",
    "\n",
    "print('\\nMicrobatching is: {}'.format(MICROBATCH))\n",
    "print('\\nDevice is: {}'.format(DEVICE))    "
   ]
  },
  {
   "cell_type": "code",
   "execution_count": null,
   "metadata": {
    "ExecuteTime": {
     "end_time": "2019-08-19T09:50:08.791975Z",
     "start_time": "2019-08-19T09:50:08.744078Z"
    }
   },
   "outputs": [],
   "source": [
    "def get_classification_config(model_class, config):\n",
    "    default_config = {\n",
    "        'inputs/images/shape': (28, 28, 1),\n",
    "        'inputs/labels/classes': 10,\n",
    "        'initial_block/inputs': 'images',\n",
    "        'loss': 'ce',\n",
    "        'microbatch': MICROBATCH,\n",
    "        'device': DEVICE,\n",
    "    }\n",
    "\n",
    "    pipeline_config = {\n",
    "        'model': model_class,\n",
    "        'model_config': {**default_config, **config},\n",
    "        'feed_dict': {'images': B('images'),\n",
    "                      'labels': B('labels')},\n",
    "    }\n",
    "    return pipeline_config\n",
    "\n",
    "def get_segmentation_config(model_class, config):\n",
    "    default_config = {\n",
    "        'inputs/images/shape': (28, 28, 1),\n",
    "        'inputs/masks/shape': (28, 28, 1),\n",
    "        'initial_block/inputs': 'images',\n",
    "        'body/decoder/blocks/combine_op': 'softsum', # for some reason `concat` is not working from within pytest \n",
    "        'loss': 'mse',\n",
    "        'microbatch': MICROBATCH,\n",
    "        'device': DEVICE,\n",
    "    }\n",
    "    \n",
    "    pipeline_config = {\n",
    "        'model': model_class,\n",
    "        'model_config': {**default_config, **config},\n",
    "        'feed_dict': {'images': B('images'),\n",
    "                      'masks': B('images')},\n",
    "    }\n",
    "    return pipeline_config"
   ]
  },
  {
   "cell_type": "code",
   "execution_count": null,
   "metadata": {
    "ExecuteTime": {
     "end_time": "2019-08-19T09:50:08.839789Z",
     "start_time": "2019-08-19T09:50:08.798160Z"
    }
   },
   "outputs": [],
   "source": [
    "def get_pipeline(pipeline_config):\n",
    "    \"\"\" Pipeline config must contain 'model', 'model_config', 'feed_dict' keys. \"\"\"\n",
    "    pipeline = (Pipeline(config=pipeline_config)\n",
    "                .init_variable('loss_history', [])\n",
    "                .multiply(multiplier=1/255., preserve_type=False)\n",
    "                .to_array()\n",
    "                .init_model('dynamic', C('model'),\n",
    "                            'MODEL', config=C('model_config'))\n",
    "                .train_model('MODEL', fetches='loss',\n",
    "                             feed_dict=C('feed_dict'),\n",
    "                             save_to=V('loss_history', mode='a'))\n",
    "                )\n",
    "    return pipeline"
   ]
  },
  {
   "cell_type": "code",
   "execution_count": null,
   "metadata": {
    "ExecuteTime": {
     "end_time": "2019-08-19T09:50:08.871723Z",
     "start_time": "2019-08-19T09:50:08.842370Z"
    }
   },
   "outputs": [],
   "source": [
    "def run(task, model_class, config, description, batch_size=16, n_iters=10):\n",
    "    if task.startswith('c'):\n",
    "        pipeline_config = get_classification_config(model_class, config)\n",
    "    elif task.startswith('s'):\n",
    "        pipeline_config = get_segmentation_config(model_class, config)\n",
    "        \n",
    "    train_pipeline = get_pipeline(pipeline_config) << mnist.train\n",
    "    _ = train_pipeline.run(batch_size, n_iters=n_iters, bar=True,\n",
    "                           bar_desc=W(V('loss_history')[-1].format('Loss is {:7.7}')))\n",
    "    \n",
    "    print('{} {} is done'.format(task, description))\n",
    "    return train_pipeline"
   ]
  },
  {
   "cell_type": "markdown",
   "metadata": {},
   "source": [
    "# Classification"
   ]
  },
  {
   "cell_type": "code",
   "execution_count": null,
   "metadata": {
    "ExecuteTime": {
     "end_time": "2020-02-04T09:12:20.455897Z",
     "start_time": "2020-02-04T09:12:19.224361Z"
    }
   },
   "outputs": [],
   "source": [
    "config = {\n",
    "    'initial_block': {'layout': 'S>>r' + 'fa'*2,\n",
    "                      'units': [64, 128],\n",
    "                      'attention_mode': 'scse',\n",
    "                      'reshape_to': (28, 14, 2)},\n",
    "    'body': {'layout': 'fa'*2,\n",
    "             'units': [256, 512]},\n",
    "    'head': {'layout': 'faf',\n",
    "             'units': [600,10]},\n",
    "}\n",
    "\n",
    "ppl = run('classification', TFModel, config, 'simple fc')"
   ]
  },
  {
   "cell_type": "code",
   "execution_count": null,
   "metadata": {
    "ExecuteTime": {
     "end_time": "2020-02-03T07:40:59.308835Z",
     "start_time": "2020-02-03T07:40:44.695229Z"
    }
   },
   "outputs": [],
   "source": [
    "config = {\n",
    "    'body/block/se_block': {'ratio':8},\n",
    "    'head/layout': 'f'\n",
    "}\n",
    "\n",
    "ppl = run('classification', ResNet18, config, 'ResNet18')"
   ]
  },
  {
   "cell_type": "code",
   "execution_count": null,
   "metadata": {
    "ExecuteTime": {
     "end_time": "2020-02-03T07:06:11.018342Z",
     "start_time": "2020-02-03T07:05:52.039725Z"
    }
   },
   "outputs": [],
   "source": [
    "config = {\n",
    "    'head/layout': 'f'\n",
    "}\n",
    "\n",
    "ppl = run('classification', XceptionS, config, 'Xception')"
   ]
  },
  {
   "cell_type": "code",
   "execution_count": null,
   "metadata": {},
   "outputs": [],
   "source": [
    "ppl = run('classification', MobileNet_v3_small, {}, 'MobileNet_v3_small')"
   ]
  },
  {
   "cell_type": "markdown",
   "metadata": {},
   "source": [
    "# Segmentation"
   ]
  },
  {
   "cell_type": "code",
   "execution_count": null,
   "metadata": {
    "ExecuteTime": {
     "end_time": "2020-02-04T09:12:51.059150Z",
     "start_time": "2020-02-04T09:12:20.791711Z"
    }
   },
   "outputs": [],
   "source": [
    "config = {\n",
    "    'initial_block/filters': 4,\n",
    "    'body/encoder': {'num_stages': 3},\n",
    "    'body/decoder/blocks/combine_op': 'attention',\n",
    "}\n",
    "\n",
    "ppl = run('segmentation', UNet, config, 'unet')"
   ]
  },
  {
   "cell_type": "code",
   "execution_count": null,
   "metadata": {
    "ExecuteTime": {
     "end_time": "2020-02-03T07:37:10.920096Z",
     "start_time": "2020-02-03T07:36:57.661643Z"
    }
   },
   "outputs": [],
   "source": [
    "config = {\n",
    "    'initial_block': {'layout': 'cna', 'filters': 2},\n",
    "    'body/encoder': {'base': ResNet18,\n",
    "                     'filters':[4]*4,\n",
    "                     'downsample': [[]] + [[0]]*4},\n",
    "    'body/embedding': [{'layout': 'cna', 'filters': 16}]*4,\n",
    "}\n",
    "\n",
    "ppl = run('segmentation', EncoderDecoder, config, 'encoder-decoder with ResNet18 backbone')"
   ]
  },
  {
   "cell_type": "code",
   "execution_count": null,
   "metadata": {
    "ExecuteTime": {
     "end_time": "2020-02-03T07:38:10.811772Z",
     "start_time": "2020-02-03T07:37:10.921740Z"
    }
   },
   "outputs": [],
   "source": [
    "config = {\n",
    "    'initial_block': {'layout': 'cna', 'filters': 4},\n",
    "    'body/encoder': {'base': ResNet,\n",
    "                     'num_blocks': [2, 2, 2, 2, 2],\n",
    "                     'filters': [2, 4, 8, 16, 32],\n",
    "                     'downsample': [[]] + [[0]]*4},\n",
    "    'body/embedding': {'filters': 32},\n",
    "    'body/decoder': {'num_stages': 5,\n",
    "                     'factor': 32,\n",
    "                     'skip': True,\n",
    "                     'upsample': {'layout': 'X'},\n",
    "                     'blocks': {'base': DenseNet.block,\n",
    "                                'num_layers': [2, 2, 2, 2, 2],\n",
    "                                'growth_rate': 2,\n",
    "                                'skip': False}},\n",
    "}\n",
    "\n",
    "ppl = run('segmentation', EncoderDecoder, config, 'encoder-decoder with ResNet, DenseNet blocks')\n",
    "\n",
    "config['body/encoder/block/resnext'] = True \n",
    "ppl = run('segmentation', EncoderDecoder, config, 'encoder-decoder with ResNeXt, DenseNet blocks')"
   ]
  },
  {
   "cell_type": "code",
   "execution_count": null,
   "metadata": {
    "ExecuteTime": {
     "end_time": "2020-02-05T12:42:13.259519Z",
     "start_time": "2020-02-05T12:41:47.454064Z"
    }
   },
   "outputs": [],
   "source": [
    "ppl = run('segmentation', DeepLabXS, {}, 'DeepLab XS')"
   ]
  },
  {
   "cell_type": "code",
   "execution_count": null,
   "metadata": {
    "ExecuteTime": {
     "end_time": "2020-02-05T13:21:49.768970Z",
     "start_time": "2020-02-05T13:21:39.807243Z"
    }
   },
   "outputs": [],
   "source": [
    "config = {\n",
    "    'initial_block': {'layout': 'cna', 'filters': 4},\n",
    "    'body/encoder/num_stages': 3,\n",
    "    'body/encoder/blocks': {'base': ResNet.block,\n",
    "                            'filters': [8, 8, 8],},\n",
    "    'body/embedding/filters': 32,\n",
    "    'body/decoder': {\n",
    "                     'skip': True,\n",
    "                     'upsample': {'layout': 'X'},\n",
    "                     'blocks': {'base': DenseNet.block,\n",
    "                                'num_layers': [2, 2, 2],\n",
    "                                'growth_rate': 2,\n",
    "                                'skip': False}},\n",
    "}\n",
    "\n",
    "ppl = run('segmentation', EncoderDecoder, config, 'encoder-decoder with ResNet blocks, DenseNet blocks')"
   ]
  }
 ],
 "metadata": {
  "kernelspec": {
   "display_name": "Python 3",
   "language": "python",
   "name": "python3"
  },
  "language_info": {
   "codemirror_mode": {
    "name": "ipython",
    "version": 3
   },
   "file_extension": ".py",
   "mimetype": "text/x-python",
   "name": "python",
   "nbconvert_exporter": "python",
   "pygments_lexer": "ipython3",
   "version": "3.7.1"
  },
  "varInspector": {
   "cols": {
    "lenName": 16,
    "lenType": 16,
    "lenVar": 40
   },
   "kernels_config": {
    "python": {
     "delete_cmd_postfix": "",
     "delete_cmd_prefix": "del ",
     "library": "var_list.py",
     "varRefreshCmd": "print(var_dic_list())"
    },
    "r": {
     "delete_cmd_postfix": ") ",
     "delete_cmd_prefix": "rm(",
     "library": "var_list.r",
     "varRefreshCmd": "cat(var_dic_list()) "
    }
   },
   "types_to_exclude": [
    "module",
    "function",
    "builtin_function_or_method",
    "instance",
    "_Feature"
   ],
   "window_display": false
  }
 },
 "nbformat": 4,
 "nbformat_minor": 2
}
