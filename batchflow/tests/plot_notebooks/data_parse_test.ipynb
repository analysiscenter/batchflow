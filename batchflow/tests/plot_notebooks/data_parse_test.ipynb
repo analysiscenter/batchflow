{
 "cells": [
  {
   "cell_type": "code",
   "execution_count": null,
   "id": "5cdcc30f-3b82-4241-b315-b8f5f2fbb70c",
   "metadata": {
    "tags": []
   },
   "outputs": [],
   "source": [
    "%load_ext autoreload\n",
    "%autoreload 2"
   ]
  },
  {
   "cell_type": "code",
   "execution_count": null,
   "id": "d521cfe1-427a-44ea-8da4-945acfda77ca",
   "metadata": {
    "tags": []
   },
   "outputs": [],
   "source": [
    "# Necessary imports\n",
    "import sys\n",
    "import numpy as np\n",
    "\n",
    "sys.path.insert(0, '../..')\n",
    "from batchflow import Plot"
   ]
  },
  {
   "cell_type": "code",
   "execution_count": null,
   "id": "50666fb3-40ed-4c91-b78d-992a31ca6b3b",
   "metadata": {
    "tags": []
   },
   "outputs": [],
   "source": [
    "def nested_equal(a, b):\n",
    "    if len(a) != len(b):\n",
    "        return False\n",
    "\n",
    "    result = True\n",
    "\n",
    "    for a_item, b_item in zip(a, b):\n",
    "        if type(a_item) is not type(b_item):\n",
    "            return False\n",
    "        \n",
    "        if isinstance(a_item, (list, tuple)):\n",
    "            result_item = nested_equal(a_item, b_item)\n",
    "        elif isinstance(a_item, np.ndarray):\n",
    "            result_item = np.allclose(a_item, b_item)\n",
    "        else:\n",
    "            result_item = a_item == b_item\n",
    "\n",
    "        result = result and result_item\n",
    "        \n",
    "    return result"
   ]
  },
  {
   "cell_type": "markdown",
   "id": "ab2c0c30-ff47-496f-b816-a5b9b79f0774",
   "metadata": {
    "execution": {
     "iopub.execute_input": "2022-03-09T15:58:06.468745Z",
     "iopub.status.busy": "2022-03-09T15:58:06.467996Z",
     "iopub.status.idle": "2022-03-09T15:58:06.495059Z",
     "shell.execute_reply": "2022-03-09T15:58:06.494484Z",
     "shell.execute_reply.started": "2022-03-09T15:58:06.468695Z"
    },
    "tags": []
   },
   "source": [
    "#### single data item"
   ]
  },
  {
   "cell_type": "markdown",
   "id": "62071db0-3fd7-4135-a8db-b9425870c4f4",
   "metadata": {
    "tags": []
   },
   "source": [
    "##### `combine = 'overlay'`"
   ]
  },
  {
   "cell_type": "code",
   "execution_count": null,
   "id": "3de2af68-1cdb-49e4-8395-6d141564023a",
   "metadata": {
    "tags": []
   },
   "outputs": [],
   "source": [
    "combine = 'overlay'"
   ]
  },
  {
   "cell_type": "markdown",
   "id": "ff071582-c97c-43df-9079-8fb300290755",
   "metadata": {
    "tags": []
   },
   "source": [
    "###### data item is array"
   ]
  },
  {
   "cell_type": "code",
   "execution_count": null,
   "id": "cf753a3d-8eaa-4a4b-aa27-0d5f06ba0e6b",
   "metadata": {
    "tags": []
   },
   "outputs": [],
   "source": [
    "mode = 'image'\n",
    "array_2d = np.ones((2, 2))\n",
    "\n",
    "reference_data = [[array_2d]]\n",
    "parse = lambda data: Plot.parse_data(data, combine=combine, mode=mode)[0]"
   ]
  },
  {
   "cell_type": "code",
   "execution_count": null,
   "id": "c4a37ce0-52c6-4d92-b2ab-40c782b9ef37",
   "metadata": {
    "tags": []
   },
   "outputs": [],
   "source": [
    "# single\n",
    "input_data = array_2d\n",
    "result_data = parse(input_data)\n",
    "assert nested_equal(reference_data, result_data)"
   ]
  },
  {
   "cell_type": "code",
   "execution_count": null,
   "id": "19e9be0c-e0c8-4551-8a6c-61e55484a745",
   "metadata": {
    "tags": []
   },
   "outputs": [],
   "source": [
    "# list\n",
    "input_data = [array_2d]\n",
    "result_data = parse(input_data)\n",
    "assert nested_equal(reference_data, result_data)"
   ]
  },
  {
   "cell_type": "code",
   "execution_count": null,
   "id": "4db08120-9bfe-4ae9-a7bd-090dbebaf2ed",
   "metadata": {
    "tags": []
   },
   "outputs": [],
   "source": [
    "# nested list\n",
    "input_data = [[array_2d]]\n",
    "result_data = parse(input_data)\n",
    "assert nested_equal(reference_data, result_data)"
   ]
  },
  {
   "cell_type": "markdown",
   "id": "44d73423-a03c-4005-8c8d-df9339310271",
   "metadata": {
    "tags": []
   },
   "source": [
    "###### data item is list of number"
   ]
  },
  {
   "cell_type": "code",
   "execution_count": null,
   "id": "61967ac0-14a0-49d5-b8a5-5f148472d21f",
   "metadata": {
    "tags": []
   },
   "outputs": [],
   "source": [
    "mode = 'curve'\n",
    "numbers_list = [1, 2, 3]\n",
    "\n",
    "reference_data = [[np.array(numbers_list)]]\n",
    "parse = lambda data: Plot.parse_data(data, combine=combine, mode=mode)[0]"
   ]
  },
  {
   "cell_type": "code",
   "execution_count": null,
   "id": "bc220ca2-46bc-43eb-a886-7b3a5deb3b18",
   "metadata": {
    "tags": []
   },
   "outputs": [],
   "source": [
    "# single\n",
    "input_data = numbers_list\n",
    "result_data = parse(input_data)\n",
    "assert nested_equal(reference_data, result_data)"
   ]
  },
  {
   "cell_type": "code",
   "execution_count": null,
   "id": "8b2df67a-ebe5-4e9e-b6b2-4cb32e9a5cba",
   "metadata": {
    "tags": []
   },
   "outputs": [],
   "source": [
    "# list\n",
    "input_data = [numbers_list]\n",
    "result_data = parse(input_data)\n",
    "assert nested_equal(reference_data, result_data)"
   ]
  },
  {
   "cell_type": "code",
   "execution_count": null,
   "id": "f28bcdad-44d4-412d-b195-c04696296f28",
   "metadata": {
    "tags": []
   },
   "outputs": [],
   "source": [
    "# nested list\n",
    "input_data = [[numbers_list]]\n",
    "result_data = parse(input_data)\n",
    "assert nested_equal(reference_data, result_data)"
   ]
  },
  {
   "cell_type": "markdown",
   "id": "816e985e-e9d4-4add-bfdf-46ed3500c4f9",
   "metadata": {
    "tags": []
   },
   "source": [
    "###### data item is tuple of array"
   ]
  },
  {
   "cell_type": "code",
   "execution_count": null,
   "id": "21eda731-4608-4bc1-b617-914439e090d7",
   "metadata": {
    "tags": []
   },
   "outputs": [],
   "source": [
    "mode = 'curve'\n",
    "tuple_array = (np.ones(10),)\n",
    "\n",
    "reference_data = [[tuple_array]]\n",
    "parse = lambda data: Plot.parse_data(data, combine=combine, mode=mode)[0]"
   ]
  },
  {
   "cell_type": "code",
   "execution_count": null,
   "id": "8e7880c8-688e-4ad0-8074-d6740a08252d",
   "metadata": {
    "tags": []
   },
   "outputs": [],
   "source": [
    "# single\n",
    "input_data = tuple_array\n",
    "result_data = parse(input_data)\n",
    "assert nested_equal(reference_data, result_data)"
   ]
  },
  {
   "cell_type": "code",
   "execution_count": null,
   "id": "da686b09-4030-4da2-9365-09c1596549b8",
   "metadata": {
    "tags": []
   },
   "outputs": [],
   "source": [
    "# list\n",
    "input_data = [tuple_array]\n",
    "result_data = parse(input_data)\n",
    "assert nested_equal(reference_data, result_data)"
   ]
  },
  {
   "cell_type": "code",
   "execution_count": null,
   "id": "52fe0fea-2c7c-47af-b901-3c121db762e2",
   "metadata": {
    "tags": []
   },
   "outputs": [],
   "source": [
    "# nested list\n",
    "input_data = [[tuple_array]]\n",
    "result_data = parse(input_data)\n",
    "assert nested_equal(reference_data, result_data)"
   ]
  },
  {
   "cell_type": "markdown",
   "id": "86321718-8829-4bbb-b216-805d49ba7f83",
   "metadata": {
    "tags": []
   },
   "source": [
    "###### data item is tuple of list of number"
   ]
  },
  {
   "cell_type": "code",
   "execution_count": null,
   "id": "15ddf96b-84aa-485d-84ad-00a9f8403b24",
   "metadata": {
    "tags": []
   },
   "outputs": [],
   "source": [
    "mode = 'curve'\n",
    "tuple_list = (numbers_list,)\n",
    "\n",
    "reference_data = [[(np.array(numbers_list),)]]\n",
    "parse = lambda data, mode='curve': Plot.parse_data(data, combine=combine, mode=mode)[0]"
   ]
  },
  {
   "cell_type": "code",
   "execution_count": null,
   "id": "498db4e3-7690-4ad3-97e9-e79014aa25a1",
   "metadata": {
    "tags": []
   },
   "outputs": [],
   "source": [
    "# single\n",
    "input_data = tuple_list\n",
    "result_data = parse(input_data)\n",
    "assert nested_equal(reference_data, result_data)"
   ]
  },
  {
   "cell_type": "code",
   "execution_count": null,
   "id": "28a09e2e-98db-4d91-9468-1062a7fb0bb0",
   "metadata": {
    "tags": []
   },
   "outputs": [],
   "source": [
    "# list\n",
    "input_data = [tuple_list]\n",
    "result_data = parse(input_data)\n",
    "assert nested_equal(reference_data, result_data)"
   ]
  },
  {
   "cell_type": "code",
   "execution_count": null,
   "id": "13027403-d7e3-403e-a1bb-cf5b7f098602",
   "metadata": {
    "tags": []
   },
   "outputs": [],
   "source": [
    "# nested list\n",
    "input_data = [[tuple_list]]\n",
    "result_data = parse(input_data)\n",
    "assert nested_equal(reference_data, result_data)"
   ]
  },
  {
   "cell_type": "markdown",
   "id": "042411f5-a0e1-4902-a251-577e64eaceb9",
   "metadata": {
    "tags": []
   },
   "source": [
    "##### `combine = separate`"
   ]
  },
  {
   "cell_type": "code",
   "execution_count": null,
   "id": "9e367929-72e5-4280-a07e-1a732a1dbad2",
   "metadata": {
    "tags": []
   },
   "outputs": [],
   "source": [
    "combine = 'separate'"
   ]
  },
  {
   "cell_type": "markdown",
   "id": "22538b2e-26b2-4954-837e-a4680075f574",
   "metadata": {
    "tags": []
   },
   "source": [
    "###### data item is array_2d"
   ]
  },
  {
   "cell_type": "code",
   "execution_count": null,
   "id": "de7db654-f54d-40cb-b970-57c8ada3fa28",
   "metadata": {
    "tags": []
   },
   "outputs": [],
   "source": [
    "mode = 'image'\n",
    "array_2d = np.ones((2, 2))\n",
    "\n",
    "reference_data = [[array_2d]]\n",
    "parse = lambda data: Plot.parse_data(data, combine=combine, mode=mode)[0]"
   ]
  },
  {
   "cell_type": "code",
   "execution_count": null,
   "id": "77f942ac-ddde-4456-9455-29ba18d5a375",
   "metadata": {
    "tags": []
   },
   "outputs": [],
   "source": [
    "# single\n",
    "input_data = array_2d\n",
    "result_data = parse(input_data)\n",
    "assert nested_equal(reference_data, result_data)"
   ]
  },
  {
   "cell_type": "code",
   "execution_count": null,
   "id": "ac266eb5-0813-4c65-bf47-6a9a296f3698",
   "metadata": {
    "tags": []
   },
   "outputs": [],
   "source": [
    "# list\n",
    "input_data = [array_2d]\n",
    "result_data = parse(input_data)\n",
    "assert nested_equal(reference_data, result_data)"
   ]
  },
  {
   "cell_type": "markdown",
   "id": "7def50cd-c03b-4221-b31c-cf62de66555f",
   "metadata": {
    "tags": []
   },
   "source": [
    "###### data item is list of number"
   ]
  },
  {
   "cell_type": "code",
   "execution_count": null,
   "id": "74c65cbb-4234-42cd-89c4-a75540913934",
   "metadata": {
    "tags": []
   },
   "outputs": [],
   "source": [
    "mode = 'curve'\n",
    "numbers_list = [1, 2, 3]\n",
    "\n",
    "reference_data = [[np.array(numbers_list)]]\n",
    "parse = lambda data: Plot.parse_data(data, combine=combine, mode=mode)[0]"
   ]
  },
  {
   "cell_type": "code",
   "execution_count": null,
   "id": "43915ee1-ae55-472e-891a-ba853e82b39d",
   "metadata": {
    "tags": []
   },
   "outputs": [],
   "source": [
    "# single\n",
    "input_data = numbers_list\n",
    "result_data = parse(input_data)\n",
    "assert nested_equal(reference_data, result_data)"
   ]
  },
  {
   "cell_type": "code",
   "execution_count": null,
   "id": "4c8c81a0-2347-44bc-9d38-7da71a56e089",
   "metadata": {
    "tags": []
   },
   "outputs": [],
   "source": [
    "# list\n",
    "input_data = [numbers_list]\n",
    "result_data = parse(input_data)\n",
    "assert nested_equal(reference_data, result_data)"
   ]
  },
  {
   "cell_type": "code",
   "execution_count": null,
   "id": "14ae266b-86f5-47c6-83f4-5f3031726159",
   "metadata": {},
   "outputs": [],
   "source": [
    "# nested list\n",
    "input_data = [[numbers_list]]\n",
    "result_data = parse(input_data)\n",
    "assert nested_equal(reference_data, result_data)"
   ]
  },
  {
   "cell_type": "markdown",
   "id": "f0ca8091-c66a-4bba-b9bf-3c94eea67b48",
   "metadata": {
    "tags": []
   },
   "source": [
    "###### data item is tuple of array"
   ]
  },
  {
   "cell_type": "code",
   "execution_count": null,
   "id": "5beb0e8c-dd8d-4877-98a2-77ea6bd518d6",
   "metadata": {
    "tags": []
   },
   "outputs": [],
   "source": [
    "mode = 'curve'\n",
    "tuple_array = (np.ones(10),)\n",
    "\n",
    "reference_data = [[tuple_array]]\n",
    "parse = lambda data: Plot.parse_data(data, combine=combine, mode=mode)[0]"
   ]
  },
  {
   "cell_type": "code",
   "execution_count": null,
   "id": "e8d3cd23-ddae-42ac-8b46-4bc440243ee1",
   "metadata": {
    "tags": []
   },
   "outputs": [],
   "source": [
    "# single\n",
    "input_data = tuple_array\n",
    "result_data = parse(input_data)\n",
    "assert nested_equal(reference_data, result_data)"
   ]
  },
  {
   "cell_type": "code",
   "execution_count": null,
   "id": "beb75c71-b887-42a0-bf09-75653045c813",
   "metadata": {
    "tags": []
   },
   "outputs": [],
   "source": [
    "# list\n",
    "input_data = [tuple_array]\n",
    "result_data = parse(input_data)\n",
    "assert nested_equal(reference_data, result_data)"
   ]
  },
  {
   "cell_type": "code",
   "execution_count": null,
   "id": "9f24fabc-77d4-45df-8a0c-52a588906283",
   "metadata": {},
   "outputs": [],
   "source": [
    "# nested list\n",
    "input_data = [[tuple_array]]\n",
    "result_data = parse(input_data)\n",
    "assert nested_equal(reference_data, result_data)"
   ]
  },
  {
   "cell_type": "markdown",
   "id": "0453ebf5-cfbb-43ef-b7ab-82908c0094b3",
   "metadata": {
    "execution": {
     "iopub.execute_input": "2022-03-09T16:25:09.228343Z",
     "iopub.status.busy": "2022-03-09T16:25:09.227920Z",
     "iopub.status.idle": "2022-03-09T16:25:09.255776Z",
     "shell.execute_reply": "2022-03-09T16:25:09.255166Z",
     "shell.execute_reply.started": "2022-03-09T16:25:09.228293Z"
    },
    "tags": []
   },
   "source": [
    "###### data item is tuple of list of number"
   ]
  },
  {
   "cell_type": "code",
   "execution_count": null,
   "id": "3340c505-5a38-4aa1-9f16-39af37b748e0",
   "metadata": {
    "tags": []
   },
   "outputs": [],
   "source": [
    "mode = 'curve'\n",
    "tuple_list = (numbers_list,)\n",
    "\n",
    "reference_data = [[(np.array(numbers_list),)]]\n",
    "parse = lambda data: Plot.parse_data(data, combine=combine, mode=mode)[0]"
   ]
  },
  {
   "cell_type": "code",
   "execution_count": null,
   "id": "429cbfc4-bbda-429e-b1ba-3bb2d971c238",
   "metadata": {
    "tags": []
   },
   "outputs": [],
   "source": [
    "# single\n",
    "input_data = tuple_list\n",
    "result_data = parse(input_data)\n",
    "assert nested_equal(reference_data, result_data)"
   ]
  },
  {
   "cell_type": "code",
   "execution_count": null,
   "id": "247a9587-874a-480f-9eb9-6d288bbaccec",
   "metadata": {
    "tags": []
   },
   "outputs": [],
   "source": [
    "# list\n",
    "input_data = [tuple_list]\n",
    "result_data = parse(input_data)\n",
    "assert nested_equal(reference_data, result_data)"
   ]
  },
  {
   "cell_type": "code",
   "execution_count": null,
   "id": "43db9b11-93b7-4cbe-a50e-c6a87be19ddc",
   "metadata": {},
   "outputs": [],
   "source": [
    "# nested list\n",
    "input_data = [[tuple_list]]\n",
    "result_data = parse(input_data)\n",
    "assert nested_equal(reference_data, result_data)"
   ]
  },
  {
   "cell_type": "markdown",
   "id": "4f43f156-9424-4a44-9196-a27197da62e5",
   "metadata": {
    "tags": []
   },
   "source": [
    "#### two data items"
   ]
  },
  {
   "cell_type": "markdown",
   "id": "c2a598c1-6605-4c26-a1fc-90b913378a5c",
   "metadata": {
    "tags": []
   },
   "source": [
    "##### `combine=overlay`"
   ]
  },
  {
   "cell_type": "code",
   "execution_count": null,
   "id": "52b71151-37d1-4348-86fd-a8fc8b1d4572",
   "metadata": {
    "tags": []
   },
   "outputs": [],
   "source": [
    "combine = 'overlay'"
   ]
  },
  {
   "cell_type": "markdown",
   "id": "863b3e4f-e468-4a69-bfe6-d1be9ff5a1d9",
   "metadata": {
    "tags": []
   },
   "source": [
    "###### data items are two arrays"
   ]
  },
  {
   "cell_type": "code",
   "execution_count": null,
   "id": "89973a64-345f-4c41-a4f8-17383e6f182a",
   "metadata": {
    "tags": []
   },
   "outputs": [],
   "source": [
    "array_2d = np.ones((2, 2))\n",
    "mode = 'image'\n",
    "\n",
    "reference_data = [[array_2d, array_2d]]\n",
    "parse = lambda data: Plot.parse_data(data, combine=combine, mode=mode)[0]"
   ]
  },
  {
   "cell_type": "code",
   "execution_count": null,
   "id": "2a911dab-1be3-4ced-8bcf-667ff60c097b",
   "metadata": {
    "tags": []
   },
   "outputs": [],
   "source": [
    "# list\n",
    "input_data = [array_2d, array_2d]\n",
    "result_data = parse(input_data)\n",
    "assert nested_equal(reference_data, result_data)"
   ]
  },
  {
   "cell_type": "code",
   "execution_count": null,
   "id": "7c11249b-7234-4308-a933-2f90485f060a",
   "metadata": {
    "tags": []
   },
   "outputs": [],
   "source": [
    "# nested list\n",
    "input_data = [[array_2d, array_2d]]\n",
    "result_data = parse(input_data)\n",
    "assert nested_equal(reference_data, result_data)"
   ]
  },
  {
   "cell_type": "markdown",
   "id": "8161ad1c-9a6b-4457-aabb-56bd4b95a8ad",
   "metadata": {
    "tags": []
   },
   "source": [
    "###### data items are two lists of number"
   ]
  },
  {
   "cell_type": "code",
   "execution_count": null,
   "id": "f6af3745-9ebb-4f77-8291-61d121d94064",
   "metadata": {
    "tags": []
   },
   "outputs": [],
   "source": [
    "mode = 'curve'\n",
    "numbers_list = [1, 2, 3]\n",
    "\n",
    "reference_data = [[np.array(numbers_list), np.array(numbers_list)]]\n",
    "parse = lambda data: Plot.parse_data(data, combine=combine, mode=mode)[0]"
   ]
  },
  {
   "cell_type": "code",
   "execution_count": null,
   "id": "9ade0a32-7b18-48bb-be4f-6e5bd623d09e",
   "metadata": {
    "tags": []
   },
   "outputs": [],
   "source": [
    "# list\n",
    "input_data = [numbers_list, numbers_list]\n",
    "result_data = parse(input_data)\n",
    "assert nested_equal(reference_data, result_data)"
   ]
  },
  {
   "cell_type": "code",
   "execution_count": null,
   "id": "f0dc4068-6f38-4f88-a27a-0017a4e62a18",
   "metadata": {
    "tags": []
   },
   "outputs": [],
   "source": [
    "# nested list\n",
    "input_data = [[numbers_list, numbers_list]]\n",
    "result_data = parse(input_data)\n",
    "assert nested_equal(reference_data, result_data)"
   ]
  },
  {
   "cell_type": "markdown",
   "id": "51fca225-44e9-411f-b81d-e1a349a0fb6c",
   "metadata": {
    "tags": []
   },
   "source": [
    "###### data items are tuples of array"
   ]
  },
  {
   "cell_type": "code",
   "execution_count": null,
   "id": "ea5c0a00-b682-4cee-98c2-56099d34f024",
   "metadata": {
    "tags": []
   },
   "outputs": [],
   "source": [
    "mode = 'curve'\n",
    "tuple_array = (np.ones(10),)\n",
    "\n",
    "reference_data = [[tuple_array, tuple_array]]\n",
    "parse = lambda data: Plot.parse_data(data, combine=combine, mode=mode)[0]"
   ]
  },
  {
   "cell_type": "code",
   "execution_count": null,
   "id": "61bfe431-3103-410a-b36e-64b838f60207",
   "metadata": {
    "tags": []
   },
   "outputs": [],
   "source": [
    "# list\n",
    "input_data = [tuple_array, tuple_array]\n",
    "result_data = parse(input_data)\n",
    "assert nested_equal(reference_data, result_data)"
   ]
  },
  {
   "cell_type": "code",
   "execution_count": null,
   "id": "158adc92-e65e-44bd-a6dc-786ef5ede3b8",
   "metadata": {
    "tags": []
   },
   "outputs": [],
   "source": [
    "# nested list\n",
    "input_data = [[tuple_array, tuple_array]]\n",
    "result_data = parse(input_data)\n",
    "assert nested_equal(reference_data, result_data)"
   ]
  },
  {
   "cell_type": "markdown",
   "id": "3b93a63b-0257-4608-9596-8b38a5eed8b7",
   "metadata": {
    "tags": []
   },
   "source": [
    "###### data items are tuples of list of number"
   ]
  },
  {
   "cell_type": "code",
   "execution_count": null,
   "id": "888dfbad-150d-4e60-aa2b-656a4d3255eb",
   "metadata": {
    "tags": []
   },
   "outputs": [],
   "source": [
    "mode = 'curve'\n",
    "tuple_list = (numbers_list,)\n",
    "\n",
    "reference_data = [[(np.array(numbers_list), ), (np.array(numbers_list), )]]\n",
    "parse = lambda data: Plot.parse_data(data, combine=combine, mode=mode)[0]"
   ]
  },
  {
   "cell_type": "code",
   "execution_count": null,
   "id": "962786a4-cb7d-4fe4-8b6d-bbde1c31735e",
   "metadata": {
    "tags": []
   },
   "outputs": [],
   "source": [
    "# list\n",
    "input_data = [tuple_list, tuple_list]\n",
    "result_data = parse(input_data)\n",
    "assert nested_equal(reference_data, result_data)"
   ]
  },
  {
   "cell_type": "code",
   "execution_count": null,
   "id": "07fd215f-d306-4ce5-b3c5-300777ff939b",
   "metadata": {
    "tags": []
   },
   "outputs": [],
   "source": [
    "# nested list\n",
    "input_data = [[tuple_list, tuple_list]]\n",
    "result_data = parse(input_data)\n",
    "assert nested_equal(reference_data, result_data)"
   ]
  },
  {
   "cell_type": "markdown",
   "id": "dfa0c3aa-30b9-4c73-b4a7-6942a5d816ca",
   "metadata": {
    "tags": []
   },
   "source": [
    "##### `combine=separate`"
   ]
  },
  {
   "cell_type": "code",
   "execution_count": null,
   "id": "0129427c-90cc-434f-91c5-e2b0d6710f2b",
   "metadata": {
    "tags": []
   },
   "outputs": [],
   "source": [
    "combine = 'separate'"
   ]
  },
  {
   "cell_type": "markdown",
   "id": "2355e365-4bdd-4764-b8b5-b3d4c425c075",
   "metadata": {
    "tags": []
   },
   "source": [
    "###### data items are two arrays"
   ]
  },
  {
   "cell_type": "code",
   "execution_count": null,
   "id": "5c23f8c2-c033-4134-bd10-f3371b8c8dc3",
   "metadata": {
    "tags": []
   },
   "outputs": [],
   "source": [
    "mode = 'image'\n",
    "array_2d = np.ones((2, 2))\n",
    "\n",
    "reference_data = [[array_2d], [array_2d]]\n",
    "parse = lambda data: Plot.parse_data(data, combine=combine, mode=mode)[0]"
   ]
  },
  {
   "cell_type": "code",
   "execution_count": null,
   "id": "e4618c13-3c70-410e-9815-d647aa719b50",
   "metadata": {
    "tags": []
   },
   "outputs": [],
   "source": [
    "# list\n",
    "input_data = [array_2d, array_2d]\n",
    "result_data = parse(input_data)\n",
    "assert nested_equal(reference_data, result_data)"
   ]
  },
  {
   "cell_type": "code",
   "execution_count": null,
   "id": "fc740fc2-f5f0-4f64-93e5-f8d4abc55732",
   "metadata": {
    "tags": []
   },
   "outputs": [],
   "source": [
    "# nested list\n",
    "input_data = [[array_2d], [array_2d]]\n",
    "result_data = parse(input_data)\n",
    "assert nested_equal(reference_data, result_data)"
   ]
  },
  {
   "cell_type": "markdown",
   "id": "d1ac48db-1bf4-4cc1-9280-c5aff8455dfa",
   "metadata": {
    "tags": []
   },
   "source": [
    "###### data items are two lists of number"
   ]
  },
  {
   "cell_type": "code",
   "execution_count": null,
   "id": "ec11f3e3-d999-4d6e-b6de-2ebb88c5d069",
   "metadata": {
    "tags": []
   },
   "outputs": [],
   "source": [
    "mode = 'curve'\n",
    "numbers_list = [1, 2, 3]\n",
    "\n",
    "reference_data = [[np.array(numbers_list)], [np.array(numbers_list)]]\n",
    "parse = lambda data: Plot.parse_data(data, combine=combine, mode=mode)[0]"
   ]
  },
  {
   "cell_type": "code",
   "execution_count": null,
   "id": "a338c5ee-e134-4b16-a749-b2e0fce0d423",
   "metadata": {
    "tags": []
   },
   "outputs": [],
   "source": [
    "# list\n",
    "input_data = [numbers_list, numbers_list]\n",
    "result_data = parse(input_data)\n",
    "assert nested_equal(reference_data, result_data)"
   ]
  },
  {
   "cell_type": "code",
   "execution_count": null,
   "id": "7fd36d70-a9ab-46b0-8da2-7238410fe502",
   "metadata": {},
   "outputs": [],
   "source": [
    "# nested list\n",
    "input_data = [[numbers_list], [numbers_list]]\n",
    "result_data = parse(input_data)\n",
    "assert nested_equal(reference_data, result_data)"
   ]
  },
  {
   "cell_type": "markdown",
   "id": "26a66e58-65ac-436c-aa84-39fd889bd498",
   "metadata": {
    "tags": []
   },
   "source": [
    "###### data items are tuples of array"
   ]
  },
  {
   "cell_type": "code",
   "execution_count": null,
   "id": "d19dab5b-331c-42e1-a8f4-706ae930b12b",
   "metadata": {
    "tags": []
   },
   "outputs": [],
   "source": [
    "mode = 'curve'\n",
    "tuple_array = (np.ones(10),)\n",
    "\n",
    "reference_data = [[tuple_array], [tuple_array]]\n",
    "parse = lambda data: Plot.parse_data(data, combine=combine, mode=mode)[0]"
   ]
  },
  {
   "cell_type": "code",
   "execution_count": null,
   "id": "bf27de74-3f02-41b4-8d1a-baa8cef4274a",
   "metadata": {
    "tags": []
   },
   "outputs": [],
   "source": [
    "# list\n",
    "input_data = [tuple_array, tuple_array]\n",
    "result_data = parse(input_data)\n",
    "assert nested_equal(reference_data, result_data)"
   ]
  },
  {
   "cell_type": "code",
   "execution_count": null,
   "id": "ee85a791-6012-43e1-9cf3-2ff8956ffcf7",
   "metadata": {},
   "outputs": [],
   "source": [
    "# nested list\n",
    "input_data = [[tuple_array], [tuple_array]]\n",
    "result_data = parse(input_data)\n",
    "assert nested_equal(reference_data, result_data)"
   ]
  },
  {
   "cell_type": "markdown",
   "id": "9e0648e5-f32f-41f6-9c03-e86cd16e3fc0",
   "metadata": {
    "tags": []
   },
   "source": [
    "###### data items are tuples of list of number"
   ]
  },
  {
   "cell_type": "code",
   "execution_count": null,
   "id": "32a24f68-a7b1-49c2-afd5-307f73a46527",
   "metadata": {
    "tags": []
   },
   "outputs": [],
   "source": [
    "mode = 'curve'\n",
    "tuple_array = (np.ones(10),)\n",
    "\n",
    "reference_data = [[tuple_array], [tuple_array]]\n",
    "parse = lambda data: Plot.parse_data(data, combine=combine, mode=mode)[0]"
   ]
  },
  {
   "cell_type": "code",
   "execution_count": null,
   "id": "8d8c5689-98e9-4b33-8e14-8c0ad14cab94",
   "metadata": {
    "tags": []
   },
   "outputs": [],
   "source": [
    "# list\n",
    "input_data = [tuple_array, tuple_array]\n",
    "result_data = parse(input_data)\n",
    "assert nested_equal(reference_data, result_data)"
   ]
  },
  {
   "cell_type": "code",
   "execution_count": null,
   "id": "7c18ac59-b6fc-465c-a8d2-6193155a2273",
   "metadata": {},
   "outputs": [],
   "source": [
    "# nested list\n",
    "input_data = [[tuple_array], [tuple_array]]\n",
    "result_data = parse(input_data)\n",
    "assert nested_equal(reference_data, result_data)"
   ]
  },
  {
   "cell_type": "markdown",
   "id": "774b6b34-0127-4383-8480-ea91eddfbfd4",
   "metadata": {
    "execution": {
     "iopub.execute_input": "2022-03-10T14:28:39.565223Z",
     "iopub.status.busy": "2022-03-10T14:28:39.564787Z",
     "iopub.status.idle": "2022-03-10T14:28:39.776224Z",
     "shell.execute_reply": "2022-03-10T14:28:39.775509Z",
     "shell.execute_reply.started": "2022-03-10T14:28:39.565174Z"
    }
   },
   "source": [
    "#### multiple data items"
   ]
  },
  {
   "cell_type": "code",
   "execution_count": null,
   "id": "49d1e181-961b-423c-94ad-952504ab75a9",
   "metadata": {},
   "outputs": [],
   "source": [
    "combine = 'mixed'"
   ]
  },
  {
   "cell_type": "code",
   "execution_count": null,
   "id": "aa4a6ec3-9e93-461f-b77e-1f41e1ca1d82",
   "metadata": {
    "tags": []
   },
   "outputs": [],
   "source": [
    "mode = 'image'\n",
    "array_2d = np.array((2, 2))\n",
    "\n",
    "reference_data = [[array_2d], [array_2d, array_2d]]\n",
    "parse = lambda data: Plot.parse_data(data, combine=combine, mode=mode)[0] "
   ]
  },
  {
   "cell_type": "code",
   "execution_count": null,
   "id": "7d8239ea-0a3e-470f-a6f6-c7168956dd64",
   "metadata": {
    "tags": []
   },
   "outputs": [],
   "source": [
    "input_data = [array_2d, [array_2d, array_2d]]\n",
    "result_data = parse(input_data)\n",
    "assert nested_equal(reference_data, result_data)"
   ]
  }
 ],
 "metadata": {
  "kernelspec": {
   "display_name": "Python 3 (ipykernel)",
   "language": "python",
   "name": "python3"
  },
  "language_info": {
   "codemirror_mode": {
    "name": "ipython",
    "version": 3
   },
   "file_extension": ".py",
   "mimetype": "text/x-python",
   "name": "python",
   "nbconvert_exporter": "python",
   "pygments_lexer": "ipython3",
   "version": "3.8.10"
  },
  "widgets": {
   "application/vnd.jupyter.widget-state+json": {
    "state": {},
    "version_major": 2,
    "version_minor": 0
   }
  }
 },
 "nbformat": 4,
 "nbformat_minor": 5
}
